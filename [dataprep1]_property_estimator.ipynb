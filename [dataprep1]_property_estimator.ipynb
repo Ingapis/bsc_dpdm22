{
  "nbformat": 4,
  "nbformat_minor": 0,
  "metadata": {
    "colab": {
      "provenance": [],
      "toc_visible": true,
      "include_colab_link": true
    },
    "kernelspec": {
      "name": "python3",
      "display_name": "Python 3"
    },
    "language_info": {
      "name": "python"
    }
  },
  "cells": [
    {
      "cell_type": "markdown",
      "metadata": {
        "id": "view-in-github",
        "colab_type": "text"
      },
      "source": [
        "<a href=\"https://colab.research.google.com/github/Ingapis/bsc_dpdm22/blob/main/%5Bdataprep1%5D_property_estimator.ipynb\" target=\"_parent\"><img src=\"https://colab.research.google.com/assets/colab-badge.svg\" alt=\"Open In Colab\"/></a>"
      ]
    },
    {
      "cell_type": "code",
      "execution_count": 148,
      "metadata": {
        "id": "3fdDOOVoZork"
      },
      "outputs": [],
      "source": [
        "import pandas as pd\n",
        "import numpy as np\n",
        "from matplotlib import pyplot as plt\n",
        "import matplotlib"
      ]
    },
    {
      "cell_type": "code",
      "source": [
        "#from google.colab import drive \n",
        "#drive.mount('/content/gdrive')"
      ],
      "metadata": {
        "id": "qz-mCJpOZorm"
      },
      "execution_count": 149,
      "outputs": []
    },
    {
      "cell_type": "code",
      "source": [
        "#import os\n",
        "#os.chdir('/content/gdrive/MyDrive/bscdata')\n",
        "\n",
        "#!pwd #เช็ค paht ที่กำลังทำงานอยู่"
      ],
      "metadata": {
        "id": "27J_0RR7Zorn"
      },
      "execution_count": 150,
      "outputs": []
    },
    {
      "cell_type": "code",
      "source": [
        "# open file\n",
        "#datah = pd.read_excel('คำตอบนักประเมิน.xlsx',sheet_name=0)\n",
        "#print(datah.shape) # shown number of (row, column)\n",
        "#datah.head()"
      ],
      "metadata": {
        "id": "ZoOYjnQjZoro"
      },
      "execution_count": 151,
      "outputs": []
    },
    {
      "cell_type": "markdown",
      "source": [
        "# import ข้อมูล"
      ],
      "metadata": {
        "id": "BHvWUGwfROnW"
      }
    },
    {
      "cell_type": "code",
      "source": [
        "file = 'https://docs.google.com/spreadsheets/d/1jwzH1HKtjj4aZof34AKAKE0qPZMINwz6/export?format=xlsx'"
      ],
      "metadata": {
        "id": "FNL1gaA8LkwI"
      },
      "execution_count": 152,
      "outputs": []
    },
    {
      "cell_type": "markdown",
      "source": [
        "## House"
      ],
      "metadata": {
        "id": "SwtmFA1boLwL"
      }
    },
    {
      "cell_type": "code",
      "source": [
        "datah = pd.read_excel(file,sheet_name='บ้าน')"
      ],
      "metadata": {
        "id": "dgoWc7hDMMRF"
      },
      "execution_count": 153,
      "outputs": []
    },
    {
      "cell_type": "code",
      "source": [
        "datah['ID ผู้ประเมิน'].value_counts()"
      ],
      "metadata": {
        "id": "5MWRu5uTdUAW",
        "outputId": "aa5eaf75-7571-4cb4-8808-e54285083a19",
        "colab": {
          "base_uri": "https://localhost:8080/"
        }
      },
      "execution_count": 154,
      "outputs": [
        {
          "output_type": "execute_result",
          "data": {
            "text/plain": [
              "1    610\n",
              "2    610\n",
              "Name: ID ผู้ประเมิน, dtype: int64"
            ]
          },
          "metadata": {},
          "execution_count": 154
        }
      ]
    },
    {
      "cell_type": "code",
      "source": [
        "esthouse= datah[datah['ID ผู้ประเมิน']==1]"
      ],
      "metadata": {
        "id": "h5qlZLa3aOdz"
      },
      "execution_count": 155,
      "outputs": []
    },
    {
      "cell_type": "code",
      "source": [
        "data1 = esthouse[['ID ผู้ประเมิน','ความมั่นใจในการเมินราคาทรัพย์','ประเมินราคาซื้อ-ขาย','ให้คะแนนทรัพย์']]\n",
        "data1.head(5)"
      ],
      "metadata": {
        "id": "b7fj5ohad0kx",
        "outputId": "d73114ab-d3df-470a-ebad-bb4d6055d874",
        "colab": {
          "base_uri": "https://localhost:8080/",
          "height": 206
        }
      },
      "execution_count": 156,
      "outputs": [
        {
          "output_type": "execute_result",
          "data": {
            "text/plain": [
              "   ID ผู้ประเมิน ความมั่นใจในการเมินราคาทรัพย์  ประเมินราคาซื้อ-ขาย  \\\n",
              "0              1                        มั่นใจ            2500000.0   \n",
              "2              1                        มั่นใจ            2200000.0   \n",
              "4              1                        มั่นใจ            5000000.0   \n",
              "6              1                        มั่นใจ            3500000.0   \n",
              "8              1                        มั่นใจ            2500000.0   \n",
              "\n",
              "                       ให้คะแนนทรัพย์  \n",
              "0   3 ขายได้ ใช้ระยะเวลา 7 - 12 เดือน  \n",
              "2  2 ขายได้ยาก ใช้ระยะเวลามากว่า 1 ปี  \n",
              "4   3 ขายได้ ใช้ระยะเวลา 7 - 12 เดือน  \n",
              "6  2 ขายได้ยาก ใช้ระยะเวลามากว่า 1 ปี  \n",
              "8   3 ขายได้ ใช้ระยะเวลา 7 - 12 เดือน  "
            ],
            "text/html": [
              "\n",
              "  <div id=\"df-351b096c-5c9c-4673-ba4f-568f28a158be\">\n",
              "    <div class=\"colab-df-container\">\n",
              "      <div>\n",
              "<style scoped>\n",
              "    .dataframe tbody tr th:only-of-type {\n",
              "        vertical-align: middle;\n",
              "    }\n",
              "\n",
              "    .dataframe tbody tr th {\n",
              "        vertical-align: top;\n",
              "    }\n",
              "\n",
              "    .dataframe thead th {\n",
              "        text-align: right;\n",
              "    }\n",
              "</style>\n",
              "<table border=\"1\" class=\"dataframe\">\n",
              "  <thead>\n",
              "    <tr style=\"text-align: right;\">\n",
              "      <th></th>\n",
              "      <th>ID ผู้ประเมิน</th>\n",
              "      <th>ความมั่นใจในการเมินราคาทรัพย์</th>\n",
              "      <th>ประเมินราคาซื้อ-ขาย</th>\n",
              "      <th>ให้คะแนนทรัพย์</th>\n",
              "    </tr>\n",
              "  </thead>\n",
              "  <tbody>\n",
              "    <tr>\n",
              "      <th>0</th>\n",
              "      <td>1</td>\n",
              "      <td>มั่นใจ</td>\n",
              "      <td>2500000.0</td>\n",
              "      <td>3 ขายได้ ใช้ระยะเวลา 7 - 12 เดือน</td>\n",
              "    </tr>\n",
              "    <tr>\n",
              "      <th>2</th>\n",
              "      <td>1</td>\n",
              "      <td>มั่นใจ</td>\n",
              "      <td>2200000.0</td>\n",
              "      <td>2 ขายได้ยาก ใช้ระยะเวลามากว่า 1 ปี</td>\n",
              "    </tr>\n",
              "    <tr>\n",
              "      <th>4</th>\n",
              "      <td>1</td>\n",
              "      <td>มั่นใจ</td>\n",
              "      <td>5000000.0</td>\n",
              "      <td>3 ขายได้ ใช้ระยะเวลา 7 - 12 เดือน</td>\n",
              "    </tr>\n",
              "    <tr>\n",
              "      <th>6</th>\n",
              "      <td>1</td>\n",
              "      <td>มั่นใจ</td>\n",
              "      <td>3500000.0</td>\n",
              "      <td>2 ขายได้ยาก ใช้ระยะเวลามากว่า 1 ปี</td>\n",
              "    </tr>\n",
              "    <tr>\n",
              "      <th>8</th>\n",
              "      <td>1</td>\n",
              "      <td>มั่นใจ</td>\n",
              "      <td>2500000.0</td>\n",
              "      <td>3 ขายได้ ใช้ระยะเวลา 7 - 12 เดือน</td>\n",
              "    </tr>\n",
              "  </tbody>\n",
              "</table>\n",
              "</div>\n",
              "      <button class=\"colab-df-convert\" onclick=\"convertToInteractive('df-351b096c-5c9c-4673-ba4f-568f28a158be')\"\n",
              "              title=\"Convert this dataframe to an interactive table.\"\n",
              "              style=\"display:none;\">\n",
              "        \n",
              "  <svg xmlns=\"http://www.w3.org/2000/svg\" height=\"24px\"viewBox=\"0 0 24 24\"\n",
              "       width=\"24px\">\n",
              "    <path d=\"M0 0h24v24H0V0z\" fill=\"none\"/>\n",
              "    <path d=\"M18.56 5.44l.94 2.06.94-2.06 2.06-.94-2.06-.94-.94-2.06-.94 2.06-2.06.94zm-11 1L8.5 8.5l.94-2.06 2.06-.94-2.06-.94L8.5 2.5l-.94 2.06-2.06.94zm10 10l.94 2.06.94-2.06 2.06-.94-2.06-.94-.94-2.06-.94 2.06-2.06.94z\"/><path d=\"M17.41 7.96l-1.37-1.37c-.4-.4-.92-.59-1.43-.59-.52 0-1.04.2-1.43.59L10.3 9.45l-7.72 7.72c-.78.78-.78 2.05 0 2.83L4 21.41c.39.39.9.59 1.41.59.51 0 1.02-.2 1.41-.59l7.78-7.78 2.81-2.81c.8-.78.8-2.07 0-2.86zM5.41 20L4 18.59l7.72-7.72 1.47 1.35L5.41 20z\"/>\n",
              "  </svg>\n",
              "      </button>\n",
              "      \n",
              "  <style>\n",
              "    .colab-df-container {\n",
              "      display:flex;\n",
              "      flex-wrap:wrap;\n",
              "      gap: 12px;\n",
              "    }\n",
              "\n",
              "    .colab-df-convert {\n",
              "      background-color: #E8F0FE;\n",
              "      border: none;\n",
              "      border-radius: 50%;\n",
              "      cursor: pointer;\n",
              "      display: none;\n",
              "      fill: #1967D2;\n",
              "      height: 32px;\n",
              "      padding: 0 0 0 0;\n",
              "      width: 32px;\n",
              "    }\n",
              "\n",
              "    .colab-df-convert:hover {\n",
              "      background-color: #E2EBFA;\n",
              "      box-shadow: 0px 1px 2px rgba(60, 64, 67, 0.3), 0px 1px 3px 1px rgba(60, 64, 67, 0.15);\n",
              "      fill: #174EA6;\n",
              "    }\n",
              "\n",
              "    [theme=dark] .colab-df-convert {\n",
              "      background-color: #3B4455;\n",
              "      fill: #D2E3FC;\n",
              "    }\n",
              "\n",
              "    [theme=dark] .colab-df-convert:hover {\n",
              "      background-color: #434B5C;\n",
              "      box-shadow: 0px 1px 3px 1px rgba(0, 0, 0, 0.15);\n",
              "      filter: drop-shadow(0px 1px 2px rgba(0, 0, 0, 0.3));\n",
              "      fill: #FFFFFF;\n",
              "    }\n",
              "  </style>\n",
              "\n",
              "      <script>\n",
              "        const buttonEl =\n",
              "          document.querySelector('#df-351b096c-5c9c-4673-ba4f-568f28a158be button.colab-df-convert');\n",
              "        buttonEl.style.display =\n",
              "          google.colab.kernel.accessAllowed ? 'block' : 'none';\n",
              "\n",
              "        async function convertToInteractive(key) {\n",
              "          const element = document.querySelector('#df-351b096c-5c9c-4673-ba4f-568f28a158be');\n",
              "          const dataTable =\n",
              "            await google.colab.kernel.invokeFunction('convertToInteractive',\n",
              "                                                     [key], {});\n",
              "          if (!dataTable) return;\n",
              "\n",
              "          const docLinkHtml = 'Like what you see? Visit the ' +\n",
              "            '<a target=\"_blank\" href=https://colab.research.google.com/notebooks/data_table.ipynb>data table notebook</a>'\n",
              "            + ' to learn more about interactive tables.';\n",
              "          element.innerHTML = '';\n",
              "          dataTable['output_type'] = 'display_data';\n",
              "          await google.colab.output.renderOutput(dataTable, element);\n",
              "          const docLink = document.createElement('div');\n",
              "          docLink.innerHTML = docLinkHtml;\n",
              "          element.appendChild(docLink);\n",
              "        }\n",
              "      </script>\n",
              "    </div>\n",
              "  </div>\n",
              "  "
            ]
          },
          "metadata": {},
          "execution_count": 156
        }
      ]
    },
    {
      "cell_type": "code",
      "source": [
        "esthouse.describe()"
      ],
      "metadata": {
        "id": "VuWNSubzaypT",
        "outputId": "96762a92-a09a-40ec-8c02-936af2254741",
        "colab": {
          "base_uri": "https://localhost:8080/",
          "height": 300
        }
      },
      "execution_count": 157,
      "outputs": [
        {
          "output_type": "execute_result",
          "data": {
            "text/plain": [
              "       ID ผู้ประเมิน    ราคาทรัพย์  ประเมินราคาซื้อ-ขาย\n",
              "count          610.0  6.100000e+02         6.090000e+02\n",
              "mean             1.0  3.382782e+06         3.240345e+06\n",
              "std              0.0  5.000758e+06         4.692873e+06\n",
              "min              1.0  2.600000e+05         2.200000e+05\n",
              "25%              1.0  1.492500e+06         1.500000e+06\n",
              "50%              1.0  2.540000e+06         2.500000e+06\n",
              "75%              1.0  4.000000e+06         4.000000e+06\n",
              "max              1.0  1.039350e+08         1.000000e+08"
            ],
            "text/html": [
              "\n",
              "  <div id=\"df-3736ca24-aebe-4a18-b4a6-682816e5fb32\">\n",
              "    <div class=\"colab-df-container\">\n",
              "      <div>\n",
              "<style scoped>\n",
              "    .dataframe tbody tr th:only-of-type {\n",
              "        vertical-align: middle;\n",
              "    }\n",
              "\n",
              "    .dataframe tbody tr th {\n",
              "        vertical-align: top;\n",
              "    }\n",
              "\n",
              "    .dataframe thead th {\n",
              "        text-align: right;\n",
              "    }\n",
              "</style>\n",
              "<table border=\"1\" class=\"dataframe\">\n",
              "  <thead>\n",
              "    <tr style=\"text-align: right;\">\n",
              "      <th></th>\n",
              "      <th>ID ผู้ประเมิน</th>\n",
              "      <th>ราคาทรัพย์</th>\n",
              "      <th>ประเมินราคาซื้อ-ขาย</th>\n",
              "    </tr>\n",
              "  </thead>\n",
              "  <tbody>\n",
              "    <tr>\n",
              "      <th>count</th>\n",
              "      <td>610.0</td>\n",
              "      <td>6.100000e+02</td>\n",
              "      <td>6.090000e+02</td>\n",
              "    </tr>\n",
              "    <tr>\n",
              "      <th>mean</th>\n",
              "      <td>1.0</td>\n",
              "      <td>3.382782e+06</td>\n",
              "      <td>3.240345e+06</td>\n",
              "    </tr>\n",
              "    <tr>\n",
              "      <th>std</th>\n",
              "      <td>0.0</td>\n",
              "      <td>5.000758e+06</td>\n",
              "      <td>4.692873e+06</td>\n",
              "    </tr>\n",
              "    <tr>\n",
              "      <th>min</th>\n",
              "      <td>1.0</td>\n",
              "      <td>2.600000e+05</td>\n",
              "      <td>2.200000e+05</td>\n",
              "    </tr>\n",
              "    <tr>\n",
              "      <th>25%</th>\n",
              "      <td>1.0</td>\n",
              "      <td>1.492500e+06</td>\n",
              "      <td>1.500000e+06</td>\n",
              "    </tr>\n",
              "    <tr>\n",
              "      <th>50%</th>\n",
              "      <td>1.0</td>\n",
              "      <td>2.540000e+06</td>\n",
              "      <td>2.500000e+06</td>\n",
              "    </tr>\n",
              "    <tr>\n",
              "      <th>75%</th>\n",
              "      <td>1.0</td>\n",
              "      <td>4.000000e+06</td>\n",
              "      <td>4.000000e+06</td>\n",
              "    </tr>\n",
              "    <tr>\n",
              "      <th>max</th>\n",
              "      <td>1.0</td>\n",
              "      <td>1.039350e+08</td>\n",
              "      <td>1.000000e+08</td>\n",
              "    </tr>\n",
              "  </tbody>\n",
              "</table>\n",
              "</div>\n",
              "      <button class=\"colab-df-convert\" onclick=\"convertToInteractive('df-3736ca24-aebe-4a18-b4a6-682816e5fb32')\"\n",
              "              title=\"Convert this dataframe to an interactive table.\"\n",
              "              style=\"display:none;\">\n",
              "        \n",
              "  <svg xmlns=\"http://www.w3.org/2000/svg\" height=\"24px\"viewBox=\"0 0 24 24\"\n",
              "       width=\"24px\">\n",
              "    <path d=\"M0 0h24v24H0V0z\" fill=\"none\"/>\n",
              "    <path d=\"M18.56 5.44l.94 2.06.94-2.06 2.06-.94-2.06-.94-.94-2.06-.94 2.06-2.06.94zm-11 1L8.5 8.5l.94-2.06 2.06-.94-2.06-.94L8.5 2.5l-.94 2.06-2.06.94zm10 10l.94 2.06.94-2.06 2.06-.94-2.06-.94-.94-2.06-.94 2.06-2.06.94z\"/><path d=\"M17.41 7.96l-1.37-1.37c-.4-.4-.92-.59-1.43-.59-.52 0-1.04.2-1.43.59L10.3 9.45l-7.72 7.72c-.78.78-.78 2.05 0 2.83L4 21.41c.39.39.9.59 1.41.59.51 0 1.02-.2 1.41-.59l7.78-7.78 2.81-2.81c.8-.78.8-2.07 0-2.86zM5.41 20L4 18.59l7.72-7.72 1.47 1.35L5.41 20z\"/>\n",
              "  </svg>\n",
              "      </button>\n",
              "      \n",
              "  <style>\n",
              "    .colab-df-container {\n",
              "      display:flex;\n",
              "      flex-wrap:wrap;\n",
              "      gap: 12px;\n",
              "    }\n",
              "\n",
              "    .colab-df-convert {\n",
              "      background-color: #E8F0FE;\n",
              "      border: none;\n",
              "      border-radius: 50%;\n",
              "      cursor: pointer;\n",
              "      display: none;\n",
              "      fill: #1967D2;\n",
              "      height: 32px;\n",
              "      padding: 0 0 0 0;\n",
              "      width: 32px;\n",
              "    }\n",
              "\n",
              "    .colab-df-convert:hover {\n",
              "      background-color: #E2EBFA;\n",
              "      box-shadow: 0px 1px 2px rgba(60, 64, 67, 0.3), 0px 1px 3px 1px rgba(60, 64, 67, 0.15);\n",
              "      fill: #174EA6;\n",
              "    }\n",
              "\n",
              "    [theme=dark] .colab-df-convert {\n",
              "      background-color: #3B4455;\n",
              "      fill: #D2E3FC;\n",
              "    }\n",
              "\n",
              "    [theme=dark] .colab-df-convert:hover {\n",
              "      background-color: #434B5C;\n",
              "      box-shadow: 0px 1px 3px 1px rgba(0, 0, 0, 0.15);\n",
              "      filter: drop-shadow(0px 1px 2px rgba(0, 0, 0, 0.3));\n",
              "      fill: #FFFFFF;\n",
              "    }\n",
              "  </style>\n",
              "\n",
              "      <script>\n",
              "        const buttonEl =\n",
              "          document.querySelector('#df-3736ca24-aebe-4a18-b4a6-682816e5fb32 button.colab-df-convert');\n",
              "        buttonEl.style.display =\n",
              "          google.colab.kernel.accessAllowed ? 'block' : 'none';\n",
              "\n",
              "        async function convertToInteractive(key) {\n",
              "          const element = document.querySelector('#df-3736ca24-aebe-4a18-b4a6-682816e5fb32');\n",
              "          const dataTable =\n",
              "            await google.colab.kernel.invokeFunction('convertToInteractive',\n",
              "                                                     [key], {});\n",
              "          if (!dataTable) return;\n",
              "\n",
              "          const docLinkHtml = 'Like what you see? Visit the ' +\n",
              "            '<a target=\"_blank\" href=https://colab.research.google.com/notebooks/data_table.ipynb>data table notebook</a>'\n",
              "            + ' to learn more about interactive tables.';\n",
              "          element.innerHTML = '';\n",
              "          dataTable['output_type'] = 'display_data';\n",
              "          await google.colab.output.renderOutput(dataTable, element);\n",
              "          const docLink = document.createElement('div');\n",
              "          docLink.innerHTML = docLinkHtml;\n",
              "          element.appendChild(docLink);\n",
              "        }\n",
              "      </script>\n",
              "    </div>\n",
              "  </div>\n",
              "  "
            ]
          },
          "metadata": {},
          "execution_count": 157
        }
      ]
    },
    {
      "cell_type": "code",
      "source": [
        "esthouse['ให้คะแนนทรัพย์'].value_counts()"
      ],
      "metadata": {
        "id": "9l6qFtYsbOII",
        "outputId": "818e1883-58ea-402f-8224-5f90a5e19c66",
        "colab": {
          "base_uri": "https://localhost:8080/"
        }
      },
      "execution_count": 158,
      "outputs": [
        {
          "output_type": "execute_result",
          "data": {
            "text/plain": [
              "3 ขายได้ ใช้ระยะเวลา 7 - 12 เดือน     476\n",
              "2 ขายได้ยาก ใช้ระยะเวลามากว่า 1 ปี    126\n",
              "4 ขายได้ ใช้ระยะเวลา 4 - 6 เดือน        6\n",
              "1 ขายไม่ได้แน่นอน                       2\n",
              "Name: ให้คะแนนทรัพย์, dtype: int64"
            ]
          },
          "metadata": {},
          "execution_count": 158
        }
      ]
    },
    {
      "cell_type": "code",
      "source": [
        "esthouse['ความมั่นใจในการเมินราคาทรัพย์'].value_counts()"
      ],
      "metadata": {
        "colab": {
          "base_uri": "https://localhost:8080/"
        },
        "id": "kj4MRfqObebd",
        "outputId": "955e19cf-1fb2-42f2-9443-000613bec141"
      },
      "execution_count": 159,
      "outputs": [
        {
          "output_type": "execute_result",
          "data": {
            "text/plain": [
              "มั่นใจ    610\n",
              "Name: ความมั่นใจในการเมินราคาทรัพย์, dtype: int64"
            ]
          },
          "metadata": {},
          "execution_count": 159
        }
      ]
    },
    {
      "cell_type": "code",
      "source": [
        "esthouse2 = datah[datah['ID ผู้ประเมิน']==2]"
      ],
      "metadata": {
        "id": "K_0CG2LCeU55"
      },
      "execution_count": 160,
      "outputs": []
    },
    {
      "cell_type": "code",
      "source": [
        "data2 =esthouse2[['ID ผู้ประเมิน','ความมั่นใจในการเมินราคาทรัพย์','ประเมินราคาซื้อ-ขาย','ให้คะแนนทรัพย์']]\n",
        "data2.head(5)"
      ],
      "metadata": {
        "id": "q3MuJBOlecSP",
        "outputId": "8b9066c0-14a9-48d9-ddb1-50976d7c3e65",
        "colab": {
          "base_uri": "https://localhost:8080/",
          "height": 206
        }
      },
      "execution_count": 161,
      "outputs": [
        {
          "output_type": "execute_result",
          "data": {
            "text/plain": [
              "   ID ผู้ประเมิน ความมั่นใจในการเมินราคาทรัพย์  ประเมินราคาซื้อ-ขาย  \\\n",
              "1              2                        มั่นใจ            2700000.0   \n",
              "3              2                        มั่นใจ            2400000.0   \n",
              "5              2                        มั่นใจ            9000000.0   \n",
              "7              2                        มั่นใจ            3700000.0   \n",
              "9              2                        มั่นใจ            2500000.0   \n",
              "\n",
              "                      ให้คะแนนทรัพย์  \n",
              "1   4 ขายได้ ใช้ระยะเวลา 4 - 6 เดือน  \n",
              "3  3 ขายได้ ใช้ระยะเวลา 7 - 12 เดือน  \n",
              "5  5 ขายง่าย ใช้ระยะเวลา 1 - 3 เดือน  \n",
              "7  3 ขายได้ ใช้ระยะเวลา 7 - 12 เดือน  \n",
              "9  3 ขายได้ ใช้ระยะเวลา 7 - 12 เดือน  "
            ],
            "text/html": [
              "\n",
              "  <div id=\"df-b6eb82c5-9a2c-46d3-bfd1-cba2fd3289c5\">\n",
              "    <div class=\"colab-df-container\">\n",
              "      <div>\n",
              "<style scoped>\n",
              "    .dataframe tbody tr th:only-of-type {\n",
              "        vertical-align: middle;\n",
              "    }\n",
              "\n",
              "    .dataframe tbody tr th {\n",
              "        vertical-align: top;\n",
              "    }\n",
              "\n",
              "    .dataframe thead th {\n",
              "        text-align: right;\n",
              "    }\n",
              "</style>\n",
              "<table border=\"1\" class=\"dataframe\">\n",
              "  <thead>\n",
              "    <tr style=\"text-align: right;\">\n",
              "      <th></th>\n",
              "      <th>ID ผู้ประเมิน</th>\n",
              "      <th>ความมั่นใจในการเมินราคาทรัพย์</th>\n",
              "      <th>ประเมินราคาซื้อ-ขาย</th>\n",
              "      <th>ให้คะแนนทรัพย์</th>\n",
              "    </tr>\n",
              "  </thead>\n",
              "  <tbody>\n",
              "    <tr>\n",
              "      <th>1</th>\n",
              "      <td>2</td>\n",
              "      <td>มั่นใจ</td>\n",
              "      <td>2700000.0</td>\n",
              "      <td>4 ขายได้ ใช้ระยะเวลา 4 - 6 เดือน</td>\n",
              "    </tr>\n",
              "    <tr>\n",
              "      <th>3</th>\n",
              "      <td>2</td>\n",
              "      <td>มั่นใจ</td>\n",
              "      <td>2400000.0</td>\n",
              "      <td>3 ขายได้ ใช้ระยะเวลา 7 - 12 เดือน</td>\n",
              "    </tr>\n",
              "    <tr>\n",
              "      <th>5</th>\n",
              "      <td>2</td>\n",
              "      <td>มั่นใจ</td>\n",
              "      <td>9000000.0</td>\n",
              "      <td>5 ขายง่าย ใช้ระยะเวลา 1 - 3 เดือน</td>\n",
              "    </tr>\n",
              "    <tr>\n",
              "      <th>7</th>\n",
              "      <td>2</td>\n",
              "      <td>มั่นใจ</td>\n",
              "      <td>3700000.0</td>\n",
              "      <td>3 ขายได้ ใช้ระยะเวลา 7 - 12 เดือน</td>\n",
              "    </tr>\n",
              "    <tr>\n",
              "      <th>9</th>\n",
              "      <td>2</td>\n",
              "      <td>มั่นใจ</td>\n",
              "      <td>2500000.0</td>\n",
              "      <td>3 ขายได้ ใช้ระยะเวลา 7 - 12 เดือน</td>\n",
              "    </tr>\n",
              "  </tbody>\n",
              "</table>\n",
              "</div>\n",
              "      <button class=\"colab-df-convert\" onclick=\"convertToInteractive('df-b6eb82c5-9a2c-46d3-bfd1-cba2fd3289c5')\"\n",
              "              title=\"Convert this dataframe to an interactive table.\"\n",
              "              style=\"display:none;\">\n",
              "        \n",
              "  <svg xmlns=\"http://www.w3.org/2000/svg\" height=\"24px\"viewBox=\"0 0 24 24\"\n",
              "       width=\"24px\">\n",
              "    <path d=\"M0 0h24v24H0V0z\" fill=\"none\"/>\n",
              "    <path d=\"M18.56 5.44l.94 2.06.94-2.06 2.06-.94-2.06-.94-.94-2.06-.94 2.06-2.06.94zm-11 1L8.5 8.5l.94-2.06 2.06-.94-2.06-.94L8.5 2.5l-.94 2.06-2.06.94zm10 10l.94 2.06.94-2.06 2.06-.94-2.06-.94-.94-2.06-.94 2.06-2.06.94z\"/><path d=\"M17.41 7.96l-1.37-1.37c-.4-.4-.92-.59-1.43-.59-.52 0-1.04.2-1.43.59L10.3 9.45l-7.72 7.72c-.78.78-.78 2.05 0 2.83L4 21.41c.39.39.9.59 1.41.59.51 0 1.02-.2 1.41-.59l7.78-7.78 2.81-2.81c.8-.78.8-2.07 0-2.86zM5.41 20L4 18.59l7.72-7.72 1.47 1.35L5.41 20z\"/>\n",
              "  </svg>\n",
              "      </button>\n",
              "      \n",
              "  <style>\n",
              "    .colab-df-container {\n",
              "      display:flex;\n",
              "      flex-wrap:wrap;\n",
              "      gap: 12px;\n",
              "    }\n",
              "\n",
              "    .colab-df-convert {\n",
              "      background-color: #E8F0FE;\n",
              "      border: none;\n",
              "      border-radius: 50%;\n",
              "      cursor: pointer;\n",
              "      display: none;\n",
              "      fill: #1967D2;\n",
              "      height: 32px;\n",
              "      padding: 0 0 0 0;\n",
              "      width: 32px;\n",
              "    }\n",
              "\n",
              "    .colab-df-convert:hover {\n",
              "      background-color: #E2EBFA;\n",
              "      box-shadow: 0px 1px 2px rgba(60, 64, 67, 0.3), 0px 1px 3px 1px rgba(60, 64, 67, 0.15);\n",
              "      fill: #174EA6;\n",
              "    }\n",
              "\n",
              "    [theme=dark] .colab-df-convert {\n",
              "      background-color: #3B4455;\n",
              "      fill: #D2E3FC;\n",
              "    }\n",
              "\n",
              "    [theme=dark] .colab-df-convert:hover {\n",
              "      background-color: #434B5C;\n",
              "      box-shadow: 0px 1px 3px 1px rgba(0, 0, 0, 0.15);\n",
              "      filter: drop-shadow(0px 1px 2px rgba(0, 0, 0, 0.3));\n",
              "      fill: #FFFFFF;\n",
              "    }\n",
              "  </style>\n",
              "\n",
              "      <script>\n",
              "        const buttonEl =\n",
              "          document.querySelector('#df-b6eb82c5-9a2c-46d3-bfd1-cba2fd3289c5 button.colab-df-convert');\n",
              "        buttonEl.style.display =\n",
              "          google.colab.kernel.accessAllowed ? 'block' : 'none';\n",
              "\n",
              "        async function convertToInteractive(key) {\n",
              "          const element = document.querySelector('#df-b6eb82c5-9a2c-46d3-bfd1-cba2fd3289c5');\n",
              "          const dataTable =\n",
              "            await google.colab.kernel.invokeFunction('convertToInteractive',\n",
              "                                                     [key], {});\n",
              "          if (!dataTable) return;\n",
              "\n",
              "          const docLinkHtml = 'Like what you see? Visit the ' +\n",
              "            '<a target=\"_blank\" href=https://colab.research.google.com/notebooks/data_table.ipynb>data table notebook</a>'\n",
              "            + ' to learn more about interactive tables.';\n",
              "          element.innerHTML = '';\n",
              "          dataTable['output_type'] = 'display_data';\n",
              "          await google.colab.output.renderOutput(dataTable, element);\n",
              "          const docLink = document.createElement('div');\n",
              "          docLink.innerHTML = docLinkHtml;\n",
              "          element.appendChild(docLink);\n",
              "        }\n",
              "      </script>\n",
              "    </div>\n",
              "  </div>\n",
              "  "
            ]
          },
          "metadata": {},
          "execution_count": 161
        }
      ]
    },
    {
      "cell_type": "code",
      "source": [
        "esthouse2.describe()"
      ],
      "metadata": {
        "id": "PzYfvlIMcqcs",
        "outputId": "7a56ea51-5f44-4810-e9da-ae25416c17cc",
        "colab": {
          "base_uri": "https://localhost:8080/",
          "height": 300
        }
      },
      "execution_count": 162,
      "outputs": [
        {
          "output_type": "execute_result",
          "data": {
            "text/plain": [
              "       ID ผู้ประเมิน    ราคาทรัพย์  ประเมินราคาซื้อ-ขาย\n",
              "count          610.0  6.100000e+02         4.980000e+02\n",
              "mean             2.0  3.369097e+06         3.449197e+06\n",
              "std              0.0  4.975575e+06         4.381048e+06\n",
              "min              2.0  2.600000e+05         2.500000e+05\n",
              "25%              2.0  1.467500e+06         1.892500e+06\n",
              "50%              2.0  2.530000e+06         2.600000e+06\n",
              "75%              2.0  4.067500e+06         4.200000e+06\n",
              "max              2.0  1.039350e+08         8.000000e+07"
            ],
            "text/html": [
              "\n",
              "  <div id=\"df-0dd11626-85aa-4022-96fa-bdba01e925e6\">\n",
              "    <div class=\"colab-df-container\">\n",
              "      <div>\n",
              "<style scoped>\n",
              "    .dataframe tbody tr th:only-of-type {\n",
              "        vertical-align: middle;\n",
              "    }\n",
              "\n",
              "    .dataframe tbody tr th {\n",
              "        vertical-align: top;\n",
              "    }\n",
              "\n",
              "    .dataframe thead th {\n",
              "        text-align: right;\n",
              "    }\n",
              "</style>\n",
              "<table border=\"1\" class=\"dataframe\">\n",
              "  <thead>\n",
              "    <tr style=\"text-align: right;\">\n",
              "      <th></th>\n",
              "      <th>ID ผู้ประเมิน</th>\n",
              "      <th>ราคาทรัพย์</th>\n",
              "      <th>ประเมินราคาซื้อ-ขาย</th>\n",
              "    </tr>\n",
              "  </thead>\n",
              "  <tbody>\n",
              "    <tr>\n",
              "      <th>count</th>\n",
              "      <td>610.0</td>\n",
              "      <td>6.100000e+02</td>\n",
              "      <td>4.980000e+02</td>\n",
              "    </tr>\n",
              "    <tr>\n",
              "      <th>mean</th>\n",
              "      <td>2.0</td>\n",
              "      <td>3.369097e+06</td>\n",
              "      <td>3.449197e+06</td>\n",
              "    </tr>\n",
              "    <tr>\n",
              "      <th>std</th>\n",
              "      <td>0.0</td>\n",
              "      <td>4.975575e+06</td>\n",
              "      <td>4.381048e+06</td>\n",
              "    </tr>\n",
              "    <tr>\n",
              "      <th>min</th>\n",
              "      <td>2.0</td>\n",
              "      <td>2.600000e+05</td>\n",
              "      <td>2.500000e+05</td>\n",
              "    </tr>\n",
              "    <tr>\n",
              "      <th>25%</th>\n",
              "      <td>2.0</td>\n",
              "      <td>1.467500e+06</td>\n",
              "      <td>1.892500e+06</td>\n",
              "    </tr>\n",
              "    <tr>\n",
              "      <th>50%</th>\n",
              "      <td>2.0</td>\n",
              "      <td>2.530000e+06</td>\n",
              "      <td>2.600000e+06</td>\n",
              "    </tr>\n",
              "    <tr>\n",
              "      <th>75%</th>\n",
              "      <td>2.0</td>\n",
              "      <td>4.067500e+06</td>\n",
              "      <td>4.200000e+06</td>\n",
              "    </tr>\n",
              "    <tr>\n",
              "      <th>max</th>\n",
              "      <td>2.0</td>\n",
              "      <td>1.039350e+08</td>\n",
              "      <td>8.000000e+07</td>\n",
              "    </tr>\n",
              "  </tbody>\n",
              "</table>\n",
              "</div>\n",
              "      <button class=\"colab-df-convert\" onclick=\"convertToInteractive('df-0dd11626-85aa-4022-96fa-bdba01e925e6')\"\n",
              "              title=\"Convert this dataframe to an interactive table.\"\n",
              "              style=\"display:none;\">\n",
              "        \n",
              "  <svg xmlns=\"http://www.w3.org/2000/svg\" height=\"24px\"viewBox=\"0 0 24 24\"\n",
              "       width=\"24px\">\n",
              "    <path d=\"M0 0h24v24H0V0z\" fill=\"none\"/>\n",
              "    <path d=\"M18.56 5.44l.94 2.06.94-2.06 2.06-.94-2.06-.94-.94-2.06-.94 2.06-2.06.94zm-11 1L8.5 8.5l.94-2.06 2.06-.94-2.06-.94L8.5 2.5l-.94 2.06-2.06.94zm10 10l.94 2.06.94-2.06 2.06-.94-2.06-.94-.94-2.06-.94 2.06-2.06.94z\"/><path d=\"M17.41 7.96l-1.37-1.37c-.4-.4-.92-.59-1.43-.59-.52 0-1.04.2-1.43.59L10.3 9.45l-7.72 7.72c-.78.78-.78 2.05 0 2.83L4 21.41c.39.39.9.59 1.41.59.51 0 1.02-.2 1.41-.59l7.78-7.78 2.81-2.81c.8-.78.8-2.07 0-2.86zM5.41 20L4 18.59l7.72-7.72 1.47 1.35L5.41 20z\"/>\n",
              "  </svg>\n",
              "      </button>\n",
              "      \n",
              "  <style>\n",
              "    .colab-df-container {\n",
              "      display:flex;\n",
              "      flex-wrap:wrap;\n",
              "      gap: 12px;\n",
              "    }\n",
              "\n",
              "    .colab-df-convert {\n",
              "      background-color: #E8F0FE;\n",
              "      border: none;\n",
              "      border-radius: 50%;\n",
              "      cursor: pointer;\n",
              "      display: none;\n",
              "      fill: #1967D2;\n",
              "      height: 32px;\n",
              "      padding: 0 0 0 0;\n",
              "      width: 32px;\n",
              "    }\n",
              "\n",
              "    .colab-df-convert:hover {\n",
              "      background-color: #E2EBFA;\n",
              "      box-shadow: 0px 1px 2px rgba(60, 64, 67, 0.3), 0px 1px 3px 1px rgba(60, 64, 67, 0.15);\n",
              "      fill: #174EA6;\n",
              "    }\n",
              "\n",
              "    [theme=dark] .colab-df-convert {\n",
              "      background-color: #3B4455;\n",
              "      fill: #D2E3FC;\n",
              "    }\n",
              "\n",
              "    [theme=dark] .colab-df-convert:hover {\n",
              "      background-color: #434B5C;\n",
              "      box-shadow: 0px 1px 3px 1px rgba(0, 0, 0, 0.15);\n",
              "      filter: drop-shadow(0px 1px 2px rgba(0, 0, 0, 0.3));\n",
              "      fill: #FFFFFF;\n",
              "    }\n",
              "  </style>\n",
              "\n",
              "      <script>\n",
              "        const buttonEl =\n",
              "          document.querySelector('#df-0dd11626-85aa-4022-96fa-bdba01e925e6 button.colab-df-convert');\n",
              "        buttonEl.style.display =\n",
              "          google.colab.kernel.accessAllowed ? 'block' : 'none';\n",
              "\n",
              "        async function convertToInteractive(key) {\n",
              "          const element = document.querySelector('#df-0dd11626-85aa-4022-96fa-bdba01e925e6');\n",
              "          const dataTable =\n",
              "            await google.colab.kernel.invokeFunction('convertToInteractive',\n",
              "                                                     [key], {});\n",
              "          if (!dataTable) return;\n",
              "\n",
              "          const docLinkHtml = 'Like what you see? Visit the ' +\n",
              "            '<a target=\"_blank\" href=https://colab.research.google.com/notebooks/data_table.ipynb>data table notebook</a>'\n",
              "            + ' to learn more about interactive tables.';\n",
              "          element.innerHTML = '';\n",
              "          dataTable['output_type'] = 'display_data';\n",
              "          await google.colab.output.renderOutput(dataTable, element);\n",
              "          const docLink = document.createElement('div');\n",
              "          docLink.innerHTML = docLinkHtml;\n",
              "          element.appendChild(docLink);\n",
              "        }\n",
              "      </script>\n",
              "    </div>\n",
              "  </div>\n",
              "  "
            ]
          },
          "metadata": {},
          "execution_count": 162
        }
      ]
    },
    {
      "cell_type": "code",
      "source": [
        "esthouse2['ให้คะแนนทรัพย์'].value_counts()"
      ],
      "metadata": {
        "colab": {
          "base_uri": "https://localhost:8080/"
        },
        "id": "ZAKRKr8Rcunc",
        "outputId": "9f358c3d-d3bf-42b7-e03c-69c38844047f"
      },
      "execution_count": 163,
      "outputs": [
        {
          "output_type": "execute_result",
          "data": {
            "text/plain": [
              "3 ขายได้ ใช้ระยะเวลา 7 - 12 เดือน     367\n",
              "4 ขายได้ ใช้ระยะเวลา 4 - 6 เดือน      117\n",
              "2 ขายได้ยาก ใช้ระยะเวลามากว่า 1 ปี     14\n",
              "5 ขายง่าย ใช้ระยะเวลา 1 - 3 เดือน       1\n",
              "Name: ให้คะแนนทรัพย์, dtype: int64"
            ]
          },
          "metadata": {},
          "execution_count": 163
        }
      ]
    },
    {
      "cell_type": "code",
      "source": [
        "esthouse2['ความมั่นใจในการเมินราคาทรัพย์'].value_counts()"
      ],
      "metadata": {
        "colab": {
          "base_uri": "https://localhost:8080/"
        },
        "id": "rx6nlwOyhmN2",
        "outputId": "98332c48-f6d3-4b45-c7f8-bdcb5c9164cf"
      },
      "execution_count": 164,
      "outputs": [
        {
          "output_type": "execute_result",
          "data": {
            "text/plain": [
              "มั่นใจ       499\n",
              "ไม่มั่นใจ    111\n",
              "Name: ความมั่นใจในการเมินราคาทรัพย์, dtype: int64"
            ]
          },
          "metadata": {},
          "execution_count": 164
        }
      ]
    },
    {
      "cell_type": "markdown",
      "source": [
        "## Land (ที่ดิน)"
      ],
      "metadata": {
        "id": "wSnpR3ysOtAP"
      }
    },
    {
      "cell_type": "code",
      "source": [
        "datal = pd.read_excel(file,sheet_name='ที่ดิน')"
      ],
      "metadata": {
        "id": "hWxcZgg9MkDs"
      },
      "execution_count": 165,
      "outputs": []
    },
    {
      "cell_type": "code",
      "source": [
        "datal['ID ผู้ประเมิน'].value_counts() "
      ],
      "metadata": {
        "colab": {
          "base_uri": "https://localhost:8080/"
        },
        "id": "cOtzsx4Ei13Y",
        "outputId": "ef204eb4-66a2-4772-c9e7-3104c02339a6"
      },
      "execution_count": 166,
      "outputs": [
        {
          "output_type": "execute_result",
          "data": {
            "text/plain": [
              "1    100\n",
              "2    100\n",
              "4     10\n",
              "Name: ID ผู้ประเมิน, dtype: int64"
            ]
          },
          "metadata": {},
          "execution_count": 166
        }
      ]
    },
    {
      "cell_type": "code",
      "source": [
        "estland = datal[datal['ID ผู้ประเมิน']==1]"
      ],
      "metadata": {
        "id": "jfs5JjuQjMWg"
      },
      "execution_count": 167,
      "outputs": []
    },
    {
      "cell_type": "code",
      "source": [
        "estland2 = datal[datal['ID ผู้ประเมิน']==2]"
      ],
      "metadata": {
        "id": "wwhMcbwvje1R"
      },
      "execution_count": 168,
      "outputs": []
    },
    {
      "cell_type": "markdown",
      "source": [
        "## Condo"
      ],
      "metadata": {
        "id": "M3RAWdkQoR6A"
      }
    },
    {
      "cell_type": "code",
      "source": [
        "condo = pd.read_excel(file,sheet_name='คอนโด')"
      ],
      "metadata": {
        "id": "AMwsX3RnMz7h"
      },
      "execution_count": 169,
      "outputs": []
    },
    {
      "cell_type": "code",
      "source": [
        "condo['ID ผู้ประเมิน'].value_counts() "
      ],
      "metadata": {
        "id": "Yo_8dFByc0mL",
        "outputId": "f4573ea3-ed33-49ff-e281-1ce188b98465",
        "colab": {
          "base_uri": "https://localhost:8080/"
        }
      },
      "execution_count": 170,
      "outputs": [
        {
          "output_type": "execute_result",
          "data": {
            "text/plain": [
              "1    10\n",
              "Name: ID ผู้ประเมิน, dtype: int64"
            ]
          },
          "metadata": {},
          "execution_count": 170
        }
      ]
    },
    {
      "cell_type": "markdown",
      "source": [
        "## Town home"
      ],
      "metadata": {
        "id": "iU8MrtouPt5_"
      }
    },
    {
      "cell_type": "code",
      "source": [
        "townhome = pd.read_excel(file,sheet_name='ทาวน์โฮม')"
      ],
      "metadata": {
        "id": "oo2LFoknM-j9"
      },
      "execution_count": 171,
      "outputs": []
    },
    {
      "cell_type": "code",
      "source": [
        "townhome['ID ผู้ประเมิน'].value_counts() "
      ],
      "metadata": {
        "id": "rgNDfK_Rg08L",
        "colab": {
          "base_uri": "https://localhost:8080/"
        },
        "outputId": "1655414b-b5b9-4c18-cc52-22234f8c9c14"
      },
      "execution_count": 172,
      "outputs": [
        {
          "output_type": "execute_result",
          "data": {
            "text/plain": [
              "1    120\n",
              "2    120\n",
              "Name: ID ผู้ประเมิน, dtype: int64"
            ]
          },
          "metadata": {},
          "execution_count": 172
        }
      ]
    },
    {
      "cell_type": "code",
      "source": [
        "esttownhome = townhome[townhome['ID ผู้ประเมิน']==1]"
      ],
      "metadata": {
        "id": "0PzON-wjhHW0"
      },
      "execution_count": 173,
      "outputs": []
    },
    {
      "cell_type": "code",
      "source": [
        "esttownhome2 =  townhome[townhome['ID ผู้ประเมิน']==2]"
      ],
      "metadata": {
        "id": "EcEt0M_phQ-D"
      },
      "execution_count": 174,
      "outputs": []
    },
    {
      "cell_type": "markdown",
      "source": [
        "## Shop house (อาคารพาณิชย์)"
      ],
      "metadata": {
        "id": "m-cTYCe9QruV"
      }
    },
    {
      "cell_type": "code",
      "source": [
        "shophouse = pd.read_excel(file,sheet_name='อาคารพาณิชย์')"
      ],
      "metadata": {
        "id": "Nfpg8UCwNM9t"
      },
      "execution_count": 175,
      "outputs": []
    },
    {
      "cell_type": "code",
      "source": [
        "shophouse['ID ผู้ประเมิน'].value_counts() "
      ],
      "metadata": {
        "id": "BhfEfik-mvxI",
        "outputId": "3826e577-a629-4c30-ad20-07012cb3f755",
        "colab": {
          "base_uri": "https://localhost:8080/"
        }
      },
      "execution_count": 176,
      "outputs": [
        {
          "output_type": "execute_result",
          "data": {
            "text/plain": [
              "1    100\n",
              "2    100\n",
              "Name: ID ผู้ประเมิน, dtype: int64"
            ]
          },
          "metadata": {},
          "execution_count": 176
        }
      ]
    },
    {
      "cell_type": "code",
      "source": [
        "estshophouse = shophouse[shophouse['ID ผู้ประเมิน']==1]"
      ],
      "metadata": {
        "id": "mEV7zezHmxcq"
      },
      "execution_count": 177,
      "outputs": []
    },
    {
      "cell_type": "code",
      "source": [
        "estshophouse2 =  shophouse[shophouse['ID ผู้ประเมิน']==2]"
      ],
      "metadata": {
        "id": "F_L5JhN3myre"
      },
      "execution_count": 178,
      "outputs": []
    },
    {
      "cell_type": "markdown",
      "source": [
        "# สรุปข้อมูลของนักประเมินแต่ละคน โดยพิจารณาจาก ความมั่นใจในการประเมิน ประเมินราคาซื้อ-ขาย ให้คะแนนทรัพย์"
      ],
      "metadata": {
        "id": "PUmD43ExZorr"
      }
    },
    {
      "cell_type": "markdown",
      "source": [
        "## House"
      ],
      "metadata": {
        "id": "tE7Tie_Ppdp8"
      }
    },
    {
      "cell_type": "code",
      "source": [
        "datah['ID ผู้ประเมิน'].value_counts()"
      ],
      "metadata": {
        "id": "qIX74aIniOkc",
        "colab": {
          "base_uri": "https://localhost:8080/"
        },
        "outputId": "457b2d28-22ff-4d3c-8bb0-026c77fda690"
      },
      "execution_count": 179,
      "outputs": [
        {
          "output_type": "execute_result",
          "data": {
            "text/plain": [
              "1    610\n",
              "2    610\n",
              "Name: ID ผู้ประเมิน, dtype: int64"
            ]
          },
          "metadata": {},
          "execution_count": 179
        }
      ]
    },
    {
      "cell_type": "code",
      "source": [
        "esth1 = datah[datah['ID ผู้ประเมิน']==1]"
      ],
      "metadata": {
        "id": "_NeHjeewZorr"
      },
      "execution_count": 180,
      "outputs": []
    },
    {
      "cell_type": "code",
      "source": [
        "data01 = esth1[['ID ผู้ประเมิน','ความมั่นใจในการเมินราคาทรัพย์','ประเมินราคาซื้อ-ขาย','ให้คะแนนทรัพย์']]\n",
        "data01.head(5)"
      ],
      "metadata": {
        "colab": {
          "base_uri": "https://localhost:8080/",
          "height": 206
        },
        "outputId": "5498b332-eb19-4ad9-adc2-c2d618ccc497",
        "id": "QkYVCMghZors"
      },
      "execution_count": 181,
      "outputs": [
        {
          "output_type": "execute_result",
          "data": {
            "text/plain": [
              "   ID ผู้ประเมิน ความมั่นใจในการเมินราคาทรัพย์  ประเมินราคาซื้อ-ขาย  \\\n",
              "0              1                        มั่นใจ            2500000.0   \n",
              "2              1                        มั่นใจ            2200000.0   \n",
              "4              1                        มั่นใจ            5000000.0   \n",
              "6              1                        มั่นใจ            3500000.0   \n",
              "8              1                        มั่นใจ            2500000.0   \n",
              "\n",
              "                       ให้คะแนนทรัพย์  \n",
              "0   3 ขายได้ ใช้ระยะเวลา 7 - 12 เดือน  \n",
              "2  2 ขายได้ยาก ใช้ระยะเวลามากว่า 1 ปี  \n",
              "4   3 ขายได้ ใช้ระยะเวลา 7 - 12 เดือน  \n",
              "6  2 ขายได้ยาก ใช้ระยะเวลามากว่า 1 ปี  \n",
              "8   3 ขายได้ ใช้ระยะเวลา 7 - 12 เดือน  "
            ],
            "text/html": [
              "\n",
              "  <div id=\"df-649438d9-7f45-4fce-a605-914ca884f6d8\">\n",
              "    <div class=\"colab-df-container\">\n",
              "      <div>\n",
              "<style scoped>\n",
              "    .dataframe tbody tr th:only-of-type {\n",
              "        vertical-align: middle;\n",
              "    }\n",
              "\n",
              "    .dataframe tbody tr th {\n",
              "        vertical-align: top;\n",
              "    }\n",
              "\n",
              "    .dataframe thead th {\n",
              "        text-align: right;\n",
              "    }\n",
              "</style>\n",
              "<table border=\"1\" class=\"dataframe\">\n",
              "  <thead>\n",
              "    <tr style=\"text-align: right;\">\n",
              "      <th></th>\n",
              "      <th>ID ผู้ประเมิน</th>\n",
              "      <th>ความมั่นใจในการเมินราคาทรัพย์</th>\n",
              "      <th>ประเมินราคาซื้อ-ขาย</th>\n",
              "      <th>ให้คะแนนทรัพย์</th>\n",
              "    </tr>\n",
              "  </thead>\n",
              "  <tbody>\n",
              "    <tr>\n",
              "      <th>0</th>\n",
              "      <td>1</td>\n",
              "      <td>มั่นใจ</td>\n",
              "      <td>2500000.0</td>\n",
              "      <td>3 ขายได้ ใช้ระยะเวลา 7 - 12 เดือน</td>\n",
              "    </tr>\n",
              "    <tr>\n",
              "      <th>2</th>\n",
              "      <td>1</td>\n",
              "      <td>มั่นใจ</td>\n",
              "      <td>2200000.0</td>\n",
              "      <td>2 ขายได้ยาก ใช้ระยะเวลามากว่า 1 ปี</td>\n",
              "    </tr>\n",
              "    <tr>\n",
              "      <th>4</th>\n",
              "      <td>1</td>\n",
              "      <td>มั่นใจ</td>\n",
              "      <td>5000000.0</td>\n",
              "      <td>3 ขายได้ ใช้ระยะเวลา 7 - 12 เดือน</td>\n",
              "    </tr>\n",
              "    <tr>\n",
              "      <th>6</th>\n",
              "      <td>1</td>\n",
              "      <td>มั่นใจ</td>\n",
              "      <td>3500000.0</td>\n",
              "      <td>2 ขายได้ยาก ใช้ระยะเวลามากว่า 1 ปี</td>\n",
              "    </tr>\n",
              "    <tr>\n",
              "      <th>8</th>\n",
              "      <td>1</td>\n",
              "      <td>มั่นใจ</td>\n",
              "      <td>2500000.0</td>\n",
              "      <td>3 ขายได้ ใช้ระยะเวลา 7 - 12 เดือน</td>\n",
              "    </tr>\n",
              "  </tbody>\n",
              "</table>\n",
              "</div>\n",
              "      <button class=\"colab-df-convert\" onclick=\"convertToInteractive('df-649438d9-7f45-4fce-a605-914ca884f6d8')\"\n",
              "              title=\"Convert this dataframe to an interactive table.\"\n",
              "              style=\"display:none;\">\n",
              "        \n",
              "  <svg xmlns=\"http://www.w3.org/2000/svg\" height=\"24px\"viewBox=\"0 0 24 24\"\n",
              "       width=\"24px\">\n",
              "    <path d=\"M0 0h24v24H0V0z\" fill=\"none\"/>\n",
              "    <path d=\"M18.56 5.44l.94 2.06.94-2.06 2.06-.94-2.06-.94-.94-2.06-.94 2.06-2.06.94zm-11 1L8.5 8.5l.94-2.06 2.06-.94-2.06-.94L8.5 2.5l-.94 2.06-2.06.94zm10 10l.94 2.06.94-2.06 2.06-.94-2.06-.94-.94-2.06-.94 2.06-2.06.94z\"/><path d=\"M17.41 7.96l-1.37-1.37c-.4-.4-.92-.59-1.43-.59-.52 0-1.04.2-1.43.59L10.3 9.45l-7.72 7.72c-.78.78-.78 2.05 0 2.83L4 21.41c.39.39.9.59 1.41.59.51 0 1.02-.2 1.41-.59l7.78-7.78 2.81-2.81c.8-.78.8-2.07 0-2.86zM5.41 20L4 18.59l7.72-7.72 1.47 1.35L5.41 20z\"/>\n",
              "  </svg>\n",
              "      </button>\n",
              "      \n",
              "  <style>\n",
              "    .colab-df-container {\n",
              "      display:flex;\n",
              "      flex-wrap:wrap;\n",
              "      gap: 12px;\n",
              "    }\n",
              "\n",
              "    .colab-df-convert {\n",
              "      background-color: #E8F0FE;\n",
              "      border: none;\n",
              "      border-radius: 50%;\n",
              "      cursor: pointer;\n",
              "      display: none;\n",
              "      fill: #1967D2;\n",
              "      height: 32px;\n",
              "      padding: 0 0 0 0;\n",
              "      width: 32px;\n",
              "    }\n",
              "\n",
              "    .colab-df-convert:hover {\n",
              "      background-color: #E2EBFA;\n",
              "      box-shadow: 0px 1px 2px rgba(60, 64, 67, 0.3), 0px 1px 3px 1px rgba(60, 64, 67, 0.15);\n",
              "      fill: #174EA6;\n",
              "    }\n",
              "\n",
              "    [theme=dark] .colab-df-convert {\n",
              "      background-color: #3B4455;\n",
              "      fill: #D2E3FC;\n",
              "    }\n",
              "\n",
              "    [theme=dark] .colab-df-convert:hover {\n",
              "      background-color: #434B5C;\n",
              "      box-shadow: 0px 1px 3px 1px rgba(0, 0, 0, 0.15);\n",
              "      filter: drop-shadow(0px 1px 2px rgba(0, 0, 0, 0.3));\n",
              "      fill: #FFFFFF;\n",
              "    }\n",
              "  </style>\n",
              "\n",
              "      <script>\n",
              "        const buttonEl =\n",
              "          document.querySelector('#df-649438d9-7f45-4fce-a605-914ca884f6d8 button.colab-df-convert');\n",
              "        buttonEl.style.display =\n",
              "          google.colab.kernel.accessAllowed ? 'block' : 'none';\n",
              "\n",
              "        async function convertToInteractive(key) {\n",
              "          const element = document.querySelector('#df-649438d9-7f45-4fce-a605-914ca884f6d8');\n",
              "          const dataTable =\n",
              "            await google.colab.kernel.invokeFunction('convertToInteractive',\n",
              "                                                     [key], {});\n",
              "          if (!dataTable) return;\n",
              "\n",
              "          const docLinkHtml = 'Like what you see? Visit the ' +\n",
              "            '<a target=\"_blank\" href=https://colab.research.google.com/notebooks/data_table.ipynb>data table notebook</a>'\n",
              "            + ' to learn more about interactive tables.';\n",
              "          element.innerHTML = '';\n",
              "          dataTable['output_type'] = 'display_data';\n",
              "          await google.colab.output.renderOutput(dataTable, element);\n",
              "          const docLink = document.createElement('div');\n",
              "          docLink.innerHTML = docLinkHtml;\n",
              "          element.appendChild(docLink);\n",
              "        }\n",
              "      </script>\n",
              "    </div>\n",
              "  </div>\n",
              "  "
            ]
          },
          "metadata": {},
          "execution_count": 181
        }
      ]
    },
    {
      "cell_type": "code",
      "source": [
        "esth1.describe()"
      ],
      "metadata": {
        "colab": {
          "base_uri": "https://localhost:8080/",
          "height": 300
        },
        "outputId": "b29aa84f-2a29-4888-b404-e5207415d8b3",
        "id": "4zGl5Ct7Zors"
      },
      "execution_count": 182,
      "outputs": [
        {
          "output_type": "execute_result",
          "data": {
            "text/plain": [
              "       ID ผู้ประเมิน    ราคาทรัพย์  ประเมินราคาซื้อ-ขาย\n",
              "count          610.0  6.100000e+02         6.090000e+02\n",
              "mean             1.0  3.382782e+06         3.240345e+06\n",
              "std              0.0  5.000758e+06         4.692873e+06\n",
              "min              1.0  2.600000e+05         2.200000e+05\n",
              "25%              1.0  1.492500e+06         1.500000e+06\n",
              "50%              1.0  2.540000e+06         2.500000e+06\n",
              "75%              1.0  4.000000e+06         4.000000e+06\n",
              "max              1.0  1.039350e+08         1.000000e+08"
            ],
            "text/html": [
              "\n",
              "  <div id=\"df-f2ff261d-4f66-4af2-9dc6-ea267dd813d4\">\n",
              "    <div class=\"colab-df-container\">\n",
              "      <div>\n",
              "<style scoped>\n",
              "    .dataframe tbody tr th:only-of-type {\n",
              "        vertical-align: middle;\n",
              "    }\n",
              "\n",
              "    .dataframe tbody tr th {\n",
              "        vertical-align: top;\n",
              "    }\n",
              "\n",
              "    .dataframe thead th {\n",
              "        text-align: right;\n",
              "    }\n",
              "</style>\n",
              "<table border=\"1\" class=\"dataframe\">\n",
              "  <thead>\n",
              "    <tr style=\"text-align: right;\">\n",
              "      <th></th>\n",
              "      <th>ID ผู้ประเมิน</th>\n",
              "      <th>ราคาทรัพย์</th>\n",
              "      <th>ประเมินราคาซื้อ-ขาย</th>\n",
              "    </tr>\n",
              "  </thead>\n",
              "  <tbody>\n",
              "    <tr>\n",
              "      <th>count</th>\n",
              "      <td>610.0</td>\n",
              "      <td>6.100000e+02</td>\n",
              "      <td>6.090000e+02</td>\n",
              "    </tr>\n",
              "    <tr>\n",
              "      <th>mean</th>\n",
              "      <td>1.0</td>\n",
              "      <td>3.382782e+06</td>\n",
              "      <td>3.240345e+06</td>\n",
              "    </tr>\n",
              "    <tr>\n",
              "      <th>std</th>\n",
              "      <td>0.0</td>\n",
              "      <td>5.000758e+06</td>\n",
              "      <td>4.692873e+06</td>\n",
              "    </tr>\n",
              "    <tr>\n",
              "      <th>min</th>\n",
              "      <td>1.0</td>\n",
              "      <td>2.600000e+05</td>\n",
              "      <td>2.200000e+05</td>\n",
              "    </tr>\n",
              "    <tr>\n",
              "      <th>25%</th>\n",
              "      <td>1.0</td>\n",
              "      <td>1.492500e+06</td>\n",
              "      <td>1.500000e+06</td>\n",
              "    </tr>\n",
              "    <tr>\n",
              "      <th>50%</th>\n",
              "      <td>1.0</td>\n",
              "      <td>2.540000e+06</td>\n",
              "      <td>2.500000e+06</td>\n",
              "    </tr>\n",
              "    <tr>\n",
              "      <th>75%</th>\n",
              "      <td>1.0</td>\n",
              "      <td>4.000000e+06</td>\n",
              "      <td>4.000000e+06</td>\n",
              "    </tr>\n",
              "    <tr>\n",
              "      <th>max</th>\n",
              "      <td>1.0</td>\n",
              "      <td>1.039350e+08</td>\n",
              "      <td>1.000000e+08</td>\n",
              "    </tr>\n",
              "  </tbody>\n",
              "</table>\n",
              "</div>\n",
              "      <button class=\"colab-df-convert\" onclick=\"convertToInteractive('df-f2ff261d-4f66-4af2-9dc6-ea267dd813d4')\"\n",
              "              title=\"Convert this dataframe to an interactive table.\"\n",
              "              style=\"display:none;\">\n",
              "        \n",
              "  <svg xmlns=\"http://www.w3.org/2000/svg\" height=\"24px\"viewBox=\"0 0 24 24\"\n",
              "       width=\"24px\">\n",
              "    <path d=\"M0 0h24v24H0V0z\" fill=\"none\"/>\n",
              "    <path d=\"M18.56 5.44l.94 2.06.94-2.06 2.06-.94-2.06-.94-.94-2.06-.94 2.06-2.06.94zm-11 1L8.5 8.5l.94-2.06 2.06-.94-2.06-.94L8.5 2.5l-.94 2.06-2.06.94zm10 10l.94 2.06.94-2.06 2.06-.94-2.06-.94-.94-2.06-.94 2.06-2.06.94z\"/><path d=\"M17.41 7.96l-1.37-1.37c-.4-.4-.92-.59-1.43-.59-.52 0-1.04.2-1.43.59L10.3 9.45l-7.72 7.72c-.78.78-.78 2.05 0 2.83L4 21.41c.39.39.9.59 1.41.59.51 0 1.02-.2 1.41-.59l7.78-7.78 2.81-2.81c.8-.78.8-2.07 0-2.86zM5.41 20L4 18.59l7.72-7.72 1.47 1.35L5.41 20z\"/>\n",
              "  </svg>\n",
              "      </button>\n",
              "      \n",
              "  <style>\n",
              "    .colab-df-container {\n",
              "      display:flex;\n",
              "      flex-wrap:wrap;\n",
              "      gap: 12px;\n",
              "    }\n",
              "\n",
              "    .colab-df-convert {\n",
              "      background-color: #E8F0FE;\n",
              "      border: none;\n",
              "      border-radius: 50%;\n",
              "      cursor: pointer;\n",
              "      display: none;\n",
              "      fill: #1967D2;\n",
              "      height: 32px;\n",
              "      padding: 0 0 0 0;\n",
              "      width: 32px;\n",
              "    }\n",
              "\n",
              "    .colab-df-convert:hover {\n",
              "      background-color: #E2EBFA;\n",
              "      box-shadow: 0px 1px 2px rgba(60, 64, 67, 0.3), 0px 1px 3px 1px rgba(60, 64, 67, 0.15);\n",
              "      fill: #174EA6;\n",
              "    }\n",
              "\n",
              "    [theme=dark] .colab-df-convert {\n",
              "      background-color: #3B4455;\n",
              "      fill: #D2E3FC;\n",
              "    }\n",
              "\n",
              "    [theme=dark] .colab-df-convert:hover {\n",
              "      background-color: #434B5C;\n",
              "      box-shadow: 0px 1px 3px 1px rgba(0, 0, 0, 0.15);\n",
              "      filter: drop-shadow(0px 1px 2px rgba(0, 0, 0, 0.3));\n",
              "      fill: #FFFFFF;\n",
              "    }\n",
              "  </style>\n",
              "\n",
              "      <script>\n",
              "        const buttonEl =\n",
              "          document.querySelector('#df-f2ff261d-4f66-4af2-9dc6-ea267dd813d4 button.colab-df-convert');\n",
              "        buttonEl.style.display =\n",
              "          google.colab.kernel.accessAllowed ? 'block' : 'none';\n",
              "\n",
              "        async function convertToInteractive(key) {\n",
              "          const element = document.querySelector('#df-f2ff261d-4f66-4af2-9dc6-ea267dd813d4');\n",
              "          const dataTable =\n",
              "            await google.colab.kernel.invokeFunction('convertToInteractive',\n",
              "                                                     [key], {});\n",
              "          if (!dataTable) return;\n",
              "\n",
              "          const docLinkHtml = 'Like what you see? Visit the ' +\n",
              "            '<a target=\"_blank\" href=https://colab.research.google.com/notebooks/data_table.ipynb>data table notebook</a>'\n",
              "            + ' to learn more about interactive tables.';\n",
              "          element.innerHTML = '';\n",
              "          dataTable['output_type'] = 'display_data';\n",
              "          await google.colab.output.renderOutput(dataTable, element);\n",
              "          const docLink = document.createElement('div');\n",
              "          docLink.innerHTML = docLinkHtml;\n",
              "          element.appendChild(docLink);\n",
              "        }\n",
              "      </script>\n",
              "    </div>\n",
              "  </div>\n",
              "  "
            ]
          },
          "metadata": {},
          "execution_count": 182
        }
      ]
    },
    {
      "cell_type": "code",
      "source": [
        "esth1['ให้คะแนนทรัพย์'].value_counts()"
      ],
      "metadata": {
        "colab": {
          "base_uri": "https://localhost:8080/"
        },
        "outputId": "cd246f67-d6bb-4ab3-d09d-cfe9c0f2ba1c",
        "id": "9l8COxv_Zort"
      },
      "execution_count": 183,
      "outputs": [
        {
          "output_type": "execute_result",
          "data": {
            "text/plain": [
              "3 ขายได้ ใช้ระยะเวลา 7 - 12 เดือน     476\n",
              "2 ขายได้ยาก ใช้ระยะเวลามากว่า 1 ปี    126\n",
              "4 ขายได้ ใช้ระยะเวลา 4 - 6 เดือน        6\n",
              "1 ขายไม่ได้แน่นอน                       2\n",
              "Name: ให้คะแนนทรัพย์, dtype: int64"
            ]
          },
          "metadata": {},
          "execution_count": 183
        }
      ]
    },
    {
      "cell_type": "code",
      "source": [
        "esth1['ความมั่นใจในการเมินราคาทรัพย์'].value_counts()"
      ],
      "metadata": {
        "colab": {
          "base_uri": "https://localhost:8080/"
        },
        "outputId": "df3279b2-5d82-4b47-8f0f-e9f6cdcdf601",
        "id": "AjGi-V7rZort"
      },
      "execution_count": 184,
      "outputs": [
        {
          "output_type": "execute_result",
          "data": {
            "text/plain": [
              "มั่นใจ    610\n",
              "Name: ความมั่นใจในการเมินราคาทรัพย์, dtype: int64"
            ]
          },
          "metadata": {},
          "execution_count": 184
        }
      ]
    },
    {
      "cell_type": "code",
      "source": [
        "esth1 = esth1.dropna(subset=['ราคาทรัพย์','ประเมินราคาซื้อ-ขาย'])"
      ],
      "metadata": {
        "id": "Tum1z8E6TIA2"
      },
      "execution_count": 185,
      "outputs": []
    },
    {
      "cell_type": "code",
      "source": [
        "esth2 = datah[datah['ID ผู้ประเมิน']==2]"
      ],
      "metadata": {
        "id": "9BTVWrpOZort"
      },
      "execution_count": 186,
      "outputs": []
    },
    {
      "cell_type": "code",
      "source": [
        "data02 =esth2[['ID ผู้ประเมิน','ความมั่นใจในการเมินราคาทรัพย์','ประเมินราคาซื้อ-ขาย','ให้คะแนนทรัพย์']]\n",
        "data02.head(5)"
      ],
      "metadata": {
        "colab": {
          "base_uri": "https://localhost:8080/",
          "height": 206
        },
        "outputId": "acc29cc7-4e75-4572-be7a-294049e69c3e",
        "id": "nLOySJB9Zort"
      },
      "execution_count": 187,
      "outputs": [
        {
          "output_type": "execute_result",
          "data": {
            "text/plain": [
              "   ID ผู้ประเมิน ความมั่นใจในการเมินราคาทรัพย์  ประเมินราคาซื้อ-ขาย  \\\n",
              "1              2                        มั่นใจ            2700000.0   \n",
              "3              2                        มั่นใจ            2400000.0   \n",
              "5              2                        มั่นใจ            9000000.0   \n",
              "7              2                        มั่นใจ            3700000.0   \n",
              "9              2                        มั่นใจ            2500000.0   \n",
              "\n",
              "                      ให้คะแนนทรัพย์  \n",
              "1   4 ขายได้ ใช้ระยะเวลา 4 - 6 เดือน  \n",
              "3  3 ขายได้ ใช้ระยะเวลา 7 - 12 เดือน  \n",
              "5  5 ขายง่าย ใช้ระยะเวลา 1 - 3 เดือน  \n",
              "7  3 ขายได้ ใช้ระยะเวลา 7 - 12 เดือน  \n",
              "9  3 ขายได้ ใช้ระยะเวลา 7 - 12 เดือน  "
            ],
            "text/html": [
              "\n",
              "  <div id=\"df-723ac589-786e-44a8-816a-afc98e9478f7\">\n",
              "    <div class=\"colab-df-container\">\n",
              "      <div>\n",
              "<style scoped>\n",
              "    .dataframe tbody tr th:only-of-type {\n",
              "        vertical-align: middle;\n",
              "    }\n",
              "\n",
              "    .dataframe tbody tr th {\n",
              "        vertical-align: top;\n",
              "    }\n",
              "\n",
              "    .dataframe thead th {\n",
              "        text-align: right;\n",
              "    }\n",
              "</style>\n",
              "<table border=\"1\" class=\"dataframe\">\n",
              "  <thead>\n",
              "    <tr style=\"text-align: right;\">\n",
              "      <th></th>\n",
              "      <th>ID ผู้ประเมิน</th>\n",
              "      <th>ความมั่นใจในการเมินราคาทรัพย์</th>\n",
              "      <th>ประเมินราคาซื้อ-ขาย</th>\n",
              "      <th>ให้คะแนนทรัพย์</th>\n",
              "    </tr>\n",
              "  </thead>\n",
              "  <tbody>\n",
              "    <tr>\n",
              "      <th>1</th>\n",
              "      <td>2</td>\n",
              "      <td>มั่นใจ</td>\n",
              "      <td>2700000.0</td>\n",
              "      <td>4 ขายได้ ใช้ระยะเวลา 4 - 6 เดือน</td>\n",
              "    </tr>\n",
              "    <tr>\n",
              "      <th>3</th>\n",
              "      <td>2</td>\n",
              "      <td>มั่นใจ</td>\n",
              "      <td>2400000.0</td>\n",
              "      <td>3 ขายได้ ใช้ระยะเวลา 7 - 12 เดือน</td>\n",
              "    </tr>\n",
              "    <tr>\n",
              "      <th>5</th>\n",
              "      <td>2</td>\n",
              "      <td>มั่นใจ</td>\n",
              "      <td>9000000.0</td>\n",
              "      <td>5 ขายง่าย ใช้ระยะเวลา 1 - 3 เดือน</td>\n",
              "    </tr>\n",
              "    <tr>\n",
              "      <th>7</th>\n",
              "      <td>2</td>\n",
              "      <td>มั่นใจ</td>\n",
              "      <td>3700000.0</td>\n",
              "      <td>3 ขายได้ ใช้ระยะเวลา 7 - 12 เดือน</td>\n",
              "    </tr>\n",
              "    <tr>\n",
              "      <th>9</th>\n",
              "      <td>2</td>\n",
              "      <td>มั่นใจ</td>\n",
              "      <td>2500000.0</td>\n",
              "      <td>3 ขายได้ ใช้ระยะเวลา 7 - 12 เดือน</td>\n",
              "    </tr>\n",
              "  </tbody>\n",
              "</table>\n",
              "</div>\n",
              "      <button class=\"colab-df-convert\" onclick=\"convertToInteractive('df-723ac589-786e-44a8-816a-afc98e9478f7')\"\n",
              "              title=\"Convert this dataframe to an interactive table.\"\n",
              "              style=\"display:none;\">\n",
              "        \n",
              "  <svg xmlns=\"http://www.w3.org/2000/svg\" height=\"24px\"viewBox=\"0 0 24 24\"\n",
              "       width=\"24px\">\n",
              "    <path d=\"M0 0h24v24H0V0z\" fill=\"none\"/>\n",
              "    <path d=\"M18.56 5.44l.94 2.06.94-2.06 2.06-.94-2.06-.94-.94-2.06-.94 2.06-2.06.94zm-11 1L8.5 8.5l.94-2.06 2.06-.94-2.06-.94L8.5 2.5l-.94 2.06-2.06.94zm10 10l.94 2.06.94-2.06 2.06-.94-2.06-.94-.94-2.06-.94 2.06-2.06.94z\"/><path d=\"M17.41 7.96l-1.37-1.37c-.4-.4-.92-.59-1.43-.59-.52 0-1.04.2-1.43.59L10.3 9.45l-7.72 7.72c-.78.78-.78 2.05 0 2.83L4 21.41c.39.39.9.59 1.41.59.51 0 1.02-.2 1.41-.59l7.78-7.78 2.81-2.81c.8-.78.8-2.07 0-2.86zM5.41 20L4 18.59l7.72-7.72 1.47 1.35L5.41 20z\"/>\n",
              "  </svg>\n",
              "      </button>\n",
              "      \n",
              "  <style>\n",
              "    .colab-df-container {\n",
              "      display:flex;\n",
              "      flex-wrap:wrap;\n",
              "      gap: 12px;\n",
              "    }\n",
              "\n",
              "    .colab-df-convert {\n",
              "      background-color: #E8F0FE;\n",
              "      border: none;\n",
              "      border-radius: 50%;\n",
              "      cursor: pointer;\n",
              "      display: none;\n",
              "      fill: #1967D2;\n",
              "      height: 32px;\n",
              "      padding: 0 0 0 0;\n",
              "      width: 32px;\n",
              "    }\n",
              "\n",
              "    .colab-df-convert:hover {\n",
              "      background-color: #E2EBFA;\n",
              "      box-shadow: 0px 1px 2px rgba(60, 64, 67, 0.3), 0px 1px 3px 1px rgba(60, 64, 67, 0.15);\n",
              "      fill: #174EA6;\n",
              "    }\n",
              "\n",
              "    [theme=dark] .colab-df-convert {\n",
              "      background-color: #3B4455;\n",
              "      fill: #D2E3FC;\n",
              "    }\n",
              "\n",
              "    [theme=dark] .colab-df-convert:hover {\n",
              "      background-color: #434B5C;\n",
              "      box-shadow: 0px 1px 3px 1px rgba(0, 0, 0, 0.15);\n",
              "      filter: drop-shadow(0px 1px 2px rgba(0, 0, 0, 0.3));\n",
              "      fill: #FFFFFF;\n",
              "    }\n",
              "  </style>\n",
              "\n",
              "      <script>\n",
              "        const buttonEl =\n",
              "          document.querySelector('#df-723ac589-786e-44a8-816a-afc98e9478f7 button.colab-df-convert');\n",
              "        buttonEl.style.display =\n",
              "          google.colab.kernel.accessAllowed ? 'block' : 'none';\n",
              "\n",
              "        async function convertToInteractive(key) {\n",
              "          const element = document.querySelector('#df-723ac589-786e-44a8-816a-afc98e9478f7');\n",
              "          const dataTable =\n",
              "            await google.colab.kernel.invokeFunction('convertToInteractive',\n",
              "                                                     [key], {});\n",
              "          if (!dataTable) return;\n",
              "\n",
              "          const docLinkHtml = 'Like what you see? Visit the ' +\n",
              "            '<a target=\"_blank\" href=https://colab.research.google.com/notebooks/data_table.ipynb>data table notebook</a>'\n",
              "            + ' to learn more about interactive tables.';\n",
              "          element.innerHTML = '';\n",
              "          dataTable['output_type'] = 'display_data';\n",
              "          await google.colab.output.renderOutput(dataTable, element);\n",
              "          const docLink = document.createElement('div');\n",
              "          docLink.innerHTML = docLinkHtml;\n",
              "          element.appendChild(docLink);\n",
              "        }\n",
              "      </script>\n",
              "    </div>\n",
              "  </div>\n",
              "  "
            ]
          },
          "metadata": {},
          "execution_count": 187
        }
      ]
    },
    {
      "cell_type": "code",
      "source": [
        "esth2.describe()"
      ],
      "metadata": {
        "colab": {
          "base_uri": "https://localhost:8080/",
          "height": 300
        },
        "outputId": "1b113058-05f2-41b3-a240-79e50dcffa68",
        "id": "JHmjo7kZZoru"
      },
      "execution_count": 188,
      "outputs": [
        {
          "output_type": "execute_result",
          "data": {
            "text/plain": [
              "       ID ผู้ประเมิน    ราคาทรัพย์  ประเมินราคาซื้อ-ขาย\n",
              "count          610.0  6.100000e+02         4.980000e+02\n",
              "mean             2.0  3.369097e+06         3.449197e+06\n",
              "std              0.0  4.975575e+06         4.381048e+06\n",
              "min              2.0  2.600000e+05         2.500000e+05\n",
              "25%              2.0  1.467500e+06         1.892500e+06\n",
              "50%              2.0  2.530000e+06         2.600000e+06\n",
              "75%              2.0  4.067500e+06         4.200000e+06\n",
              "max              2.0  1.039350e+08         8.000000e+07"
            ],
            "text/html": [
              "\n",
              "  <div id=\"df-5277fc73-9bf1-4b46-80f0-ec1589c5cbde\">\n",
              "    <div class=\"colab-df-container\">\n",
              "      <div>\n",
              "<style scoped>\n",
              "    .dataframe tbody tr th:only-of-type {\n",
              "        vertical-align: middle;\n",
              "    }\n",
              "\n",
              "    .dataframe tbody tr th {\n",
              "        vertical-align: top;\n",
              "    }\n",
              "\n",
              "    .dataframe thead th {\n",
              "        text-align: right;\n",
              "    }\n",
              "</style>\n",
              "<table border=\"1\" class=\"dataframe\">\n",
              "  <thead>\n",
              "    <tr style=\"text-align: right;\">\n",
              "      <th></th>\n",
              "      <th>ID ผู้ประเมิน</th>\n",
              "      <th>ราคาทรัพย์</th>\n",
              "      <th>ประเมินราคาซื้อ-ขาย</th>\n",
              "    </tr>\n",
              "  </thead>\n",
              "  <tbody>\n",
              "    <tr>\n",
              "      <th>count</th>\n",
              "      <td>610.0</td>\n",
              "      <td>6.100000e+02</td>\n",
              "      <td>4.980000e+02</td>\n",
              "    </tr>\n",
              "    <tr>\n",
              "      <th>mean</th>\n",
              "      <td>2.0</td>\n",
              "      <td>3.369097e+06</td>\n",
              "      <td>3.449197e+06</td>\n",
              "    </tr>\n",
              "    <tr>\n",
              "      <th>std</th>\n",
              "      <td>0.0</td>\n",
              "      <td>4.975575e+06</td>\n",
              "      <td>4.381048e+06</td>\n",
              "    </tr>\n",
              "    <tr>\n",
              "      <th>min</th>\n",
              "      <td>2.0</td>\n",
              "      <td>2.600000e+05</td>\n",
              "      <td>2.500000e+05</td>\n",
              "    </tr>\n",
              "    <tr>\n",
              "      <th>25%</th>\n",
              "      <td>2.0</td>\n",
              "      <td>1.467500e+06</td>\n",
              "      <td>1.892500e+06</td>\n",
              "    </tr>\n",
              "    <tr>\n",
              "      <th>50%</th>\n",
              "      <td>2.0</td>\n",
              "      <td>2.530000e+06</td>\n",
              "      <td>2.600000e+06</td>\n",
              "    </tr>\n",
              "    <tr>\n",
              "      <th>75%</th>\n",
              "      <td>2.0</td>\n",
              "      <td>4.067500e+06</td>\n",
              "      <td>4.200000e+06</td>\n",
              "    </tr>\n",
              "    <tr>\n",
              "      <th>max</th>\n",
              "      <td>2.0</td>\n",
              "      <td>1.039350e+08</td>\n",
              "      <td>8.000000e+07</td>\n",
              "    </tr>\n",
              "  </tbody>\n",
              "</table>\n",
              "</div>\n",
              "      <button class=\"colab-df-convert\" onclick=\"convertToInteractive('df-5277fc73-9bf1-4b46-80f0-ec1589c5cbde')\"\n",
              "              title=\"Convert this dataframe to an interactive table.\"\n",
              "              style=\"display:none;\">\n",
              "        \n",
              "  <svg xmlns=\"http://www.w3.org/2000/svg\" height=\"24px\"viewBox=\"0 0 24 24\"\n",
              "       width=\"24px\">\n",
              "    <path d=\"M0 0h24v24H0V0z\" fill=\"none\"/>\n",
              "    <path d=\"M18.56 5.44l.94 2.06.94-2.06 2.06-.94-2.06-.94-.94-2.06-.94 2.06-2.06.94zm-11 1L8.5 8.5l.94-2.06 2.06-.94-2.06-.94L8.5 2.5l-.94 2.06-2.06.94zm10 10l.94 2.06.94-2.06 2.06-.94-2.06-.94-.94-2.06-.94 2.06-2.06.94z\"/><path d=\"M17.41 7.96l-1.37-1.37c-.4-.4-.92-.59-1.43-.59-.52 0-1.04.2-1.43.59L10.3 9.45l-7.72 7.72c-.78.78-.78 2.05 0 2.83L4 21.41c.39.39.9.59 1.41.59.51 0 1.02-.2 1.41-.59l7.78-7.78 2.81-2.81c.8-.78.8-2.07 0-2.86zM5.41 20L4 18.59l7.72-7.72 1.47 1.35L5.41 20z\"/>\n",
              "  </svg>\n",
              "      </button>\n",
              "      \n",
              "  <style>\n",
              "    .colab-df-container {\n",
              "      display:flex;\n",
              "      flex-wrap:wrap;\n",
              "      gap: 12px;\n",
              "    }\n",
              "\n",
              "    .colab-df-convert {\n",
              "      background-color: #E8F0FE;\n",
              "      border: none;\n",
              "      border-radius: 50%;\n",
              "      cursor: pointer;\n",
              "      display: none;\n",
              "      fill: #1967D2;\n",
              "      height: 32px;\n",
              "      padding: 0 0 0 0;\n",
              "      width: 32px;\n",
              "    }\n",
              "\n",
              "    .colab-df-convert:hover {\n",
              "      background-color: #E2EBFA;\n",
              "      box-shadow: 0px 1px 2px rgba(60, 64, 67, 0.3), 0px 1px 3px 1px rgba(60, 64, 67, 0.15);\n",
              "      fill: #174EA6;\n",
              "    }\n",
              "\n",
              "    [theme=dark] .colab-df-convert {\n",
              "      background-color: #3B4455;\n",
              "      fill: #D2E3FC;\n",
              "    }\n",
              "\n",
              "    [theme=dark] .colab-df-convert:hover {\n",
              "      background-color: #434B5C;\n",
              "      box-shadow: 0px 1px 3px 1px rgba(0, 0, 0, 0.15);\n",
              "      filter: drop-shadow(0px 1px 2px rgba(0, 0, 0, 0.3));\n",
              "      fill: #FFFFFF;\n",
              "    }\n",
              "  </style>\n",
              "\n",
              "      <script>\n",
              "        const buttonEl =\n",
              "          document.querySelector('#df-5277fc73-9bf1-4b46-80f0-ec1589c5cbde button.colab-df-convert');\n",
              "        buttonEl.style.display =\n",
              "          google.colab.kernel.accessAllowed ? 'block' : 'none';\n",
              "\n",
              "        async function convertToInteractive(key) {\n",
              "          const element = document.querySelector('#df-5277fc73-9bf1-4b46-80f0-ec1589c5cbde');\n",
              "          const dataTable =\n",
              "            await google.colab.kernel.invokeFunction('convertToInteractive',\n",
              "                                                     [key], {});\n",
              "          if (!dataTable) return;\n",
              "\n",
              "          const docLinkHtml = 'Like what you see? Visit the ' +\n",
              "            '<a target=\"_blank\" href=https://colab.research.google.com/notebooks/data_table.ipynb>data table notebook</a>'\n",
              "            + ' to learn more about interactive tables.';\n",
              "          element.innerHTML = '';\n",
              "          dataTable['output_type'] = 'display_data';\n",
              "          await google.colab.output.renderOutput(dataTable, element);\n",
              "          const docLink = document.createElement('div');\n",
              "          docLink.innerHTML = docLinkHtml;\n",
              "          element.appendChild(docLink);\n",
              "        }\n",
              "      </script>\n",
              "    </div>\n",
              "  </div>\n",
              "  "
            ]
          },
          "metadata": {},
          "execution_count": 188
        }
      ]
    },
    {
      "cell_type": "code",
      "source": [
        "esth2['ให้คะแนนทรัพย์'].value_counts()"
      ],
      "metadata": {
        "colab": {
          "base_uri": "https://localhost:8080/"
        },
        "outputId": "997a132f-397b-4b4b-8f2c-e08a1b2e8bc7",
        "id": "m9i_tH_KZoru"
      },
      "execution_count": 189,
      "outputs": [
        {
          "output_type": "execute_result",
          "data": {
            "text/plain": [
              "3 ขายได้ ใช้ระยะเวลา 7 - 12 เดือน     367\n",
              "4 ขายได้ ใช้ระยะเวลา 4 - 6 เดือน      117\n",
              "2 ขายได้ยาก ใช้ระยะเวลามากว่า 1 ปี     14\n",
              "5 ขายง่าย ใช้ระยะเวลา 1 - 3 เดือน       1\n",
              "Name: ให้คะแนนทรัพย์, dtype: int64"
            ]
          },
          "metadata": {},
          "execution_count": 189
        }
      ]
    },
    {
      "cell_type": "code",
      "source": [
        "esth2['ความมั่นใจในการเมินราคาทรัพย์'].value_counts()"
      ],
      "metadata": {
        "colab": {
          "base_uri": "https://localhost:8080/"
        },
        "outputId": "ef07a898-1936-4b1e-834d-9af75f140a60",
        "id": "mHhKC-IlZoru"
      },
      "execution_count": 190,
      "outputs": [
        {
          "output_type": "execute_result",
          "data": {
            "text/plain": [
              "มั่นใจ       499\n",
              "ไม่มั่นใจ    111\n",
              "Name: ความมั่นใจในการเมินราคาทรัพย์, dtype: int64"
            ]
          },
          "metadata": {},
          "execution_count": 190
        }
      ]
    },
    {
      "cell_type": "markdown",
      "source": [
        "#เปรียบเทียบความแตกต่างในการประเมิณราคาทรัพย์แต่ละทรัพย์ของนักประเมินแต่ละคนและของราคาตั้งขาย"
      ],
      "metadata": {
        "id": "nG5NYDV5Zorx"
      }
    },
    {
      "cell_type": "code",
      "source": [
        "from sklearn.metrics import mean_absolute_percentage_error as mape #mape"
      ],
      "metadata": {
        "id": "_9sMvgSAZorx"
      },
      "execution_count": 191,
      "outputs": []
    },
    {
      "cell_type": "markdown",
      "source": [
        "## House"
      ],
      "metadata": {
        "id": "jdwpKMCGimcZ"
      }
    },
    {
      "cell_type": "code",
      "source": [
        "esth2['ประเมินโดย 1'] = esth2['post id'].map(esth1.set_index('post id')['ประเมินราคาซื้อ-ขาย'])\n",
        "esth2.head(3)"
      ],
      "metadata": {
        "colab": {
          "base_uri": "https://localhost:8080/",
          "height": 430
        },
        "outputId": "cd133e5e-0ba4-4de6-9e59-b457e52f0617",
        "id": "pCaMmC-xZory"
      },
      "execution_count": 192,
      "outputs": [
        {
          "output_type": "stream",
          "name": "stderr",
          "text": [
            "<ipython-input-192-e66322c8cf96>:1: SettingWithCopyWarning: \n",
            "A value is trying to be set on a copy of a slice from a DataFrame.\n",
            "Try using .loc[row_indexer,col_indexer] = value instead\n",
            "\n",
            "See the caveats in the documentation: https://pandas.pydata.org/pandas-docs/stable/user_guide/indexing.html#returning-a-view-versus-a-copy\n",
            "  esth2['ประเมินโดย 1'] = esth2['post id'].map(esth1.set_index('post id')['ประเมินราคาซื้อ-ขาย'])\n"
          ]
        },
        {
          "output_type": "execute_result",
          "data": {
            "text/plain": [
              "   ID ผู้ประเมิน                              post id property_type  \\\n",
              "1              2   https://nayoo.co/khonkaen/posts/25    บ้านเดี่ยว   \n",
              "3              2   https://nayoo.co/khonkaen/posts/33    บ้านเดี่ยว   \n",
              "5              2  https://nayoo.co/khonkaen/posts/495    บ้านเดี่ยว   \n",
              "\n",
              "  ความมั่นใจในการเมินราคาทรัพย์  ราคาทรัพย์  ประเมินราคาซื้อ-ขาย  \\\n",
              "1                        มั่นใจ     2890000            2700000.0   \n",
              "3                        มั่นใจ     2600000            2400000.0   \n",
              "5                        มั่นใจ     6050000            9000000.0   \n",
              "\n",
              "                      ปัจจัยในการประเมินราคาซื้อ-ขาย  \\\n",
              "1  โครงการนี้ราคาเสนอขาย 2,500,000-3,000,000 บาท/...   \n",
              "3   ราคาเสนอขายประมาณ 2,200,000 - 2,500,000 บาท/หลัง   \n",
              "5  โซนนี้ราคาซื้อขาย ประมาณ 10,000-20,000 บาท/ตาร...   \n",
              "\n",
              "  เหตุผลไม่มั่นใจราคาประเมิน                     ให้คะแนนทรัพย์  ประเมินโดย 1  \n",
              "1                        NaN   4 ขายได้ ใช้ระยะเวลา 4 - 6 เดือน     2500000.0  \n",
              "3                        NaN  3 ขายได้ ใช้ระยะเวลา 7 - 12 เดือน     2200000.0  \n",
              "5                        NaN  5 ขายง่าย ใช้ระยะเวลา 1 - 3 เดือน     5000000.0  "
            ],
            "text/html": [
              "\n",
              "  <div id=\"df-30185d85-5380-45b3-a4f2-5877f0b4d2e2\">\n",
              "    <div class=\"colab-df-container\">\n",
              "      <div>\n",
              "<style scoped>\n",
              "    .dataframe tbody tr th:only-of-type {\n",
              "        vertical-align: middle;\n",
              "    }\n",
              "\n",
              "    .dataframe tbody tr th {\n",
              "        vertical-align: top;\n",
              "    }\n",
              "\n",
              "    .dataframe thead th {\n",
              "        text-align: right;\n",
              "    }\n",
              "</style>\n",
              "<table border=\"1\" class=\"dataframe\">\n",
              "  <thead>\n",
              "    <tr style=\"text-align: right;\">\n",
              "      <th></th>\n",
              "      <th>ID ผู้ประเมิน</th>\n",
              "      <th>post id</th>\n",
              "      <th>property_type</th>\n",
              "      <th>ความมั่นใจในการเมินราคาทรัพย์</th>\n",
              "      <th>ราคาทรัพย์</th>\n",
              "      <th>ประเมินราคาซื้อ-ขาย</th>\n",
              "      <th>ปัจจัยในการประเมินราคาซื้อ-ขาย</th>\n",
              "      <th>เหตุผลไม่มั่นใจราคาประเมิน</th>\n",
              "      <th>ให้คะแนนทรัพย์</th>\n",
              "      <th>ประเมินโดย 1</th>\n",
              "    </tr>\n",
              "  </thead>\n",
              "  <tbody>\n",
              "    <tr>\n",
              "      <th>1</th>\n",
              "      <td>2</td>\n",
              "      <td>https://nayoo.co/khonkaen/posts/25</td>\n",
              "      <td>บ้านเดี่ยว</td>\n",
              "      <td>มั่นใจ</td>\n",
              "      <td>2890000</td>\n",
              "      <td>2700000.0</td>\n",
              "      <td>โครงการนี้ราคาเสนอขาย 2,500,000-3,000,000 บาท/...</td>\n",
              "      <td>NaN</td>\n",
              "      <td>4 ขายได้ ใช้ระยะเวลา 4 - 6 เดือน</td>\n",
              "      <td>2500000.0</td>\n",
              "    </tr>\n",
              "    <tr>\n",
              "      <th>3</th>\n",
              "      <td>2</td>\n",
              "      <td>https://nayoo.co/khonkaen/posts/33</td>\n",
              "      <td>บ้านเดี่ยว</td>\n",
              "      <td>มั่นใจ</td>\n",
              "      <td>2600000</td>\n",
              "      <td>2400000.0</td>\n",
              "      <td>ราคาเสนอขายประมาณ 2,200,000 - 2,500,000 บาท/หลัง</td>\n",
              "      <td>NaN</td>\n",
              "      <td>3 ขายได้ ใช้ระยะเวลา 7 - 12 เดือน</td>\n",
              "      <td>2200000.0</td>\n",
              "    </tr>\n",
              "    <tr>\n",
              "      <th>5</th>\n",
              "      <td>2</td>\n",
              "      <td>https://nayoo.co/khonkaen/posts/495</td>\n",
              "      <td>บ้านเดี่ยว</td>\n",
              "      <td>มั่นใจ</td>\n",
              "      <td>6050000</td>\n",
              "      <td>9000000.0</td>\n",
              "      <td>โซนนี้ราคาซื้อขาย ประมาณ 10,000-20,000 บาท/ตาร...</td>\n",
              "      <td>NaN</td>\n",
              "      <td>5 ขายง่าย ใช้ระยะเวลา 1 - 3 เดือน</td>\n",
              "      <td>5000000.0</td>\n",
              "    </tr>\n",
              "  </tbody>\n",
              "</table>\n",
              "</div>\n",
              "      <button class=\"colab-df-convert\" onclick=\"convertToInteractive('df-30185d85-5380-45b3-a4f2-5877f0b4d2e2')\"\n",
              "              title=\"Convert this dataframe to an interactive table.\"\n",
              "              style=\"display:none;\">\n",
              "        \n",
              "  <svg xmlns=\"http://www.w3.org/2000/svg\" height=\"24px\"viewBox=\"0 0 24 24\"\n",
              "       width=\"24px\">\n",
              "    <path d=\"M0 0h24v24H0V0z\" fill=\"none\"/>\n",
              "    <path d=\"M18.56 5.44l.94 2.06.94-2.06 2.06-.94-2.06-.94-.94-2.06-.94 2.06-2.06.94zm-11 1L8.5 8.5l.94-2.06 2.06-.94-2.06-.94L8.5 2.5l-.94 2.06-2.06.94zm10 10l.94 2.06.94-2.06 2.06-.94-2.06-.94-.94-2.06-.94 2.06-2.06.94z\"/><path d=\"M17.41 7.96l-1.37-1.37c-.4-.4-.92-.59-1.43-.59-.52 0-1.04.2-1.43.59L10.3 9.45l-7.72 7.72c-.78.78-.78 2.05 0 2.83L4 21.41c.39.39.9.59 1.41.59.51 0 1.02-.2 1.41-.59l7.78-7.78 2.81-2.81c.8-.78.8-2.07 0-2.86zM5.41 20L4 18.59l7.72-7.72 1.47 1.35L5.41 20z\"/>\n",
              "  </svg>\n",
              "      </button>\n",
              "      \n",
              "  <style>\n",
              "    .colab-df-container {\n",
              "      display:flex;\n",
              "      flex-wrap:wrap;\n",
              "      gap: 12px;\n",
              "    }\n",
              "\n",
              "    .colab-df-convert {\n",
              "      background-color: #E8F0FE;\n",
              "      border: none;\n",
              "      border-radius: 50%;\n",
              "      cursor: pointer;\n",
              "      display: none;\n",
              "      fill: #1967D2;\n",
              "      height: 32px;\n",
              "      padding: 0 0 0 0;\n",
              "      width: 32px;\n",
              "    }\n",
              "\n",
              "    .colab-df-convert:hover {\n",
              "      background-color: #E2EBFA;\n",
              "      box-shadow: 0px 1px 2px rgba(60, 64, 67, 0.3), 0px 1px 3px 1px rgba(60, 64, 67, 0.15);\n",
              "      fill: #174EA6;\n",
              "    }\n",
              "\n",
              "    [theme=dark] .colab-df-convert {\n",
              "      background-color: #3B4455;\n",
              "      fill: #D2E3FC;\n",
              "    }\n",
              "\n",
              "    [theme=dark] .colab-df-convert:hover {\n",
              "      background-color: #434B5C;\n",
              "      box-shadow: 0px 1px 3px 1px rgba(0, 0, 0, 0.15);\n",
              "      filter: drop-shadow(0px 1px 2px rgba(0, 0, 0, 0.3));\n",
              "      fill: #FFFFFF;\n",
              "    }\n",
              "  </style>\n",
              "\n",
              "      <script>\n",
              "        const buttonEl =\n",
              "          document.querySelector('#df-30185d85-5380-45b3-a4f2-5877f0b4d2e2 button.colab-df-convert');\n",
              "        buttonEl.style.display =\n",
              "          google.colab.kernel.accessAllowed ? 'block' : 'none';\n",
              "\n",
              "        async function convertToInteractive(key) {\n",
              "          const element = document.querySelector('#df-30185d85-5380-45b3-a4f2-5877f0b4d2e2');\n",
              "          const dataTable =\n",
              "            await google.colab.kernel.invokeFunction('convertToInteractive',\n",
              "                                                     [key], {});\n",
              "          if (!dataTable) return;\n",
              "\n",
              "          const docLinkHtml = 'Like what you see? Visit the ' +\n",
              "            '<a target=\"_blank\" href=https://colab.research.google.com/notebooks/data_table.ipynb>data table notebook</a>'\n",
              "            + ' to learn more about interactive tables.';\n",
              "          element.innerHTML = '';\n",
              "          dataTable['output_type'] = 'display_data';\n",
              "          await google.colab.output.renderOutput(dataTable, element);\n",
              "          const docLink = document.createElement('div');\n",
              "          docLink.innerHTML = docLinkHtml;\n",
              "          element.appendChild(docLink);\n",
              "        }\n",
              "      </script>\n",
              "    </div>\n",
              "  </div>\n",
              "  "
            ]
          },
          "metadata": {},
          "execution_count": 192
        }
      ]
    },
    {
      "cell_type": "code",
      "source": [
        "esth2.rename(columns={'ประเมินราคาซื้อ-ขาย' :'ประเมินโดย 2'}, inplace=True)"
      ],
      "metadata": {
        "id": "ZL6US3TNepkb",
        "outputId": "c0e42057-25ff-4268-ba68-2f0d72aa55f2",
        "colab": {
          "base_uri": "https://localhost:8080/"
        }
      },
      "execution_count": 193,
      "outputs": [
        {
          "output_type": "stream",
          "name": "stderr",
          "text": [
            "/usr/local/lib/python3.8/dist-packages/pandas/core/frame.py:5039: SettingWithCopyWarning: \n",
            "A value is trying to be set on a copy of a slice from a DataFrame\n",
            "\n",
            "See the caveats in the documentation: https://pandas.pydata.org/pandas-docs/stable/user_guide/indexing.html#returning-a-view-versus-a-copy\n",
            "  return super().rename(\n"
          ]
        }
      ]
    },
    {
      "cell_type": "code",
      "source": [
        "asshouse = esth2[['post id','ราคาทรัพย์','ประเมินโดย 1','ประเมินโดย 2']]\n",
        "asshouse = asshouse.dropna(subset=['ราคาทรัพย์','ประเมินโดย 1','ประเมินโดย 2'])\n",
        "asshouse"
      ],
      "metadata": {
        "colab": {
          "base_uri": "https://localhost:8080/",
          "height": 424
        },
        "id": "IX0NwKaneUV5",
        "outputId": "74bcc3c5-8fdf-4759-d1dd-096af1fb9e80"
      },
      "execution_count": 194,
      "outputs": [
        {
          "output_type": "execute_result",
          "data": {
            "text/plain": [
              "                                   post id  ราคาทรัพย์  ประเมินโดย 1  \\\n",
              "1       https://nayoo.co/khonkaen/posts/25     2890000     2500000.0   \n",
              "3       https://nayoo.co/khonkaen/posts/33     2600000     2200000.0   \n",
              "5      https://nayoo.co/khonkaen/posts/495     6050000     5000000.0   \n",
              "7      https://nayoo.co/khonkaen/posts/564     4400000     3500000.0   \n",
              "9      https://nayoo.co/khonkaen/posts/566     2750000     2500000.0   \n",
              "...                                    ...         ...           ...   \n",
              "1210  https://nayoo.co/khonkaen/posts/6255      260000      550000.0   \n",
              "1212  https://nayoo.co/khonkaen/posts/6256      610000      700000.0   \n",
              "1214  https://nayoo.co/khonkaen/posts/6257      295000      500000.0   \n",
              "1216  https://nayoo.co/khonkaen/posts/6258      615000      600000.0   \n",
              "1218  https://nayoo.co/khonkaen/posts/6260      620000      750000.0   \n",
              "\n",
              "      ประเมินโดย 2  \n",
              "1        2700000.0  \n",
              "3        2400000.0  \n",
              "5        9000000.0  \n",
              "7        3700000.0  \n",
              "9        2500000.0  \n",
              "...            ...  \n",
              "1210      300000.0  \n",
              "1212      500000.0  \n",
              "1214      300000.0  \n",
              "1216      500000.0  \n",
              "1218      700000.0  \n",
              "\n",
              "[498 rows x 4 columns]"
            ],
            "text/html": [
              "\n",
              "  <div id=\"df-593673af-e398-4f85-ae8c-3cb36da28e71\">\n",
              "    <div class=\"colab-df-container\">\n",
              "      <div>\n",
              "<style scoped>\n",
              "    .dataframe tbody tr th:only-of-type {\n",
              "        vertical-align: middle;\n",
              "    }\n",
              "\n",
              "    .dataframe tbody tr th {\n",
              "        vertical-align: top;\n",
              "    }\n",
              "\n",
              "    .dataframe thead th {\n",
              "        text-align: right;\n",
              "    }\n",
              "</style>\n",
              "<table border=\"1\" class=\"dataframe\">\n",
              "  <thead>\n",
              "    <tr style=\"text-align: right;\">\n",
              "      <th></th>\n",
              "      <th>post id</th>\n",
              "      <th>ราคาทรัพย์</th>\n",
              "      <th>ประเมินโดย 1</th>\n",
              "      <th>ประเมินโดย 2</th>\n",
              "    </tr>\n",
              "  </thead>\n",
              "  <tbody>\n",
              "    <tr>\n",
              "      <th>1</th>\n",
              "      <td>https://nayoo.co/khonkaen/posts/25</td>\n",
              "      <td>2890000</td>\n",
              "      <td>2500000.0</td>\n",
              "      <td>2700000.0</td>\n",
              "    </tr>\n",
              "    <tr>\n",
              "      <th>3</th>\n",
              "      <td>https://nayoo.co/khonkaen/posts/33</td>\n",
              "      <td>2600000</td>\n",
              "      <td>2200000.0</td>\n",
              "      <td>2400000.0</td>\n",
              "    </tr>\n",
              "    <tr>\n",
              "      <th>5</th>\n",
              "      <td>https://nayoo.co/khonkaen/posts/495</td>\n",
              "      <td>6050000</td>\n",
              "      <td>5000000.0</td>\n",
              "      <td>9000000.0</td>\n",
              "    </tr>\n",
              "    <tr>\n",
              "      <th>7</th>\n",
              "      <td>https://nayoo.co/khonkaen/posts/564</td>\n",
              "      <td>4400000</td>\n",
              "      <td>3500000.0</td>\n",
              "      <td>3700000.0</td>\n",
              "    </tr>\n",
              "    <tr>\n",
              "      <th>9</th>\n",
              "      <td>https://nayoo.co/khonkaen/posts/566</td>\n",
              "      <td>2750000</td>\n",
              "      <td>2500000.0</td>\n",
              "      <td>2500000.0</td>\n",
              "    </tr>\n",
              "    <tr>\n",
              "      <th>...</th>\n",
              "      <td>...</td>\n",
              "      <td>...</td>\n",
              "      <td>...</td>\n",
              "      <td>...</td>\n",
              "    </tr>\n",
              "    <tr>\n",
              "      <th>1210</th>\n",
              "      <td>https://nayoo.co/khonkaen/posts/6255</td>\n",
              "      <td>260000</td>\n",
              "      <td>550000.0</td>\n",
              "      <td>300000.0</td>\n",
              "    </tr>\n",
              "    <tr>\n",
              "      <th>1212</th>\n",
              "      <td>https://nayoo.co/khonkaen/posts/6256</td>\n",
              "      <td>610000</td>\n",
              "      <td>700000.0</td>\n",
              "      <td>500000.0</td>\n",
              "    </tr>\n",
              "    <tr>\n",
              "      <th>1214</th>\n",
              "      <td>https://nayoo.co/khonkaen/posts/6257</td>\n",
              "      <td>295000</td>\n",
              "      <td>500000.0</td>\n",
              "      <td>300000.0</td>\n",
              "    </tr>\n",
              "    <tr>\n",
              "      <th>1216</th>\n",
              "      <td>https://nayoo.co/khonkaen/posts/6258</td>\n",
              "      <td>615000</td>\n",
              "      <td>600000.0</td>\n",
              "      <td>500000.0</td>\n",
              "    </tr>\n",
              "    <tr>\n",
              "      <th>1218</th>\n",
              "      <td>https://nayoo.co/khonkaen/posts/6260</td>\n",
              "      <td>620000</td>\n",
              "      <td>750000.0</td>\n",
              "      <td>700000.0</td>\n",
              "    </tr>\n",
              "  </tbody>\n",
              "</table>\n",
              "<p>498 rows × 4 columns</p>\n",
              "</div>\n",
              "      <button class=\"colab-df-convert\" onclick=\"convertToInteractive('df-593673af-e398-4f85-ae8c-3cb36da28e71')\"\n",
              "              title=\"Convert this dataframe to an interactive table.\"\n",
              "              style=\"display:none;\">\n",
              "        \n",
              "  <svg xmlns=\"http://www.w3.org/2000/svg\" height=\"24px\"viewBox=\"0 0 24 24\"\n",
              "       width=\"24px\">\n",
              "    <path d=\"M0 0h24v24H0V0z\" fill=\"none\"/>\n",
              "    <path d=\"M18.56 5.44l.94 2.06.94-2.06 2.06-.94-2.06-.94-.94-2.06-.94 2.06-2.06.94zm-11 1L8.5 8.5l.94-2.06 2.06-.94-2.06-.94L8.5 2.5l-.94 2.06-2.06.94zm10 10l.94 2.06.94-2.06 2.06-.94-2.06-.94-.94-2.06-.94 2.06-2.06.94z\"/><path d=\"M17.41 7.96l-1.37-1.37c-.4-.4-.92-.59-1.43-.59-.52 0-1.04.2-1.43.59L10.3 9.45l-7.72 7.72c-.78.78-.78 2.05 0 2.83L4 21.41c.39.39.9.59 1.41.59.51 0 1.02-.2 1.41-.59l7.78-7.78 2.81-2.81c.8-.78.8-2.07 0-2.86zM5.41 20L4 18.59l7.72-7.72 1.47 1.35L5.41 20z\"/>\n",
              "  </svg>\n",
              "      </button>\n",
              "      \n",
              "  <style>\n",
              "    .colab-df-container {\n",
              "      display:flex;\n",
              "      flex-wrap:wrap;\n",
              "      gap: 12px;\n",
              "    }\n",
              "\n",
              "    .colab-df-convert {\n",
              "      background-color: #E8F0FE;\n",
              "      border: none;\n",
              "      border-radius: 50%;\n",
              "      cursor: pointer;\n",
              "      display: none;\n",
              "      fill: #1967D2;\n",
              "      height: 32px;\n",
              "      padding: 0 0 0 0;\n",
              "      width: 32px;\n",
              "    }\n",
              "\n",
              "    .colab-df-convert:hover {\n",
              "      background-color: #E2EBFA;\n",
              "      box-shadow: 0px 1px 2px rgba(60, 64, 67, 0.3), 0px 1px 3px 1px rgba(60, 64, 67, 0.15);\n",
              "      fill: #174EA6;\n",
              "    }\n",
              "\n",
              "    [theme=dark] .colab-df-convert {\n",
              "      background-color: #3B4455;\n",
              "      fill: #D2E3FC;\n",
              "    }\n",
              "\n",
              "    [theme=dark] .colab-df-convert:hover {\n",
              "      background-color: #434B5C;\n",
              "      box-shadow: 0px 1px 3px 1px rgba(0, 0, 0, 0.15);\n",
              "      filter: drop-shadow(0px 1px 2px rgba(0, 0, 0, 0.3));\n",
              "      fill: #FFFFFF;\n",
              "    }\n",
              "  </style>\n",
              "\n",
              "      <script>\n",
              "        const buttonEl =\n",
              "          document.querySelector('#df-593673af-e398-4f85-ae8c-3cb36da28e71 button.colab-df-convert');\n",
              "        buttonEl.style.display =\n",
              "          google.colab.kernel.accessAllowed ? 'block' : 'none';\n",
              "\n",
              "        async function convertToInteractive(key) {\n",
              "          const element = document.querySelector('#df-593673af-e398-4f85-ae8c-3cb36da28e71');\n",
              "          const dataTable =\n",
              "            await google.colab.kernel.invokeFunction('convertToInteractive',\n",
              "                                                     [key], {});\n",
              "          if (!dataTable) return;\n",
              "\n",
              "          const docLinkHtml = 'Like what you see? Visit the ' +\n",
              "            '<a target=\"_blank\" href=https://colab.research.google.com/notebooks/data_table.ipynb>data table notebook</a>'\n",
              "            + ' to learn more about interactive tables.';\n",
              "          element.innerHTML = '';\n",
              "          dataTable['output_type'] = 'display_data';\n",
              "          await google.colab.output.renderOutput(dataTable, element);\n",
              "          const docLink = document.createElement('div');\n",
              "          docLink.innerHTML = docLinkHtml;\n",
              "          element.appendChild(docLink);\n",
              "        }\n",
              "      </script>\n",
              "    </div>\n",
              "  </div>\n",
              "  "
            ]
          },
          "metadata": {},
          "execution_count": 194
        }
      ]
    },
    {
      "cell_type": "markdown",
      "source": [
        "เช็คและแก้ missing"
      ],
      "metadata": {
        "id": "tvfr9CyshWh4"
      }
    },
    {
      "cell_type": "code",
      "source": [
        "asshouse.isnull().any()"
      ],
      "metadata": {
        "colab": {
          "base_uri": "https://localhost:8080/"
        },
        "id": "FycMmD4PggmA",
        "outputId": "1b0490e3-abf7-4ad0-fa9f-7d96b23fd68f"
      },
      "execution_count": 195,
      "outputs": [
        {
          "output_type": "execute_result",
          "data": {
            "text/plain": [
              "post id         False\n",
              "ราคาทรัพย์      False\n",
              "ประเมินโดย 1    False\n",
              "ประเมินโดย 2    False\n",
              "dtype: bool"
            ]
          },
          "metadata": {},
          "execution_count": 195
        }
      ]
    },
    {
      "cell_type": "code",
      "source": [
        "asshouse.isnull().any()"
      ],
      "metadata": {
        "colab": {
          "base_uri": "https://localhost:8080/"
        },
        "id": "2u0I7maphKNv",
        "outputId": "55cd1acb-8c99-4dd7-e449-c02dfa9ec856"
      },
      "execution_count": 196,
      "outputs": [
        {
          "output_type": "execute_result",
          "data": {
            "text/plain": [
              "post id         False\n",
              "ราคาทรัพย์      False\n",
              "ประเมินโดย 1    False\n",
              "ประเมินโดย 2    False\n",
              "dtype: bool"
            ]
          },
          "metadata": {},
          "execution_count": 196
        }
      ]
    },
    {
      "cell_type": "markdown",
      "source": [
        "### MAPE"
      ],
      "metadata": {
        "id": "6u4Otlmlk9Qo"
      }
    },
    {
      "cell_type": "code",
      "source": [
        "actual_h = pd.to_numeric(asshouse['ราคาทรัพย์'])\n",
        "pred_1h = asshouse['ประเมินโดย 1']\n",
        "pred_2h= asshouse['ประเมินโดย 2']"
      ],
      "metadata": {
        "id": "eEpfDapSZor0"
      },
      "execution_count": 197,
      "outputs": []
    },
    {
      "cell_type": "code",
      "source": [
        "mph1 = mape(actual_h,pred_1h)\n",
        "mph2 = mape(actual_h,pred_2h)\n",
        "mph12 = mape(pred_1h,pred_2h)"
      ],
      "metadata": {
        "id": "BzAJPKhDZor0"
      },
      "execution_count": 198,
      "outputs": []
    },
    {
      "cell_type": "code",
      "source": [
        "print(f' MAPE ราคาทรัพย์กับผู้ประเมินคนที่ 1 คือ {mph1:.2f}\\n MAPE ราคาทรัพย์กับผู้ประเมินคนที่ 2 คือ {mph2:.2f}\\n MAPE ราคาตั้งขายของผู้ประเมินคนที่ 1 กับ ผู้ประเมินคนที่ 2 คือ {mph12:.2f}')"
      ],
      "metadata": {
        "colab": {
          "base_uri": "https://localhost:8080/"
        },
        "id": "d5trXSqCmTOl",
        "outputId": "bb1de583-6c51-4da0-e0a6-ca9551ea26ea"
      },
      "execution_count": 199,
      "outputs": [
        {
          "output_type": "stream",
          "name": "stdout",
          "text": [
            " MAPE ราคาทรัพย์กับผู้ประเมินคนที่ 1 คือ 0.12\n",
            " MAPE ราคาทรัพย์กับผู้ประเมินคนที่ 2 คือ 0.14\n",
            " MAPE ราคาตั้งขายของผู้ประเมินคนที่ 1 กับ ผู้ประเมินคนที่ 2 คือ 0.17\n"
          ]
        }
      ]
    },
    {
      "cell_type": "code",
      "source": [
        "id1 = datah[datah['ID ผู้ประเมิน']==1]\n",
        "id1 = id1.dropna(subset=['ราคาทรัพย์','ประเมินราคาซื้อ-ขาย'])\n",
        "id2 = datah[datah['ID ผู้ประเมิน']==2]\n",
        "id2 = id2.dropna(subset=['ราคาทรัพย์','ประเมินราคาซื้อ-ขาย'])\n",
        "id1MAPE = mape(id1['ประเมินราคาซื้อ-ขาย'],pd.to_numeric(id1['ราคาทรัพย์']))\n",
        "id2MAPE = mape(id2['ประเมินราคาซื้อ-ขาย'],pd.to_numeric(id2['ราคาทรัพย์']))\n",
        "print(f'ความแตกต่างระหว่างราคาประกาศขายและราคาประเมินของ\\nบ้าน\\nนักประเมิน คนที่ 1 = {id1MAPE*100:.2f}%\\nนักประเมิน คนที่ 2 = {id2MAPE*100:.2f}%')\n",
        "id2['ประเมิน2'] = id2['post id'].map(id1.set_index('post id')['ประเมินราคาซื้อ-ขาย'])\n",
        "id2_d = id2.dropna(subset=['ประเมินราคาซื้อ-ขาย','ประเมิน2','ราคาทรัพย์'])\n",
        "one2two = mape(id2_d['ประเมินราคาซื้อ-ขาย'],id2_d['ประเมิน2'])\n",
        "two2one = mape(id2_d['ประเมิน2'],id2_d['ประเมินราคาซื้อ-ขาย'])\n",
        "print(f'ความผิดพลาดระหว่างนักประเมินทั้ง {((one2two)+(two2one))*50:.2f}%')\n",
        "print(f'จำนวนทรัพย์ทั้งหมด {len(id2_d)} ทรัพย์')"
      ],
      "metadata": {
        "id": "79OuA7OK7jaZ",
        "outputId": "6fc9dc7b-e80b-4f08-ad95-62aa6cade6c1",
        "colab": {
          "base_uri": "https://localhost:8080/"
        }
      },
      "execution_count": 200,
      "outputs": [
        {
          "output_type": "stream",
          "name": "stdout",
          "text": [
            "ความแตกต่างระหว่างราคาประกาศขายและราคาประเมินของ\n",
            "บ้าน\n",
            "นักประเมิน คนที่ 1 = 14.50%\n",
            "นักประเมิน คนที่ 2 = 11.14%\n",
            "ความผิดพลาดระหว่างนักประเมินทั้ง 14.56%\n",
            "จำนวนทรัพย์ทั้งหมด 498 ทรัพย์\n"
          ]
        }
      ]
    },
    {
      "cell_type": "markdown",
      "source": [
        "## Land"
      ],
      "metadata": {
        "id": "FscAd-5FUo_K"
      }
    },
    {
      "cell_type": "code",
      "source": [
        "estland2['ประเมินโดย 1'] = estland2['post id'].map(estland.set_index('post id')['ประเมินราคาซื้อ-ขาย'])\n",
        "estland2"
      ],
      "metadata": {
        "colab": {
          "base_uri": "https://localhost:8080/",
          "height": 1000
        },
        "outputId": "0a4198c6-69da-46ec-854f-e85ec76ae234",
        "id": "LH5JyR7wUo_K"
      },
      "execution_count": 201,
      "outputs": [
        {
          "output_type": "stream",
          "name": "stderr",
          "text": [
            "<ipython-input-201-07e18f3e7f5a>:1: SettingWithCopyWarning: \n",
            "A value is trying to be set on a copy of a slice from a DataFrame.\n",
            "Try using .loc[row_indexer,col_indexer] = value instead\n",
            "\n",
            "See the caveats in the documentation: https://pandas.pydata.org/pandas-docs/stable/user_guide/indexing.html#returning-a-view-versus-a-copy\n",
            "  estland2['ประเมินโดย 1'] = estland2['post id'].map(estland.set_index('post id')['ประเมินราคาซื้อ-ขาย'])\n"
          ]
        },
        {
          "output_type": "execute_result",
          "data": {
            "text/plain": [
              "     ID ผู้ประเมิน                                post id property_type  \\\n",
              "1                2   https://nayoo.co/khonkaen/posts/1033        ที่ดิน   \n",
              "4                2   https://nayoo.co/khonkaen/posts/1711        ที่ดิน   \n",
              "7                2   https://nayoo.co/khonkaen/posts/1726        ที่ดิน   \n",
              "10               2   https://nayoo.co/khonkaen/posts/1732        ที่ดิน   \n",
              "13               2   https://nayoo.co/khonkaen/posts/1866        ที่ดิน   \n",
              "..             ...                                    ...           ...   \n",
              "200              2  https://nayoo.co/khonkaen/posts/14539        ที่ดิน   \n",
              "202              2  https://nayoo.co/khonkaen/posts/16072        ที่ดิน   \n",
              "204              2  https://nayoo.co/khonkaen/posts/17093        ที่ดิน   \n",
              "206              2  https://nayoo.co/khonkaen/posts/17112        ที่ดิน   \n",
              "208              2  https://nayoo.co/khonkaen/posts/17145        ที่ดิน   \n",
              "\n",
              "    ความมั่นใจในการเมินราคาทรัพย์  ราคาทรัพย์  ประเมินราคาซื้อ-ขาย  \\\n",
              "1                          มั่นใจ     2800000            2000000.0   \n",
              "4                          มั่นใจ    14900000           12000000.0   \n",
              "7                          มั่นใจ    90000000           70000000.0   \n",
              "10                         มั่นใจ    65000000           60000000.0   \n",
              "13                         มั่นใจ     3000000            2500000.0   \n",
              "..                            ...         ...                  ...   \n",
              "200                        มั่นใจ     5000000            4000000.0   \n",
              "202                        มั่นใจ      750000             750000.0   \n",
              "204                        มั่นใจ     2650000            2500000.0   \n",
              "206                        มั่นใจ     1300000            1500000.0   \n",
              "208                        มั่นใจ     3000000            2800000.0   \n",
              "\n",
              "              ปัจจัยในการประเมินราคาซื้อ-ขาย เหตุผลไม่มั่นใจราคาประเมิน  \\\n",
              "1      ราคาเสนอขาย 7,000-12,0000 บาท/ตารางวา                        NaN   \n",
              "4    ราคาเสนอขาย 100,000-150,000 บาท/ตารางวา                        NaN   \n",
              "7                  30,000-40,000 บาท/ตารางวา                        NaN   \n",
              "10   ราคาเสนอขาย 12,000 - 15,000 บาท/ตารางวา                        NaN   \n",
              "13     ราคาเสนอขาย 2,000 - 4,000 บาท/ตารางวา                        NaN   \n",
              "..                                       ...                        ...   \n",
              "200   ราคาเสนอขาย 8,000 - 10,000 บาท/ตารางวา                        NaN   \n",
              "202      ราคาเสนอขาย 7,000-8,000 บาท/ตารางวา                        NaN   \n",
              "204    ราคาเสนอขาย 3,000 - 5,000 บาท/ตารางวา                        NaN   \n",
              "206    ราคาเสนอขาย 3,000 - 5,000 บาท/ตารางวา                        NaN   \n",
              "208  ราคาเสนอขาย 10,000 - 15,000 บาท/ตารางวา                        NaN   \n",
              "\n",
              "                         ให้คะแนนทรัพย์  ประเมินโดย 1  \n",
              "1    2 ขายได้ยาก ใช้ระยะเวลามากว่า 1 ปี     1800000.0  \n",
              "4    2 ขายได้ยาก ใช้ระยะเวลามากว่า 1 ปี     8000000.0  \n",
              "7    2 ขายได้ยาก ใช้ระยะเวลามากว่า 1 ปี    18000000.0  \n",
              "10   2 ขายได้ยาก ใช้ระยะเวลามากว่า 1 ปี    35000000.0  \n",
              "13    3 ขายได้ ใช้ระยะเวลา 7 - 12 เดือน     2200000.0  \n",
              "..                                  ...           ...  \n",
              "200  2 ขายได้ยาก ใช้ระยะเวลามากว่า 1 ปี     4000000.0  \n",
              "202   3 ขายได้ ใช้ระยะเวลา 7 - 12 เดือน      500000.0  \n",
              "204  2 ขายได้ยาก ใช้ระยะเวลามากว่า 1 ปี     2000000.0  \n",
              "206   3 ขายได้ ใช้ระยะเวลา 7 - 12 เดือน     1500000.0  \n",
              "208  2 ขายได้ยาก ใช้ระยะเวลามากว่า 1 ปี     2500000.0  \n",
              "\n",
              "[100 rows x 10 columns]"
            ],
            "text/html": [
              "\n",
              "  <div id=\"df-6d65f6e7-5642-41cd-9b4a-57cff0cdac7a\">\n",
              "    <div class=\"colab-df-container\">\n",
              "      <div>\n",
              "<style scoped>\n",
              "    .dataframe tbody tr th:only-of-type {\n",
              "        vertical-align: middle;\n",
              "    }\n",
              "\n",
              "    .dataframe tbody tr th {\n",
              "        vertical-align: top;\n",
              "    }\n",
              "\n",
              "    .dataframe thead th {\n",
              "        text-align: right;\n",
              "    }\n",
              "</style>\n",
              "<table border=\"1\" class=\"dataframe\">\n",
              "  <thead>\n",
              "    <tr style=\"text-align: right;\">\n",
              "      <th></th>\n",
              "      <th>ID ผู้ประเมิน</th>\n",
              "      <th>post id</th>\n",
              "      <th>property_type</th>\n",
              "      <th>ความมั่นใจในการเมินราคาทรัพย์</th>\n",
              "      <th>ราคาทรัพย์</th>\n",
              "      <th>ประเมินราคาซื้อ-ขาย</th>\n",
              "      <th>ปัจจัยในการประเมินราคาซื้อ-ขาย</th>\n",
              "      <th>เหตุผลไม่มั่นใจราคาประเมิน</th>\n",
              "      <th>ให้คะแนนทรัพย์</th>\n",
              "      <th>ประเมินโดย 1</th>\n",
              "    </tr>\n",
              "  </thead>\n",
              "  <tbody>\n",
              "    <tr>\n",
              "      <th>1</th>\n",
              "      <td>2</td>\n",
              "      <td>https://nayoo.co/khonkaen/posts/1033</td>\n",
              "      <td>ที่ดิน</td>\n",
              "      <td>มั่นใจ</td>\n",
              "      <td>2800000</td>\n",
              "      <td>2000000.0</td>\n",
              "      <td>ราคาเสนอขาย 7,000-12,0000 บาท/ตารางวา</td>\n",
              "      <td>NaN</td>\n",
              "      <td>2 ขายได้ยาก ใช้ระยะเวลามากว่า 1 ปี</td>\n",
              "      <td>1800000.0</td>\n",
              "    </tr>\n",
              "    <tr>\n",
              "      <th>4</th>\n",
              "      <td>2</td>\n",
              "      <td>https://nayoo.co/khonkaen/posts/1711</td>\n",
              "      <td>ที่ดิน</td>\n",
              "      <td>มั่นใจ</td>\n",
              "      <td>14900000</td>\n",
              "      <td>12000000.0</td>\n",
              "      <td>ราคาเสนอขาย 100,000-150,000 บาท/ตารางวา</td>\n",
              "      <td>NaN</td>\n",
              "      <td>2 ขายได้ยาก ใช้ระยะเวลามากว่า 1 ปี</td>\n",
              "      <td>8000000.0</td>\n",
              "    </tr>\n",
              "    <tr>\n",
              "      <th>7</th>\n",
              "      <td>2</td>\n",
              "      <td>https://nayoo.co/khonkaen/posts/1726</td>\n",
              "      <td>ที่ดิน</td>\n",
              "      <td>มั่นใจ</td>\n",
              "      <td>90000000</td>\n",
              "      <td>70000000.0</td>\n",
              "      <td>30,000-40,000 บาท/ตารางวา</td>\n",
              "      <td>NaN</td>\n",
              "      <td>2 ขายได้ยาก ใช้ระยะเวลามากว่า 1 ปี</td>\n",
              "      <td>18000000.0</td>\n",
              "    </tr>\n",
              "    <tr>\n",
              "      <th>10</th>\n",
              "      <td>2</td>\n",
              "      <td>https://nayoo.co/khonkaen/posts/1732</td>\n",
              "      <td>ที่ดิน</td>\n",
              "      <td>มั่นใจ</td>\n",
              "      <td>65000000</td>\n",
              "      <td>60000000.0</td>\n",
              "      <td>ราคาเสนอขาย 12,000 - 15,000 บาท/ตารางวา</td>\n",
              "      <td>NaN</td>\n",
              "      <td>2 ขายได้ยาก ใช้ระยะเวลามากว่า 1 ปี</td>\n",
              "      <td>35000000.0</td>\n",
              "    </tr>\n",
              "    <tr>\n",
              "      <th>13</th>\n",
              "      <td>2</td>\n",
              "      <td>https://nayoo.co/khonkaen/posts/1866</td>\n",
              "      <td>ที่ดิน</td>\n",
              "      <td>มั่นใจ</td>\n",
              "      <td>3000000</td>\n",
              "      <td>2500000.0</td>\n",
              "      <td>ราคาเสนอขาย 2,000 - 4,000 บาท/ตารางวา</td>\n",
              "      <td>NaN</td>\n",
              "      <td>3 ขายได้ ใช้ระยะเวลา 7 - 12 เดือน</td>\n",
              "      <td>2200000.0</td>\n",
              "    </tr>\n",
              "    <tr>\n",
              "      <th>...</th>\n",
              "      <td>...</td>\n",
              "      <td>...</td>\n",
              "      <td>...</td>\n",
              "      <td>...</td>\n",
              "      <td>...</td>\n",
              "      <td>...</td>\n",
              "      <td>...</td>\n",
              "      <td>...</td>\n",
              "      <td>...</td>\n",
              "      <td>...</td>\n",
              "    </tr>\n",
              "    <tr>\n",
              "      <th>200</th>\n",
              "      <td>2</td>\n",
              "      <td>https://nayoo.co/khonkaen/posts/14539</td>\n",
              "      <td>ที่ดิน</td>\n",
              "      <td>มั่นใจ</td>\n",
              "      <td>5000000</td>\n",
              "      <td>4000000.0</td>\n",
              "      <td>ราคาเสนอขาย 8,000 - 10,000 บาท/ตารางวา</td>\n",
              "      <td>NaN</td>\n",
              "      <td>2 ขายได้ยาก ใช้ระยะเวลามากว่า 1 ปี</td>\n",
              "      <td>4000000.0</td>\n",
              "    </tr>\n",
              "    <tr>\n",
              "      <th>202</th>\n",
              "      <td>2</td>\n",
              "      <td>https://nayoo.co/khonkaen/posts/16072</td>\n",
              "      <td>ที่ดิน</td>\n",
              "      <td>มั่นใจ</td>\n",
              "      <td>750000</td>\n",
              "      <td>750000.0</td>\n",
              "      <td>ราคาเสนอขาย 7,000-8,000 บาท/ตารางวา</td>\n",
              "      <td>NaN</td>\n",
              "      <td>3 ขายได้ ใช้ระยะเวลา 7 - 12 เดือน</td>\n",
              "      <td>500000.0</td>\n",
              "    </tr>\n",
              "    <tr>\n",
              "      <th>204</th>\n",
              "      <td>2</td>\n",
              "      <td>https://nayoo.co/khonkaen/posts/17093</td>\n",
              "      <td>ที่ดิน</td>\n",
              "      <td>มั่นใจ</td>\n",
              "      <td>2650000</td>\n",
              "      <td>2500000.0</td>\n",
              "      <td>ราคาเสนอขาย 3,000 - 5,000 บาท/ตารางวา</td>\n",
              "      <td>NaN</td>\n",
              "      <td>2 ขายได้ยาก ใช้ระยะเวลามากว่า 1 ปี</td>\n",
              "      <td>2000000.0</td>\n",
              "    </tr>\n",
              "    <tr>\n",
              "      <th>206</th>\n",
              "      <td>2</td>\n",
              "      <td>https://nayoo.co/khonkaen/posts/17112</td>\n",
              "      <td>ที่ดิน</td>\n",
              "      <td>มั่นใจ</td>\n",
              "      <td>1300000</td>\n",
              "      <td>1500000.0</td>\n",
              "      <td>ราคาเสนอขาย 3,000 - 5,000 บาท/ตารางวา</td>\n",
              "      <td>NaN</td>\n",
              "      <td>3 ขายได้ ใช้ระยะเวลา 7 - 12 เดือน</td>\n",
              "      <td>1500000.0</td>\n",
              "    </tr>\n",
              "    <tr>\n",
              "      <th>208</th>\n",
              "      <td>2</td>\n",
              "      <td>https://nayoo.co/khonkaen/posts/17145</td>\n",
              "      <td>ที่ดิน</td>\n",
              "      <td>มั่นใจ</td>\n",
              "      <td>3000000</td>\n",
              "      <td>2800000.0</td>\n",
              "      <td>ราคาเสนอขาย 10,000 - 15,000 บาท/ตารางวา</td>\n",
              "      <td>NaN</td>\n",
              "      <td>2 ขายได้ยาก ใช้ระยะเวลามากว่า 1 ปี</td>\n",
              "      <td>2500000.0</td>\n",
              "    </tr>\n",
              "  </tbody>\n",
              "</table>\n",
              "<p>100 rows × 10 columns</p>\n",
              "</div>\n",
              "      <button class=\"colab-df-convert\" onclick=\"convertToInteractive('df-6d65f6e7-5642-41cd-9b4a-57cff0cdac7a')\"\n",
              "              title=\"Convert this dataframe to an interactive table.\"\n",
              "              style=\"display:none;\">\n",
              "        \n",
              "  <svg xmlns=\"http://www.w3.org/2000/svg\" height=\"24px\"viewBox=\"0 0 24 24\"\n",
              "       width=\"24px\">\n",
              "    <path d=\"M0 0h24v24H0V0z\" fill=\"none\"/>\n",
              "    <path d=\"M18.56 5.44l.94 2.06.94-2.06 2.06-.94-2.06-.94-.94-2.06-.94 2.06-2.06.94zm-11 1L8.5 8.5l.94-2.06 2.06-.94-2.06-.94L8.5 2.5l-.94 2.06-2.06.94zm10 10l.94 2.06.94-2.06 2.06-.94-2.06-.94-.94-2.06-.94 2.06-2.06.94z\"/><path d=\"M17.41 7.96l-1.37-1.37c-.4-.4-.92-.59-1.43-.59-.52 0-1.04.2-1.43.59L10.3 9.45l-7.72 7.72c-.78.78-.78 2.05 0 2.83L4 21.41c.39.39.9.59 1.41.59.51 0 1.02-.2 1.41-.59l7.78-7.78 2.81-2.81c.8-.78.8-2.07 0-2.86zM5.41 20L4 18.59l7.72-7.72 1.47 1.35L5.41 20z\"/>\n",
              "  </svg>\n",
              "      </button>\n",
              "      \n",
              "  <style>\n",
              "    .colab-df-container {\n",
              "      display:flex;\n",
              "      flex-wrap:wrap;\n",
              "      gap: 12px;\n",
              "    }\n",
              "\n",
              "    .colab-df-convert {\n",
              "      background-color: #E8F0FE;\n",
              "      border: none;\n",
              "      border-radius: 50%;\n",
              "      cursor: pointer;\n",
              "      display: none;\n",
              "      fill: #1967D2;\n",
              "      height: 32px;\n",
              "      padding: 0 0 0 0;\n",
              "      width: 32px;\n",
              "    }\n",
              "\n",
              "    .colab-df-convert:hover {\n",
              "      background-color: #E2EBFA;\n",
              "      box-shadow: 0px 1px 2px rgba(60, 64, 67, 0.3), 0px 1px 3px 1px rgba(60, 64, 67, 0.15);\n",
              "      fill: #174EA6;\n",
              "    }\n",
              "\n",
              "    [theme=dark] .colab-df-convert {\n",
              "      background-color: #3B4455;\n",
              "      fill: #D2E3FC;\n",
              "    }\n",
              "\n",
              "    [theme=dark] .colab-df-convert:hover {\n",
              "      background-color: #434B5C;\n",
              "      box-shadow: 0px 1px 3px 1px rgba(0, 0, 0, 0.15);\n",
              "      filter: drop-shadow(0px 1px 2px rgba(0, 0, 0, 0.3));\n",
              "      fill: #FFFFFF;\n",
              "    }\n",
              "  </style>\n",
              "\n",
              "      <script>\n",
              "        const buttonEl =\n",
              "          document.querySelector('#df-6d65f6e7-5642-41cd-9b4a-57cff0cdac7a button.colab-df-convert');\n",
              "        buttonEl.style.display =\n",
              "          google.colab.kernel.accessAllowed ? 'block' : 'none';\n",
              "\n",
              "        async function convertToInteractive(key) {\n",
              "          const element = document.querySelector('#df-6d65f6e7-5642-41cd-9b4a-57cff0cdac7a');\n",
              "          const dataTable =\n",
              "            await google.colab.kernel.invokeFunction('convertToInteractive',\n",
              "                                                     [key], {});\n",
              "          if (!dataTable) return;\n",
              "\n",
              "          const docLinkHtml = 'Like what you see? Visit the ' +\n",
              "            '<a target=\"_blank\" href=https://colab.research.google.com/notebooks/data_table.ipynb>data table notebook</a>'\n",
              "            + ' to learn more about interactive tables.';\n",
              "          element.innerHTML = '';\n",
              "          dataTable['output_type'] = 'display_data';\n",
              "          await google.colab.output.renderOutput(dataTable, element);\n",
              "          const docLink = document.createElement('div');\n",
              "          docLink.innerHTML = docLinkHtml;\n",
              "          element.appendChild(docLink);\n",
              "        }\n",
              "      </script>\n",
              "    </div>\n",
              "  </div>\n",
              "  "
            ]
          },
          "metadata": {},
          "execution_count": 201
        }
      ]
    },
    {
      "cell_type": "code",
      "source": [
        "estland2.rename(columns={'ประเมินราคาซื้อ-ขาย' :'ประเมินโดย 2'}, inplace=True)"
      ],
      "metadata": {
        "colab": {
          "base_uri": "https://localhost:8080/"
        },
        "outputId": "350a7332-8425-420c-eef0-64d0d0a0e801",
        "id": "F38rRkj9Uo_L"
      },
      "execution_count": 202,
      "outputs": [
        {
          "output_type": "stream",
          "name": "stderr",
          "text": [
            "/usr/local/lib/python3.8/dist-packages/pandas/core/frame.py:5039: SettingWithCopyWarning: \n",
            "A value is trying to be set on a copy of a slice from a DataFrame\n",
            "\n",
            "See the caveats in the documentation: https://pandas.pydata.org/pandas-docs/stable/user_guide/indexing.html#returning-a-view-versus-a-copy\n",
            "  return super().rename(\n"
          ]
        }
      ]
    },
    {
      "cell_type": "code",
      "source": [
        "assland = estland2[['post id','ราคาทรัพย์','ประเมินโดย 1','ประเมินโดย 2']]\n",
        "assland"
      ],
      "metadata": {
        "colab": {
          "base_uri": "https://localhost:8080/",
          "height": 424
        },
        "outputId": "2ab30f3a-5a39-4049-ae2b-6afbfcbaa5d1",
        "id": "u4lOL4KFUo_L"
      },
      "execution_count": 203,
      "outputs": [
        {
          "output_type": "execute_result",
          "data": {
            "text/plain": [
              "                                   post id  ราคาทรัพย์  ประเมินโดย 1  \\\n",
              "1     https://nayoo.co/khonkaen/posts/1033     2800000     1800000.0   \n",
              "4     https://nayoo.co/khonkaen/posts/1711    14900000     8000000.0   \n",
              "7     https://nayoo.co/khonkaen/posts/1726    90000000    18000000.0   \n",
              "10    https://nayoo.co/khonkaen/posts/1732    65000000    35000000.0   \n",
              "13    https://nayoo.co/khonkaen/posts/1866     3000000     2200000.0   \n",
              "..                                     ...         ...           ...   \n",
              "200  https://nayoo.co/khonkaen/posts/14539     5000000     4000000.0   \n",
              "202  https://nayoo.co/khonkaen/posts/16072      750000      500000.0   \n",
              "204  https://nayoo.co/khonkaen/posts/17093     2650000     2000000.0   \n",
              "206  https://nayoo.co/khonkaen/posts/17112     1300000     1500000.0   \n",
              "208  https://nayoo.co/khonkaen/posts/17145     3000000     2500000.0   \n",
              "\n",
              "     ประเมินโดย 2  \n",
              "1       2000000.0  \n",
              "4      12000000.0  \n",
              "7      70000000.0  \n",
              "10     60000000.0  \n",
              "13      2500000.0  \n",
              "..            ...  \n",
              "200     4000000.0  \n",
              "202      750000.0  \n",
              "204     2500000.0  \n",
              "206     1500000.0  \n",
              "208     2800000.0  \n",
              "\n",
              "[100 rows x 4 columns]"
            ],
            "text/html": [
              "\n",
              "  <div id=\"df-65324b1d-ac48-46a3-a18f-9f58bfbbe3af\">\n",
              "    <div class=\"colab-df-container\">\n",
              "      <div>\n",
              "<style scoped>\n",
              "    .dataframe tbody tr th:only-of-type {\n",
              "        vertical-align: middle;\n",
              "    }\n",
              "\n",
              "    .dataframe tbody tr th {\n",
              "        vertical-align: top;\n",
              "    }\n",
              "\n",
              "    .dataframe thead th {\n",
              "        text-align: right;\n",
              "    }\n",
              "</style>\n",
              "<table border=\"1\" class=\"dataframe\">\n",
              "  <thead>\n",
              "    <tr style=\"text-align: right;\">\n",
              "      <th></th>\n",
              "      <th>post id</th>\n",
              "      <th>ราคาทรัพย์</th>\n",
              "      <th>ประเมินโดย 1</th>\n",
              "      <th>ประเมินโดย 2</th>\n",
              "    </tr>\n",
              "  </thead>\n",
              "  <tbody>\n",
              "    <tr>\n",
              "      <th>1</th>\n",
              "      <td>https://nayoo.co/khonkaen/posts/1033</td>\n",
              "      <td>2800000</td>\n",
              "      <td>1800000.0</td>\n",
              "      <td>2000000.0</td>\n",
              "    </tr>\n",
              "    <tr>\n",
              "      <th>4</th>\n",
              "      <td>https://nayoo.co/khonkaen/posts/1711</td>\n",
              "      <td>14900000</td>\n",
              "      <td>8000000.0</td>\n",
              "      <td>12000000.0</td>\n",
              "    </tr>\n",
              "    <tr>\n",
              "      <th>7</th>\n",
              "      <td>https://nayoo.co/khonkaen/posts/1726</td>\n",
              "      <td>90000000</td>\n",
              "      <td>18000000.0</td>\n",
              "      <td>70000000.0</td>\n",
              "    </tr>\n",
              "    <tr>\n",
              "      <th>10</th>\n",
              "      <td>https://nayoo.co/khonkaen/posts/1732</td>\n",
              "      <td>65000000</td>\n",
              "      <td>35000000.0</td>\n",
              "      <td>60000000.0</td>\n",
              "    </tr>\n",
              "    <tr>\n",
              "      <th>13</th>\n",
              "      <td>https://nayoo.co/khonkaen/posts/1866</td>\n",
              "      <td>3000000</td>\n",
              "      <td>2200000.0</td>\n",
              "      <td>2500000.0</td>\n",
              "    </tr>\n",
              "    <tr>\n",
              "      <th>...</th>\n",
              "      <td>...</td>\n",
              "      <td>...</td>\n",
              "      <td>...</td>\n",
              "      <td>...</td>\n",
              "    </tr>\n",
              "    <tr>\n",
              "      <th>200</th>\n",
              "      <td>https://nayoo.co/khonkaen/posts/14539</td>\n",
              "      <td>5000000</td>\n",
              "      <td>4000000.0</td>\n",
              "      <td>4000000.0</td>\n",
              "    </tr>\n",
              "    <tr>\n",
              "      <th>202</th>\n",
              "      <td>https://nayoo.co/khonkaen/posts/16072</td>\n",
              "      <td>750000</td>\n",
              "      <td>500000.0</td>\n",
              "      <td>750000.0</td>\n",
              "    </tr>\n",
              "    <tr>\n",
              "      <th>204</th>\n",
              "      <td>https://nayoo.co/khonkaen/posts/17093</td>\n",
              "      <td>2650000</td>\n",
              "      <td>2000000.0</td>\n",
              "      <td>2500000.0</td>\n",
              "    </tr>\n",
              "    <tr>\n",
              "      <th>206</th>\n",
              "      <td>https://nayoo.co/khonkaen/posts/17112</td>\n",
              "      <td>1300000</td>\n",
              "      <td>1500000.0</td>\n",
              "      <td>1500000.0</td>\n",
              "    </tr>\n",
              "    <tr>\n",
              "      <th>208</th>\n",
              "      <td>https://nayoo.co/khonkaen/posts/17145</td>\n",
              "      <td>3000000</td>\n",
              "      <td>2500000.0</td>\n",
              "      <td>2800000.0</td>\n",
              "    </tr>\n",
              "  </tbody>\n",
              "</table>\n",
              "<p>100 rows × 4 columns</p>\n",
              "</div>\n",
              "      <button class=\"colab-df-convert\" onclick=\"convertToInteractive('df-65324b1d-ac48-46a3-a18f-9f58bfbbe3af')\"\n",
              "              title=\"Convert this dataframe to an interactive table.\"\n",
              "              style=\"display:none;\">\n",
              "        \n",
              "  <svg xmlns=\"http://www.w3.org/2000/svg\" height=\"24px\"viewBox=\"0 0 24 24\"\n",
              "       width=\"24px\">\n",
              "    <path d=\"M0 0h24v24H0V0z\" fill=\"none\"/>\n",
              "    <path d=\"M18.56 5.44l.94 2.06.94-2.06 2.06-.94-2.06-.94-.94-2.06-.94 2.06-2.06.94zm-11 1L8.5 8.5l.94-2.06 2.06-.94-2.06-.94L8.5 2.5l-.94 2.06-2.06.94zm10 10l.94 2.06.94-2.06 2.06-.94-2.06-.94-.94-2.06-.94 2.06-2.06.94z\"/><path d=\"M17.41 7.96l-1.37-1.37c-.4-.4-.92-.59-1.43-.59-.52 0-1.04.2-1.43.59L10.3 9.45l-7.72 7.72c-.78.78-.78 2.05 0 2.83L4 21.41c.39.39.9.59 1.41.59.51 0 1.02-.2 1.41-.59l7.78-7.78 2.81-2.81c.8-.78.8-2.07 0-2.86zM5.41 20L4 18.59l7.72-7.72 1.47 1.35L5.41 20z\"/>\n",
              "  </svg>\n",
              "      </button>\n",
              "      \n",
              "  <style>\n",
              "    .colab-df-container {\n",
              "      display:flex;\n",
              "      flex-wrap:wrap;\n",
              "      gap: 12px;\n",
              "    }\n",
              "\n",
              "    .colab-df-convert {\n",
              "      background-color: #E8F0FE;\n",
              "      border: none;\n",
              "      border-radius: 50%;\n",
              "      cursor: pointer;\n",
              "      display: none;\n",
              "      fill: #1967D2;\n",
              "      height: 32px;\n",
              "      padding: 0 0 0 0;\n",
              "      width: 32px;\n",
              "    }\n",
              "\n",
              "    .colab-df-convert:hover {\n",
              "      background-color: #E2EBFA;\n",
              "      box-shadow: 0px 1px 2px rgba(60, 64, 67, 0.3), 0px 1px 3px 1px rgba(60, 64, 67, 0.15);\n",
              "      fill: #174EA6;\n",
              "    }\n",
              "\n",
              "    [theme=dark] .colab-df-convert {\n",
              "      background-color: #3B4455;\n",
              "      fill: #D2E3FC;\n",
              "    }\n",
              "\n",
              "    [theme=dark] .colab-df-convert:hover {\n",
              "      background-color: #434B5C;\n",
              "      box-shadow: 0px 1px 3px 1px rgba(0, 0, 0, 0.15);\n",
              "      filter: drop-shadow(0px 1px 2px rgba(0, 0, 0, 0.3));\n",
              "      fill: #FFFFFF;\n",
              "    }\n",
              "  </style>\n",
              "\n",
              "      <script>\n",
              "        const buttonEl =\n",
              "          document.querySelector('#df-65324b1d-ac48-46a3-a18f-9f58bfbbe3af button.colab-df-convert');\n",
              "        buttonEl.style.display =\n",
              "          google.colab.kernel.accessAllowed ? 'block' : 'none';\n",
              "\n",
              "        async function convertToInteractive(key) {\n",
              "          const element = document.querySelector('#df-65324b1d-ac48-46a3-a18f-9f58bfbbe3af');\n",
              "          const dataTable =\n",
              "            await google.colab.kernel.invokeFunction('convertToInteractive',\n",
              "                                                     [key], {});\n",
              "          if (!dataTable) return;\n",
              "\n",
              "          const docLinkHtml = 'Like what you see? Visit the ' +\n",
              "            '<a target=\"_blank\" href=https://colab.research.google.com/notebooks/data_table.ipynb>data table notebook</a>'\n",
              "            + ' to learn more about interactive tables.';\n",
              "          element.innerHTML = '';\n",
              "          dataTable['output_type'] = 'display_data';\n",
              "          await google.colab.output.renderOutput(dataTable, element);\n",
              "          const docLink = document.createElement('div');\n",
              "          docLink.innerHTML = docLinkHtml;\n",
              "          element.appendChild(docLink);\n",
              "        }\n",
              "      </script>\n",
              "    </div>\n",
              "  </div>\n",
              "  "
            ]
          },
          "metadata": {},
          "execution_count": 203
        }
      ]
    },
    {
      "cell_type": "markdown",
      "source": [
        "เช็คและแก้ missing"
      ],
      "metadata": {
        "id": "c3iKYr1hUo_L"
      }
    },
    {
      "cell_type": "code",
      "source": [
        "assland.isnull().any()"
      ],
      "metadata": {
        "colab": {
          "base_uri": "https://localhost:8080/"
        },
        "outputId": "fc957c5f-fb06-419d-87b9-3ce975ef94e7",
        "id": "RtOFgF3HUo_L"
      },
      "execution_count": 204,
      "outputs": [
        {
          "output_type": "execute_result",
          "data": {
            "text/plain": [
              "post id         False\n",
              "ราคาทรัพย์      False\n",
              "ประเมินโดย 1    False\n",
              "ประเมินโดย 2    False\n",
              "dtype: bool"
            ]
          },
          "metadata": {},
          "execution_count": 204
        }
      ]
    },
    {
      "cell_type": "markdown",
      "source": [
        "### MAPE"
      ],
      "metadata": {
        "id": "JvsMvhrMUo_L"
      }
    },
    {
      "cell_type": "code",
      "source": [
        "actual_l = assland[['ราคาทรัพย์']]\n",
        "pred_1l = assland[['ประเมินโดย 1']]\n",
        "pred_2l = assland[['ประเมินโดย 2']]"
      ],
      "metadata": {
        "id": "tidvbAbkUo_M"
      },
      "execution_count": 205,
      "outputs": []
    },
    {
      "cell_type": "code",
      "source": [
        "mpl1 = mape(actual_l,pred_1l)\n",
        "mpl2 = mape(actual_l,pred_2l)\n",
        "mpl12 = mape(pred_1l,pred_2l)"
      ],
      "metadata": {
        "id": "q5uvVSJzUo_M"
      },
      "execution_count": 206,
      "outputs": []
    },
    {
      "cell_type": "code",
      "source": [
        "print(f' MAPE ราคาทรัพย์กับผู้ประเมินคนที่ 1 คือ {mpl1:.2f}\\n MAPE ราคาทรัพย์กับผู้ประเมินคนที่ 2 คือ {mpl2:.2f}\\n MAPE ราคาตั้งขายของผู้ประเมินคนที่ 1 กับ ผู้ประเมินคนที่ 2 คือ {mpl12:.2f}')"
      ],
      "metadata": {
        "colab": {
          "base_uri": "https://localhost:8080/"
        },
        "outputId": "dfd392af-0c83-4c92-f21f-7e0b4c3f984e",
        "id": "Eq0x1bdKUo_M"
      },
      "execution_count": 207,
      "outputs": [
        {
          "output_type": "stream",
          "name": "stdout",
          "text": [
            " MAPE ราคาทรัพย์กับผู้ประเมินคนที่ 1 คือ 0.41\n",
            " MAPE ราคาทรัพย์กับผู้ประเมินคนที่ 2 คือ 0.40\n",
            " MAPE ราคาตั้งขายของผู้ประเมินคนที่ 1 กับ ผู้ประเมินคนที่ 2 คือ 0.74\n"
          ]
        }
      ]
    },
    {
      "cell_type": "code",
      "source": [
        "idl1 = datal[datal['ID ผู้ประเมิน']==1]\n",
        "idl1 = idl1.dropna(subset=['ราคาทรัพย์','ประเมินราคาซื้อ-ขาย'])\n",
        "idl2 = datal[datal['ID ผู้ประเมิน']==2]\n",
        "idl2 = idl2.dropna(subset=['ราคาทรัพย์','ประเมินราคาซื้อ-ขาย'])\n",
        "idl1MAPE = mape(idl1['ประเมินราคาซื้อ-ขาย'],pd.to_numeric(idl1['ราคาทรัพย์']))\n",
        "idl2MAPE = mape(idl2['ประเมินราคาซื้อ-ขาย'],pd.to_numeric(idl2['ราคาทรัพย์']))\n",
        "print(f'ความแตกต่างระหว่างราคาประกาศขายและราคาประเมินของ\\nบ้าน\\nนักประเมิน คนที่ 1 = {idl1MAPE*100:.2f}%\\nนักประเมิน คนที่ 2 = {idl2MAPE*100:.2f}%')\n",
        "idl2['ประเมิน2'] = idl2['post id'].map(idl1.set_index('post id')['ประเมินราคาซื้อ-ขาย'])\n",
        "id2_l = idl2.dropna(subset=['ประเมินราคาซื้อ-ขาย','ประเมิน2','ราคาทรัพย์'])\n",
        "one2twol = mape(id2_l['ประเมินราคาซื้อ-ขาย'],id2_l['ประเมิน2'])\n",
        "two2onel = mape(id2_l['ประเมิน2'],id2_l['ประเมินราคาซื้อ-ขาย'])\n",
        "print(f'ความผิดพลาดระหว่างนักประเมินทั้ง {((one2twol)+(two2onel))*50:.2f}%')\n",
        "print(f'จำนวนทรัพย์ทั้งหมด {len(id2_l)} ทรัพย์')"
      ],
      "metadata": {
        "id": "jxZpQQwC7uVX",
        "outputId": "448fb860-7332-4b79-8e0a-0eb85129de41",
        "colab": {
          "base_uri": "https://localhost:8080/"
        }
      },
      "execution_count": 208,
      "outputs": [
        {
          "output_type": "stream",
          "name": "stdout",
          "text": [
            "ความแตกต่างระหว่างราคาประกาศขายและราคาประเมินของ\n",
            "บ้าน\n",
            "นักประเมิน คนที่ 1 = 79.74%\n",
            "นักประเมิน คนที่ 2 = 43.70%\n",
            "ความผิดพลาดระหว่างนักประเมินทั้ง 58.41%\n",
            "จำนวนทรัพย์ทั้งหมด 100 ทรัพย์\n"
          ]
        }
      ]
    },
    {
      "cell_type": "markdown",
      "source": [
        "## Condo"
      ],
      "metadata": {
        "id": "tGD74IxaqQOm"
      }
    },
    {
      "cell_type": "code",
      "source": [
        "condo.rename(columns={'ประเมินราคาซื้อ-ขาย' :'ประเมินโดย 1'}, inplace=True)"
      ],
      "metadata": {
        "id": "8q0kEMRMXjUU"
      },
      "execution_count": 209,
      "outputs": []
    },
    {
      "cell_type": "code",
      "source": [
        "asscondo = condo[['post id','ราคาทรัพย์','ประเมินโดย 1']]\n",
        "asscondo"
      ],
      "metadata": {
        "outputId": "eaf8301d-bb5d-4dc3-ba1c-aa14db606a8b",
        "colab": {
          "base_uri": "https://localhost:8080/",
          "height": 363
        },
        "id": "wi4WwLQuqgLT"
      },
      "execution_count": 210,
      "outputs": [
        {
          "output_type": "execute_result",
          "data": {
            "text/plain": [
              "   post id  ราคาทรัพย์  ประเมินโดย 1\n",
              "0     32.0     3500000     3500000.0\n",
              "1     36.0     1930000     2200000.0\n",
              "2    603.0     2438000     2800000.0\n",
              "3   1395.0     1600000     2300000.0\n",
              "4   1443.0     1860000     1800000.0\n",
              "5   1609.0     1490000     1500000.0\n",
              "6   1640.0     1280000     1600000.0\n",
              "7   1641.0     4290000     2700000.0\n",
              "8   1650.0     1700000     1550000.0\n",
              "9   1840.0     3790000     2800000.0"
            ],
            "text/html": [
              "\n",
              "  <div id=\"df-39b95725-d948-4ed9-a4bc-ab92af3e1cfd\">\n",
              "    <div class=\"colab-df-container\">\n",
              "      <div>\n",
              "<style scoped>\n",
              "    .dataframe tbody tr th:only-of-type {\n",
              "        vertical-align: middle;\n",
              "    }\n",
              "\n",
              "    .dataframe tbody tr th {\n",
              "        vertical-align: top;\n",
              "    }\n",
              "\n",
              "    .dataframe thead th {\n",
              "        text-align: right;\n",
              "    }\n",
              "</style>\n",
              "<table border=\"1\" class=\"dataframe\">\n",
              "  <thead>\n",
              "    <tr style=\"text-align: right;\">\n",
              "      <th></th>\n",
              "      <th>post id</th>\n",
              "      <th>ราคาทรัพย์</th>\n",
              "      <th>ประเมินโดย 1</th>\n",
              "    </tr>\n",
              "  </thead>\n",
              "  <tbody>\n",
              "    <tr>\n",
              "      <th>0</th>\n",
              "      <td>32.0</td>\n",
              "      <td>3500000</td>\n",
              "      <td>3500000.0</td>\n",
              "    </tr>\n",
              "    <tr>\n",
              "      <th>1</th>\n",
              "      <td>36.0</td>\n",
              "      <td>1930000</td>\n",
              "      <td>2200000.0</td>\n",
              "    </tr>\n",
              "    <tr>\n",
              "      <th>2</th>\n",
              "      <td>603.0</td>\n",
              "      <td>2438000</td>\n",
              "      <td>2800000.0</td>\n",
              "    </tr>\n",
              "    <tr>\n",
              "      <th>3</th>\n",
              "      <td>1395.0</td>\n",
              "      <td>1600000</td>\n",
              "      <td>2300000.0</td>\n",
              "    </tr>\n",
              "    <tr>\n",
              "      <th>4</th>\n",
              "      <td>1443.0</td>\n",
              "      <td>1860000</td>\n",
              "      <td>1800000.0</td>\n",
              "    </tr>\n",
              "    <tr>\n",
              "      <th>5</th>\n",
              "      <td>1609.0</td>\n",
              "      <td>1490000</td>\n",
              "      <td>1500000.0</td>\n",
              "    </tr>\n",
              "    <tr>\n",
              "      <th>6</th>\n",
              "      <td>1640.0</td>\n",
              "      <td>1280000</td>\n",
              "      <td>1600000.0</td>\n",
              "    </tr>\n",
              "    <tr>\n",
              "      <th>7</th>\n",
              "      <td>1641.0</td>\n",
              "      <td>4290000</td>\n",
              "      <td>2700000.0</td>\n",
              "    </tr>\n",
              "    <tr>\n",
              "      <th>8</th>\n",
              "      <td>1650.0</td>\n",
              "      <td>1700000</td>\n",
              "      <td>1550000.0</td>\n",
              "    </tr>\n",
              "    <tr>\n",
              "      <th>9</th>\n",
              "      <td>1840.0</td>\n",
              "      <td>3790000</td>\n",
              "      <td>2800000.0</td>\n",
              "    </tr>\n",
              "  </tbody>\n",
              "</table>\n",
              "</div>\n",
              "      <button class=\"colab-df-convert\" onclick=\"convertToInteractive('df-39b95725-d948-4ed9-a4bc-ab92af3e1cfd')\"\n",
              "              title=\"Convert this dataframe to an interactive table.\"\n",
              "              style=\"display:none;\">\n",
              "        \n",
              "  <svg xmlns=\"http://www.w3.org/2000/svg\" height=\"24px\"viewBox=\"0 0 24 24\"\n",
              "       width=\"24px\">\n",
              "    <path d=\"M0 0h24v24H0V0z\" fill=\"none\"/>\n",
              "    <path d=\"M18.56 5.44l.94 2.06.94-2.06 2.06-.94-2.06-.94-.94-2.06-.94 2.06-2.06.94zm-11 1L8.5 8.5l.94-2.06 2.06-.94-2.06-.94L8.5 2.5l-.94 2.06-2.06.94zm10 10l.94 2.06.94-2.06 2.06-.94-2.06-.94-.94-2.06-.94 2.06-2.06.94z\"/><path d=\"M17.41 7.96l-1.37-1.37c-.4-.4-.92-.59-1.43-.59-.52 0-1.04.2-1.43.59L10.3 9.45l-7.72 7.72c-.78.78-.78 2.05 0 2.83L4 21.41c.39.39.9.59 1.41.59.51 0 1.02-.2 1.41-.59l7.78-7.78 2.81-2.81c.8-.78.8-2.07 0-2.86zM5.41 20L4 18.59l7.72-7.72 1.47 1.35L5.41 20z\"/>\n",
              "  </svg>\n",
              "      </button>\n",
              "      \n",
              "  <style>\n",
              "    .colab-df-container {\n",
              "      display:flex;\n",
              "      flex-wrap:wrap;\n",
              "      gap: 12px;\n",
              "    }\n",
              "\n",
              "    .colab-df-convert {\n",
              "      background-color: #E8F0FE;\n",
              "      border: none;\n",
              "      border-radius: 50%;\n",
              "      cursor: pointer;\n",
              "      display: none;\n",
              "      fill: #1967D2;\n",
              "      height: 32px;\n",
              "      padding: 0 0 0 0;\n",
              "      width: 32px;\n",
              "    }\n",
              "\n",
              "    .colab-df-convert:hover {\n",
              "      background-color: #E2EBFA;\n",
              "      box-shadow: 0px 1px 2px rgba(60, 64, 67, 0.3), 0px 1px 3px 1px rgba(60, 64, 67, 0.15);\n",
              "      fill: #174EA6;\n",
              "    }\n",
              "\n",
              "    [theme=dark] .colab-df-convert {\n",
              "      background-color: #3B4455;\n",
              "      fill: #D2E3FC;\n",
              "    }\n",
              "\n",
              "    [theme=dark] .colab-df-convert:hover {\n",
              "      background-color: #434B5C;\n",
              "      box-shadow: 0px 1px 3px 1px rgba(0, 0, 0, 0.15);\n",
              "      filter: drop-shadow(0px 1px 2px rgba(0, 0, 0, 0.3));\n",
              "      fill: #FFFFFF;\n",
              "    }\n",
              "  </style>\n",
              "\n",
              "      <script>\n",
              "        const buttonEl =\n",
              "          document.querySelector('#df-39b95725-d948-4ed9-a4bc-ab92af3e1cfd button.colab-df-convert');\n",
              "        buttonEl.style.display =\n",
              "          google.colab.kernel.accessAllowed ? 'block' : 'none';\n",
              "\n",
              "        async function convertToInteractive(key) {\n",
              "          const element = document.querySelector('#df-39b95725-d948-4ed9-a4bc-ab92af3e1cfd');\n",
              "          const dataTable =\n",
              "            await google.colab.kernel.invokeFunction('convertToInteractive',\n",
              "                                                     [key], {});\n",
              "          if (!dataTable) return;\n",
              "\n",
              "          const docLinkHtml = 'Like what you see? Visit the ' +\n",
              "            '<a target=\"_blank\" href=https://colab.research.google.com/notebooks/data_table.ipynb>data table notebook</a>'\n",
              "            + ' to learn more about interactive tables.';\n",
              "          element.innerHTML = '';\n",
              "          dataTable['output_type'] = 'display_data';\n",
              "          await google.colab.output.renderOutput(dataTable, element);\n",
              "          const docLink = document.createElement('div');\n",
              "          docLink.innerHTML = docLinkHtml;\n",
              "          element.appendChild(docLink);\n",
              "        }\n",
              "      </script>\n",
              "    </div>\n",
              "  </div>\n",
              "  "
            ]
          },
          "metadata": {},
          "execution_count": 210
        }
      ]
    },
    {
      "cell_type": "markdown",
      "source": [
        "เช็คและแก้ missing"
      ],
      "metadata": {
        "id": "HaL7sev9qgLU"
      }
    },
    {
      "cell_type": "code",
      "source": [
        "asscondo.isnull().any()"
      ],
      "metadata": {
        "outputId": "caf639dd-36bf-4313-b18d-a36bf4cccc6f",
        "colab": {
          "base_uri": "https://localhost:8080/"
        },
        "id": "oc_vihekqgLU"
      },
      "execution_count": 211,
      "outputs": [
        {
          "output_type": "execute_result",
          "data": {
            "text/plain": [
              "post id         False\n",
              "ราคาทรัพย์      False\n",
              "ประเมินโดย 1    False\n",
              "dtype: bool"
            ]
          },
          "metadata": {},
          "execution_count": 211
        }
      ]
    },
    {
      "cell_type": "markdown",
      "source": [
        "### MAPE"
      ],
      "metadata": {
        "id": "--Is4A6CqgLV"
      }
    },
    {
      "cell_type": "code",
      "source": [
        "actual_c = asscondo[['ราคาทรัพย์']]\n",
        "pred_1c = asscondo[['ประเมินโดย 1']]"
      ],
      "metadata": {
        "id": "RTnSypvNqgLV"
      },
      "execution_count": 212,
      "outputs": []
    },
    {
      "cell_type": "code",
      "source": [
        "mpc = mape(actual_c,pred_1c)"
      ],
      "metadata": {
        "id": "4V99pOMEqgLV"
      },
      "execution_count": 213,
      "outputs": []
    },
    {
      "cell_type": "code",
      "source": [
        "print(f' MAPE ราคาทรัพย์กับผู้ประเมินคนที่ 1 คือ {mpc:.2f}')"
      ],
      "metadata": {
        "outputId": "13c7a964-920f-40bd-e365-ffc035765a52",
        "colab": {
          "base_uri": "https://localhost:8080/"
        },
        "id": "Usjf-KK9qgLV"
      },
      "execution_count": 214,
      "outputs": [
        {
          "output_type": "stream",
          "name": "stdout",
          "text": [
            " MAPE ราคาทรัพย์กับผู้ประเมินคนที่ 1 คือ 0.17\n"
          ]
        }
      ]
    },
    {
      "cell_type": "code",
      "source": [
        "condo"
      ],
      "metadata": {
        "colab": {
          "base_uri": "https://localhost:8080/",
          "height": 632
        },
        "id": "JjZuTi-cW_PD",
        "outputId": "e3659eea-7349-44bb-cc6c-975430cd5157"
      },
      "execution_count": 215,
      "outputs": [
        {
          "output_type": "execute_result",
          "data": {
            "text/plain": [
              "   ID ผู้ประเมิน  post id property_type ความมั่นใจในการเมินราคาทรัพย์  \\\n",
              "0              1     32.0         คอนโด                        มั่นใจ   \n",
              "1              1     36.0         คอนโด                        มั่นใจ   \n",
              "2              1    603.0         คอนโด                        มั่นใจ   \n",
              "3              1   1395.0         คอนโด                        มั่นใจ   \n",
              "4              1   1443.0         คอนโด                        มั่นใจ   \n",
              "5              1   1609.0         คอนโด                        มั่นใจ   \n",
              "6              1   1640.0         คอนโด                        มั่นใจ   \n",
              "7              1   1641.0         คอนโด                        มั่นใจ   \n",
              "8              1   1650.0         คอนโด                        มั่นใจ   \n",
              "9              1   1840.0         คอนโด                        มั่นใจ   \n",
              "\n",
              "   ราคาทรัพย์  ประเมินโดย 1 ปัจจัยในการประเมินราคาซื้อ-ขาย  \\\n",
              "0     3500000     3500000.0   60,000-130,000 บาท/ตารางเมตร   \n",
              "1     1930000     2200000.0    50,000-90,000 บาท/ตารางเมตร   \n",
              "2     2438000     2800000.0    35,000-80,000 บาท/ตารางเมตร   \n",
              "3     1600000     2300000.0    30,000-80,000 บาท/ตารางเมตร   \n",
              "4     1860000     1800000.0    30,000-80,000 บาท/ตารางเมตร   \n",
              "5     1490000     1500000.0    30,000-80,000 บาท/ตารางเมตร   \n",
              "6     1280000     1600000.0    30,000-70,000 บาท/ตารางเมตร   \n",
              "7     4290000     2700000.0   60,000-130,000 บาท/ตารางเมตร   \n",
              "8     1700000     1550000.0    30,000-70,000 บาท/ตารางเมตร   \n",
              "9     3790000     2800000.0    30,000-80,000 บาท/ตารางเมตร   \n",
              "\n",
              "   เหตุผลไม่มั่นใจราคาประเมิน                     ให้คะแนนทรัพย์  Unnamed: 9  \\\n",
              "0                         NaN   4 ขายได้ ใช้ระยะเวลา 4 - 6 เดือน         4.0   \n",
              "1                         NaN   4 ขายได้ ใช้ระยะเวลา 4 - 6 เดือน         4.0   \n",
              "2                         NaN   4 ขายได้ ใช้ระยะเวลา 4 - 6 เดือน         4.0   \n",
              "3                         NaN   4 ขายได้ ใช้ระยะเวลา 4 - 6 เดือน         4.0   \n",
              "4                         NaN   4 ขายได้ ใช้ระยะเวลา 4 - 6 เดือน         4.0   \n",
              "5                         NaN   4 ขายได้ ใช้ระยะเวลา 4 - 6 เดือน         4.0   \n",
              "6                         NaN   4 ขายได้ ใช้ระยะเวลา 4 - 6 เดือน         4.0   \n",
              "7                         NaN  3 ขายได้ ใช้ระยะเวลา 7 - 12 เดือน         3.0   \n",
              "8                         NaN   4 ขายได้ ใช้ระยะเวลา 4 - 6 เดือน         4.0   \n",
              "9                         NaN   4 ขายได้ ใช้ระยะเวลา 4 - 6 เดือน         4.0   \n",
              "\n",
              "                        Unnamed: 10  \n",
              "0  ขายได้ยาก ใช้ระยะเวลามากว่า 1 ปี  \n",
              "1  ขายได้ยาก ใช้ระยะเวลามากว่า 1 ปี  \n",
              "2  ขายได้ยาก ใช้ระยะเวลามากว่า 1 ปี  \n",
              "3  ขายได้ยาก ใช้ระยะเวลามากว่า 1 ปี  \n",
              "4  ขายได้ยาก ใช้ระยะเวลามากว่า 1 ปี  \n",
              "5  ขายได้ยาก ใช้ระยะเวลามากว่า 1 ปี  \n",
              "6  ขายได้ยาก ใช้ระยะเวลามากว่า 1 ปี  \n",
              "7     ขายได้ ใช้ระยะเวลา 7-12 เดือน  \n",
              "8  ขายได้ยาก ใช้ระยะเวลามากว่า 1 ปี  \n",
              "9  ขายได้ยาก ใช้ระยะเวลามากว่า 1 ปี  "
            ],
            "text/html": [
              "\n",
              "  <div id=\"df-1def1ebd-37d4-492c-a03a-d1d6bfb7d897\">\n",
              "    <div class=\"colab-df-container\">\n",
              "      <div>\n",
              "<style scoped>\n",
              "    .dataframe tbody tr th:only-of-type {\n",
              "        vertical-align: middle;\n",
              "    }\n",
              "\n",
              "    .dataframe tbody tr th {\n",
              "        vertical-align: top;\n",
              "    }\n",
              "\n",
              "    .dataframe thead th {\n",
              "        text-align: right;\n",
              "    }\n",
              "</style>\n",
              "<table border=\"1\" class=\"dataframe\">\n",
              "  <thead>\n",
              "    <tr style=\"text-align: right;\">\n",
              "      <th></th>\n",
              "      <th>ID ผู้ประเมิน</th>\n",
              "      <th>post id</th>\n",
              "      <th>property_type</th>\n",
              "      <th>ความมั่นใจในการเมินราคาทรัพย์</th>\n",
              "      <th>ราคาทรัพย์</th>\n",
              "      <th>ประเมินโดย 1</th>\n",
              "      <th>ปัจจัยในการประเมินราคาซื้อ-ขาย</th>\n",
              "      <th>เหตุผลไม่มั่นใจราคาประเมิน</th>\n",
              "      <th>ให้คะแนนทรัพย์</th>\n",
              "      <th>Unnamed: 9</th>\n",
              "      <th>Unnamed: 10</th>\n",
              "    </tr>\n",
              "  </thead>\n",
              "  <tbody>\n",
              "    <tr>\n",
              "      <th>0</th>\n",
              "      <td>1</td>\n",
              "      <td>32.0</td>\n",
              "      <td>คอนโด</td>\n",
              "      <td>มั่นใจ</td>\n",
              "      <td>3500000</td>\n",
              "      <td>3500000.0</td>\n",
              "      <td>60,000-130,000 บาท/ตารางเมตร</td>\n",
              "      <td>NaN</td>\n",
              "      <td>4 ขายได้ ใช้ระยะเวลา 4 - 6 เดือน</td>\n",
              "      <td>4.0</td>\n",
              "      <td>ขายได้ยาก ใช้ระยะเวลามากว่า 1 ปี</td>\n",
              "    </tr>\n",
              "    <tr>\n",
              "      <th>1</th>\n",
              "      <td>1</td>\n",
              "      <td>36.0</td>\n",
              "      <td>คอนโด</td>\n",
              "      <td>มั่นใจ</td>\n",
              "      <td>1930000</td>\n",
              "      <td>2200000.0</td>\n",
              "      <td>50,000-90,000 บาท/ตารางเมตร</td>\n",
              "      <td>NaN</td>\n",
              "      <td>4 ขายได้ ใช้ระยะเวลา 4 - 6 เดือน</td>\n",
              "      <td>4.0</td>\n",
              "      <td>ขายได้ยาก ใช้ระยะเวลามากว่า 1 ปี</td>\n",
              "    </tr>\n",
              "    <tr>\n",
              "      <th>2</th>\n",
              "      <td>1</td>\n",
              "      <td>603.0</td>\n",
              "      <td>คอนโด</td>\n",
              "      <td>มั่นใจ</td>\n",
              "      <td>2438000</td>\n",
              "      <td>2800000.0</td>\n",
              "      <td>35,000-80,000 บาท/ตารางเมตร</td>\n",
              "      <td>NaN</td>\n",
              "      <td>4 ขายได้ ใช้ระยะเวลา 4 - 6 เดือน</td>\n",
              "      <td>4.0</td>\n",
              "      <td>ขายได้ยาก ใช้ระยะเวลามากว่า 1 ปี</td>\n",
              "    </tr>\n",
              "    <tr>\n",
              "      <th>3</th>\n",
              "      <td>1</td>\n",
              "      <td>1395.0</td>\n",
              "      <td>คอนโด</td>\n",
              "      <td>มั่นใจ</td>\n",
              "      <td>1600000</td>\n",
              "      <td>2300000.0</td>\n",
              "      <td>30,000-80,000 บาท/ตารางเมตร</td>\n",
              "      <td>NaN</td>\n",
              "      <td>4 ขายได้ ใช้ระยะเวลา 4 - 6 เดือน</td>\n",
              "      <td>4.0</td>\n",
              "      <td>ขายได้ยาก ใช้ระยะเวลามากว่า 1 ปี</td>\n",
              "    </tr>\n",
              "    <tr>\n",
              "      <th>4</th>\n",
              "      <td>1</td>\n",
              "      <td>1443.0</td>\n",
              "      <td>คอนโด</td>\n",
              "      <td>มั่นใจ</td>\n",
              "      <td>1860000</td>\n",
              "      <td>1800000.0</td>\n",
              "      <td>30,000-80,000 บาท/ตารางเมตร</td>\n",
              "      <td>NaN</td>\n",
              "      <td>4 ขายได้ ใช้ระยะเวลา 4 - 6 เดือน</td>\n",
              "      <td>4.0</td>\n",
              "      <td>ขายได้ยาก ใช้ระยะเวลามากว่า 1 ปี</td>\n",
              "    </tr>\n",
              "    <tr>\n",
              "      <th>5</th>\n",
              "      <td>1</td>\n",
              "      <td>1609.0</td>\n",
              "      <td>คอนโด</td>\n",
              "      <td>มั่นใจ</td>\n",
              "      <td>1490000</td>\n",
              "      <td>1500000.0</td>\n",
              "      <td>30,000-80,000 บาท/ตารางเมตร</td>\n",
              "      <td>NaN</td>\n",
              "      <td>4 ขายได้ ใช้ระยะเวลา 4 - 6 เดือน</td>\n",
              "      <td>4.0</td>\n",
              "      <td>ขายได้ยาก ใช้ระยะเวลามากว่า 1 ปี</td>\n",
              "    </tr>\n",
              "    <tr>\n",
              "      <th>6</th>\n",
              "      <td>1</td>\n",
              "      <td>1640.0</td>\n",
              "      <td>คอนโด</td>\n",
              "      <td>มั่นใจ</td>\n",
              "      <td>1280000</td>\n",
              "      <td>1600000.0</td>\n",
              "      <td>30,000-70,000 บาท/ตารางเมตร</td>\n",
              "      <td>NaN</td>\n",
              "      <td>4 ขายได้ ใช้ระยะเวลา 4 - 6 เดือน</td>\n",
              "      <td>4.0</td>\n",
              "      <td>ขายได้ยาก ใช้ระยะเวลามากว่า 1 ปี</td>\n",
              "    </tr>\n",
              "    <tr>\n",
              "      <th>7</th>\n",
              "      <td>1</td>\n",
              "      <td>1641.0</td>\n",
              "      <td>คอนโด</td>\n",
              "      <td>มั่นใจ</td>\n",
              "      <td>4290000</td>\n",
              "      <td>2700000.0</td>\n",
              "      <td>60,000-130,000 บาท/ตารางเมตร</td>\n",
              "      <td>NaN</td>\n",
              "      <td>3 ขายได้ ใช้ระยะเวลา 7 - 12 เดือน</td>\n",
              "      <td>3.0</td>\n",
              "      <td>ขายได้ ใช้ระยะเวลา 7-12 เดือน</td>\n",
              "    </tr>\n",
              "    <tr>\n",
              "      <th>8</th>\n",
              "      <td>1</td>\n",
              "      <td>1650.0</td>\n",
              "      <td>คอนโด</td>\n",
              "      <td>มั่นใจ</td>\n",
              "      <td>1700000</td>\n",
              "      <td>1550000.0</td>\n",
              "      <td>30,000-70,000 บาท/ตารางเมตร</td>\n",
              "      <td>NaN</td>\n",
              "      <td>4 ขายได้ ใช้ระยะเวลา 4 - 6 เดือน</td>\n",
              "      <td>4.0</td>\n",
              "      <td>ขายได้ยาก ใช้ระยะเวลามากว่า 1 ปี</td>\n",
              "    </tr>\n",
              "    <tr>\n",
              "      <th>9</th>\n",
              "      <td>1</td>\n",
              "      <td>1840.0</td>\n",
              "      <td>คอนโด</td>\n",
              "      <td>มั่นใจ</td>\n",
              "      <td>3790000</td>\n",
              "      <td>2800000.0</td>\n",
              "      <td>30,000-80,000 บาท/ตารางเมตร</td>\n",
              "      <td>NaN</td>\n",
              "      <td>4 ขายได้ ใช้ระยะเวลา 4 - 6 เดือน</td>\n",
              "      <td>4.0</td>\n",
              "      <td>ขายได้ยาก ใช้ระยะเวลามากว่า 1 ปี</td>\n",
              "    </tr>\n",
              "  </tbody>\n",
              "</table>\n",
              "</div>\n",
              "      <button class=\"colab-df-convert\" onclick=\"convertToInteractive('df-1def1ebd-37d4-492c-a03a-d1d6bfb7d897')\"\n",
              "              title=\"Convert this dataframe to an interactive table.\"\n",
              "              style=\"display:none;\">\n",
              "        \n",
              "  <svg xmlns=\"http://www.w3.org/2000/svg\" height=\"24px\"viewBox=\"0 0 24 24\"\n",
              "       width=\"24px\">\n",
              "    <path d=\"M0 0h24v24H0V0z\" fill=\"none\"/>\n",
              "    <path d=\"M18.56 5.44l.94 2.06.94-2.06 2.06-.94-2.06-.94-.94-2.06-.94 2.06-2.06.94zm-11 1L8.5 8.5l.94-2.06 2.06-.94-2.06-.94L8.5 2.5l-.94 2.06-2.06.94zm10 10l.94 2.06.94-2.06 2.06-.94-2.06-.94-.94-2.06-.94 2.06-2.06.94z\"/><path d=\"M17.41 7.96l-1.37-1.37c-.4-.4-.92-.59-1.43-.59-.52 0-1.04.2-1.43.59L10.3 9.45l-7.72 7.72c-.78.78-.78 2.05 0 2.83L4 21.41c.39.39.9.59 1.41.59.51 0 1.02-.2 1.41-.59l7.78-7.78 2.81-2.81c.8-.78.8-2.07 0-2.86zM5.41 20L4 18.59l7.72-7.72 1.47 1.35L5.41 20z\"/>\n",
              "  </svg>\n",
              "      </button>\n",
              "      \n",
              "  <style>\n",
              "    .colab-df-container {\n",
              "      display:flex;\n",
              "      flex-wrap:wrap;\n",
              "      gap: 12px;\n",
              "    }\n",
              "\n",
              "    .colab-df-convert {\n",
              "      background-color: #E8F0FE;\n",
              "      border: none;\n",
              "      border-radius: 50%;\n",
              "      cursor: pointer;\n",
              "      display: none;\n",
              "      fill: #1967D2;\n",
              "      height: 32px;\n",
              "      padding: 0 0 0 0;\n",
              "      width: 32px;\n",
              "    }\n",
              "\n",
              "    .colab-df-convert:hover {\n",
              "      background-color: #E2EBFA;\n",
              "      box-shadow: 0px 1px 2px rgba(60, 64, 67, 0.3), 0px 1px 3px 1px rgba(60, 64, 67, 0.15);\n",
              "      fill: #174EA6;\n",
              "    }\n",
              "\n",
              "    [theme=dark] .colab-df-convert {\n",
              "      background-color: #3B4455;\n",
              "      fill: #D2E3FC;\n",
              "    }\n",
              "\n",
              "    [theme=dark] .colab-df-convert:hover {\n",
              "      background-color: #434B5C;\n",
              "      box-shadow: 0px 1px 3px 1px rgba(0, 0, 0, 0.15);\n",
              "      filter: drop-shadow(0px 1px 2px rgba(0, 0, 0, 0.3));\n",
              "      fill: #FFFFFF;\n",
              "    }\n",
              "  </style>\n",
              "\n",
              "      <script>\n",
              "        const buttonEl =\n",
              "          document.querySelector('#df-1def1ebd-37d4-492c-a03a-d1d6bfb7d897 button.colab-df-convert');\n",
              "        buttonEl.style.display =\n",
              "          google.colab.kernel.accessAllowed ? 'block' : 'none';\n",
              "\n",
              "        async function convertToInteractive(key) {\n",
              "          const element = document.querySelector('#df-1def1ebd-37d4-492c-a03a-d1d6bfb7d897');\n",
              "          const dataTable =\n",
              "            await google.colab.kernel.invokeFunction('convertToInteractive',\n",
              "                                                     [key], {});\n",
              "          if (!dataTable) return;\n",
              "\n",
              "          const docLinkHtml = 'Like what you see? Visit the ' +\n",
              "            '<a target=\"_blank\" href=https://colab.research.google.com/notebooks/data_table.ipynb>data table notebook</a>'\n",
              "            + ' to learn more about interactive tables.';\n",
              "          element.innerHTML = '';\n",
              "          dataTable['output_type'] = 'display_data';\n",
              "          await google.colab.output.renderOutput(dataTable, element);\n",
              "          const docLink = document.createElement('div');\n",
              "          docLink.innerHTML = docLinkHtml;\n",
              "          element.appendChild(docLink);\n",
              "        }\n",
              "      </script>\n",
              "    </div>\n",
              "  </div>\n",
              "  "
            ]
          },
          "metadata": {},
          "execution_count": 215
        }
      ]
    },
    {
      "cell_type": "code",
      "source": [
        "idc1 = condo[condo['ID ผู้ประเมิน']==1]\n",
        "idc1 = idc1.dropna(subset=['ราคาทรัพย์','ประเมินโดย 1'])\n",
        "\n",
        "idc1MAPE = mape(idc1['ประเมินโดย 1'],pd.to_numeric(idc1['ราคาทรัพย์']))\n",
        "\n",
        "print(f'ความแตกต่างระหว่างราคาประกาศขายและราคาประเมินของ\\nบ้าน\\nนักประเมิน คนที่ 1 = {idc1MAPE*100:.2f}%')\n",
        "\n",
        "\n",
        "print(f'จำนวนทรัพย์ทั้งหมด {len(idc1)} ทรัพย์')"
      ],
      "metadata": {
        "id": "OJCC_5Il71aH",
        "outputId": "3026bf86-dc10-4e44-deb0-538a4908651d",
        "colab": {
          "base_uri": "https://localhost:8080/"
        }
      },
      "execution_count": 216,
      "outputs": [
        {
          "output_type": "stream",
          "name": "stdout",
          "text": [
            "ความแตกต่างระหว่างราคาประกาศขายและราคาประเมินของ\n",
            "บ้าน\n",
            "นักประเมิน คนที่ 1 = 18.36%\n",
            "จำนวนทรัพย์ทั้งหมด 10 ทรัพย์\n"
          ]
        }
      ]
    },
    {
      "cell_type": "markdown",
      "source": [
        "## Town home"
      ],
      "metadata": {
        "id": "UPVqrHgcSjqf"
      }
    },
    {
      "cell_type": "code",
      "source": [
        "esttownhome2['ประเมินโดย 1'] = esttownhome2['post id'].map(esttownhome.set_index('post id')['ประเมินราคาซื้อ-ขาย'])\n",
        "esttownhome2.head(3)"
      ],
      "metadata": {
        "id": "_nKkZo_TSjqg",
        "colab": {
          "base_uri": "https://localhost:8080/",
          "height": 624
        },
        "outputId": "4d9b0a5b-66b5-4dd6-b51d-4784e2dab497"
      },
      "execution_count": 217,
      "outputs": [
        {
          "output_type": "stream",
          "name": "stderr",
          "text": [
            "<ipython-input-217-d07d894e332f>:1: SettingWithCopyWarning: \n",
            "A value is trying to be set on a copy of a slice from a DataFrame.\n",
            "Try using .loc[row_indexer,col_indexer] = value instead\n",
            "\n",
            "See the caveats in the documentation: https://pandas.pydata.org/pandas-docs/stable/user_guide/indexing.html#returning-a-view-versus-a-copy\n",
            "  esttownhome2['ประเมินโดย 1'] = esttownhome2['post id'].map(esttownhome.set_index('post id')['ประเมินราคาซื้อ-ขาย'])\n"
          ]
        },
        {
          "output_type": "execute_result",
          "data": {
            "text/plain": [
              "   ID ผู้ประเมิน                              post id property_type  \\\n",
              "1              2  https://nayoo.co/khonkaen/posts/548      ทาวน์โฮม   \n",
              "3              2  https://nayoo.co/khonkaen/posts/549      ทาวน์โฮม   \n",
              "5              2  https://nayoo.co/khonkaen/posts/579      ทาวน์โฮม   \n",
              "\n",
              "  ความมั่นใจในการเมินราคาทรัพย์  ราคาทรัพย์  ประเมินราคาซื้อ-ขาย  \\\n",
              "1                        มั่นใจ     1045000            1500000.0   \n",
              "3                        มั่นใจ      935000            1500000.0   \n",
              "5                        มั่นใจ     2520000            4000000.0   \n",
              "\n",
              "  ปัจจัยในการประเมินราคาซื้อ-ขาย  เหตุผลไม่มั่นใจราคาประเมิน  \\\n",
              "1      ราคาซื้อขาย 1-2 ล้าน/คูหา                         NaN   \n",
              "3      ราคาเสนอขาย 1-2 ล้าน/คูหา                         NaN   \n",
              "5   ราคาเสนอขาย 3-5 ล้านบาท/คูหา                         NaN   \n",
              "\n",
              "                      ให้คะแนนทรัพย์  Unnamed: 9  Unnamed: 10  Unnamed: 11  \\\n",
              "1                  1 ขายไม่ได้แน่นอน         NaN          NaN          NaN   \n",
              "3                  1 ขายไม่ได้แน่นอน         NaN          NaN          NaN   \n",
              "5  3 ขายได้ ใช้ระยะเวลา 7 - 12 เดือน         NaN          NaN          NaN   \n",
              "\n",
              "   Unnamed: 12  ประเมินโดย 1  \n",
              "1          NaN      700000.0  \n",
              "3          NaN      700000.0  \n",
              "5          NaN     3500000.0  "
            ],
            "text/html": [
              "\n",
              "  <div id=\"df-25dc2d19-bebe-440c-a18f-82c9910dcfd1\">\n",
              "    <div class=\"colab-df-container\">\n",
              "      <div>\n",
              "<style scoped>\n",
              "    .dataframe tbody tr th:only-of-type {\n",
              "        vertical-align: middle;\n",
              "    }\n",
              "\n",
              "    .dataframe tbody tr th {\n",
              "        vertical-align: top;\n",
              "    }\n",
              "\n",
              "    .dataframe thead th {\n",
              "        text-align: right;\n",
              "    }\n",
              "</style>\n",
              "<table border=\"1\" class=\"dataframe\">\n",
              "  <thead>\n",
              "    <tr style=\"text-align: right;\">\n",
              "      <th></th>\n",
              "      <th>ID ผู้ประเมิน</th>\n",
              "      <th>post id</th>\n",
              "      <th>property_type</th>\n",
              "      <th>ความมั่นใจในการเมินราคาทรัพย์</th>\n",
              "      <th>ราคาทรัพย์</th>\n",
              "      <th>ประเมินราคาซื้อ-ขาย</th>\n",
              "      <th>ปัจจัยในการประเมินราคาซื้อ-ขาย</th>\n",
              "      <th>เหตุผลไม่มั่นใจราคาประเมิน</th>\n",
              "      <th>ให้คะแนนทรัพย์</th>\n",
              "      <th>Unnamed: 9</th>\n",
              "      <th>Unnamed: 10</th>\n",
              "      <th>Unnamed: 11</th>\n",
              "      <th>Unnamed: 12</th>\n",
              "      <th>ประเมินโดย 1</th>\n",
              "    </tr>\n",
              "  </thead>\n",
              "  <tbody>\n",
              "    <tr>\n",
              "      <th>1</th>\n",
              "      <td>2</td>\n",
              "      <td>https://nayoo.co/khonkaen/posts/548</td>\n",
              "      <td>ทาวน์โฮม</td>\n",
              "      <td>มั่นใจ</td>\n",
              "      <td>1045000</td>\n",
              "      <td>1500000.0</td>\n",
              "      <td>ราคาซื้อขาย 1-2 ล้าน/คูหา</td>\n",
              "      <td>NaN</td>\n",
              "      <td>1 ขายไม่ได้แน่นอน</td>\n",
              "      <td>NaN</td>\n",
              "      <td>NaN</td>\n",
              "      <td>NaN</td>\n",
              "      <td>NaN</td>\n",
              "      <td>700000.0</td>\n",
              "    </tr>\n",
              "    <tr>\n",
              "      <th>3</th>\n",
              "      <td>2</td>\n",
              "      <td>https://nayoo.co/khonkaen/posts/549</td>\n",
              "      <td>ทาวน์โฮม</td>\n",
              "      <td>มั่นใจ</td>\n",
              "      <td>935000</td>\n",
              "      <td>1500000.0</td>\n",
              "      <td>ราคาเสนอขาย 1-2 ล้าน/คูหา</td>\n",
              "      <td>NaN</td>\n",
              "      <td>1 ขายไม่ได้แน่นอน</td>\n",
              "      <td>NaN</td>\n",
              "      <td>NaN</td>\n",
              "      <td>NaN</td>\n",
              "      <td>NaN</td>\n",
              "      <td>700000.0</td>\n",
              "    </tr>\n",
              "    <tr>\n",
              "      <th>5</th>\n",
              "      <td>2</td>\n",
              "      <td>https://nayoo.co/khonkaen/posts/579</td>\n",
              "      <td>ทาวน์โฮม</td>\n",
              "      <td>มั่นใจ</td>\n",
              "      <td>2520000</td>\n",
              "      <td>4000000.0</td>\n",
              "      <td>ราคาเสนอขาย 3-5 ล้านบาท/คูหา</td>\n",
              "      <td>NaN</td>\n",
              "      <td>3 ขายได้ ใช้ระยะเวลา 7 - 12 เดือน</td>\n",
              "      <td>NaN</td>\n",
              "      <td>NaN</td>\n",
              "      <td>NaN</td>\n",
              "      <td>NaN</td>\n",
              "      <td>3500000.0</td>\n",
              "    </tr>\n",
              "  </tbody>\n",
              "</table>\n",
              "</div>\n",
              "      <button class=\"colab-df-convert\" onclick=\"convertToInteractive('df-25dc2d19-bebe-440c-a18f-82c9910dcfd1')\"\n",
              "              title=\"Convert this dataframe to an interactive table.\"\n",
              "              style=\"display:none;\">\n",
              "        \n",
              "  <svg xmlns=\"http://www.w3.org/2000/svg\" height=\"24px\"viewBox=\"0 0 24 24\"\n",
              "       width=\"24px\">\n",
              "    <path d=\"M0 0h24v24H0V0z\" fill=\"none\"/>\n",
              "    <path d=\"M18.56 5.44l.94 2.06.94-2.06 2.06-.94-2.06-.94-.94-2.06-.94 2.06-2.06.94zm-11 1L8.5 8.5l.94-2.06 2.06-.94-2.06-.94L8.5 2.5l-.94 2.06-2.06.94zm10 10l.94 2.06.94-2.06 2.06-.94-2.06-.94-.94-2.06-.94 2.06-2.06.94z\"/><path d=\"M17.41 7.96l-1.37-1.37c-.4-.4-.92-.59-1.43-.59-.52 0-1.04.2-1.43.59L10.3 9.45l-7.72 7.72c-.78.78-.78 2.05 0 2.83L4 21.41c.39.39.9.59 1.41.59.51 0 1.02-.2 1.41-.59l7.78-7.78 2.81-2.81c.8-.78.8-2.07 0-2.86zM5.41 20L4 18.59l7.72-7.72 1.47 1.35L5.41 20z\"/>\n",
              "  </svg>\n",
              "      </button>\n",
              "      \n",
              "  <style>\n",
              "    .colab-df-container {\n",
              "      display:flex;\n",
              "      flex-wrap:wrap;\n",
              "      gap: 12px;\n",
              "    }\n",
              "\n",
              "    .colab-df-convert {\n",
              "      background-color: #E8F0FE;\n",
              "      border: none;\n",
              "      border-radius: 50%;\n",
              "      cursor: pointer;\n",
              "      display: none;\n",
              "      fill: #1967D2;\n",
              "      height: 32px;\n",
              "      padding: 0 0 0 0;\n",
              "      width: 32px;\n",
              "    }\n",
              "\n",
              "    .colab-df-convert:hover {\n",
              "      background-color: #E2EBFA;\n",
              "      box-shadow: 0px 1px 2px rgba(60, 64, 67, 0.3), 0px 1px 3px 1px rgba(60, 64, 67, 0.15);\n",
              "      fill: #174EA6;\n",
              "    }\n",
              "\n",
              "    [theme=dark] .colab-df-convert {\n",
              "      background-color: #3B4455;\n",
              "      fill: #D2E3FC;\n",
              "    }\n",
              "\n",
              "    [theme=dark] .colab-df-convert:hover {\n",
              "      background-color: #434B5C;\n",
              "      box-shadow: 0px 1px 3px 1px rgba(0, 0, 0, 0.15);\n",
              "      filter: drop-shadow(0px 1px 2px rgba(0, 0, 0, 0.3));\n",
              "      fill: #FFFFFF;\n",
              "    }\n",
              "  </style>\n",
              "\n",
              "      <script>\n",
              "        const buttonEl =\n",
              "          document.querySelector('#df-25dc2d19-bebe-440c-a18f-82c9910dcfd1 button.colab-df-convert');\n",
              "        buttonEl.style.display =\n",
              "          google.colab.kernel.accessAllowed ? 'block' : 'none';\n",
              "\n",
              "        async function convertToInteractive(key) {\n",
              "          const element = document.querySelector('#df-25dc2d19-bebe-440c-a18f-82c9910dcfd1');\n",
              "          const dataTable =\n",
              "            await google.colab.kernel.invokeFunction('convertToInteractive',\n",
              "                                                     [key], {});\n",
              "          if (!dataTable) return;\n",
              "\n",
              "          const docLinkHtml = 'Like what you see? Visit the ' +\n",
              "            '<a target=\"_blank\" href=https://colab.research.google.com/notebooks/data_table.ipynb>data table notebook</a>'\n",
              "            + ' to learn more about interactive tables.';\n",
              "          element.innerHTML = '';\n",
              "          dataTable['output_type'] = 'display_data';\n",
              "          await google.colab.output.renderOutput(dataTable, element);\n",
              "          const docLink = document.createElement('div');\n",
              "          docLink.innerHTML = docLinkHtml;\n",
              "          element.appendChild(docLink);\n",
              "        }\n",
              "      </script>\n",
              "    </div>\n",
              "  </div>\n",
              "  "
            ]
          },
          "metadata": {},
          "execution_count": 217
        }
      ]
    },
    {
      "cell_type": "code",
      "source": [
        "esttownhome2.rename(columns={'ประเมินราคาซื้อ-ขาย' :'ประเมินโดย 2'}, inplace=True);"
      ],
      "metadata": {
        "id": "S4h29AIASjqh",
        "outputId": "1e5b01e0-664e-4e46-a111-3540ee4c0ae4",
        "colab": {
          "base_uri": "https://localhost:8080/"
        }
      },
      "execution_count": 218,
      "outputs": [
        {
          "output_type": "stream",
          "name": "stderr",
          "text": [
            "/usr/local/lib/python3.8/dist-packages/pandas/core/frame.py:5039: SettingWithCopyWarning: \n",
            "A value is trying to be set on a copy of a slice from a DataFrame\n",
            "\n",
            "See the caveats in the documentation: https://pandas.pydata.org/pandas-docs/stable/user_guide/indexing.html#returning-a-view-versus-a-copy\n",
            "  return super().rename(\n"
          ]
        }
      ]
    },
    {
      "cell_type": "code",
      "source": [
        "ass_th = esttownhome2[['post id','ราคาทรัพย์','ประเมินโดย 1','ประเมินโดย 2']]\n",
        "ass_th"
      ],
      "metadata": {
        "outputId": "6fdd2f5b-3f8b-4ada-d3a6-9124200b5017",
        "colab": {
          "base_uri": "https://localhost:8080/",
          "height": 424
        },
        "id": "aQWQHdm6Sjqi"
      },
      "execution_count": 219,
      "outputs": [
        {
          "output_type": "execute_result",
          "data": {
            "text/plain": [
              "                                   post id  ราคาทรัพย์  ประเมินโดย 1  \\\n",
              "1      https://nayoo.co/khonkaen/posts/548     1045000      700000.0   \n",
              "3      https://nayoo.co/khonkaen/posts/549      935000      700000.0   \n",
              "5      https://nayoo.co/khonkaen/posts/579     2520000     3500000.0   \n",
              "7      https://nayoo.co/khonkaen/posts/580     3850000     3500000.0   \n",
              "9      https://nayoo.co/khonkaen/posts/582      544000     1000000.0   \n",
              "..                                     ...         ...           ...   \n",
              "235  https://nayoo.co/khonkaen/posts/18547     1105000     1000000.0   \n",
              "236  https://nayoo.co/khonkaen/posts/18551     1440000     1500000.0   \n",
              "237  https://nayoo.co/khonkaen/posts/19434     2000000     1600000.0   \n",
              "238  https://nayoo.co/khonkaen/posts/19501     1790000     1600000.0   \n",
              "239  https://nayoo.co/khonkaen/posts/20367     1590000     1700000.0   \n",
              "\n",
              "     ประเมินโดย 2  \n",
              "1       1500000.0  \n",
              "3       1500000.0  \n",
              "5       4000000.0  \n",
              "7       3200000.0  \n",
              "9        800000.0  \n",
              "..            ...  \n",
              "235     1200000.0  \n",
              "236     1700000.0  \n",
              "237     1900000.0  \n",
              "238     1700000.0  \n",
              "239     1700000.0  \n",
              "\n",
              "[120 rows x 4 columns]"
            ],
            "text/html": [
              "\n",
              "  <div id=\"df-735cb482-a1a1-471a-af24-7ed62ad82b8a\">\n",
              "    <div class=\"colab-df-container\">\n",
              "      <div>\n",
              "<style scoped>\n",
              "    .dataframe tbody tr th:only-of-type {\n",
              "        vertical-align: middle;\n",
              "    }\n",
              "\n",
              "    .dataframe tbody tr th {\n",
              "        vertical-align: top;\n",
              "    }\n",
              "\n",
              "    .dataframe thead th {\n",
              "        text-align: right;\n",
              "    }\n",
              "</style>\n",
              "<table border=\"1\" class=\"dataframe\">\n",
              "  <thead>\n",
              "    <tr style=\"text-align: right;\">\n",
              "      <th></th>\n",
              "      <th>post id</th>\n",
              "      <th>ราคาทรัพย์</th>\n",
              "      <th>ประเมินโดย 1</th>\n",
              "      <th>ประเมินโดย 2</th>\n",
              "    </tr>\n",
              "  </thead>\n",
              "  <tbody>\n",
              "    <tr>\n",
              "      <th>1</th>\n",
              "      <td>https://nayoo.co/khonkaen/posts/548</td>\n",
              "      <td>1045000</td>\n",
              "      <td>700000.0</td>\n",
              "      <td>1500000.0</td>\n",
              "    </tr>\n",
              "    <tr>\n",
              "      <th>3</th>\n",
              "      <td>https://nayoo.co/khonkaen/posts/549</td>\n",
              "      <td>935000</td>\n",
              "      <td>700000.0</td>\n",
              "      <td>1500000.0</td>\n",
              "    </tr>\n",
              "    <tr>\n",
              "      <th>5</th>\n",
              "      <td>https://nayoo.co/khonkaen/posts/579</td>\n",
              "      <td>2520000</td>\n",
              "      <td>3500000.0</td>\n",
              "      <td>4000000.0</td>\n",
              "    </tr>\n",
              "    <tr>\n",
              "      <th>7</th>\n",
              "      <td>https://nayoo.co/khonkaen/posts/580</td>\n",
              "      <td>3850000</td>\n",
              "      <td>3500000.0</td>\n",
              "      <td>3200000.0</td>\n",
              "    </tr>\n",
              "    <tr>\n",
              "      <th>9</th>\n",
              "      <td>https://nayoo.co/khonkaen/posts/582</td>\n",
              "      <td>544000</td>\n",
              "      <td>1000000.0</td>\n",
              "      <td>800000.0</td>\n",
              "    </tr>\n",
              "    <tr>\n",
              "      <th>...</th>\n",
              "      <td>...</td>\n",
              "      <td>...</td>\n",
              "      <td>...</td>\n",
              "      <td>...</td>\n",
              "    </tr>\n",
              "    <tr>\n",
              "      <th>235</th>\n",
              "      <td>https://nayoo.co/khonkaen/posts/18547</td>\n",
              "      <td>1105000</td>\n",
              "      <td>1000000.0</td>\n",
              "      <td>1200000.0</td>\n",
              "    </tr>\n",
              "    <tr>\n",
              "      <th>236</th>\n",
              "      <td>https://nayoo.co/khonkaen/posts/18551</td>\n",
              "      <td>1440000</td>\n",
              "      <td>1500000.0</td>\n",
              "      <td>1700000.0</td>\n",
              "    </tr>\n",
              "    <tr>\n",
              "      <th>237</th>\n",
              "      <td>https://nayoo.co/khonkaen/posts/19434</td>\n",
              "      <td>2000000</td>\n",
              "      <td>1600000.0</td>\n",
              "      <td>1900000.0</td>\n",
              "    </tr>\n",
              "    <tr>\n",
              "      <th>238</th>\n",
              "      <td>https://nayoo.co/khonkaen/posts/19501</td>\n",
              "      <td>1790000</td>\n",
              "      <td>1600000.0</td>\n",
              "      <td>1700000.0</td>\n",
              "    </tr>\n",
              "    <tr>\n",
              "      <th>239</th>\n",
              "      <td>https://nayoo.co/khonkaen/posts/20367</td>\n",
              "      <td>1590000</td>\n",
              "      <td>1700000.0</td>\n",
              "      <td>1700000.0</td>\n",
              "    </tr>\n",
              "  </tbody>\n",
              "</table>\n",
              "<p>120 rows × 4 columns</p>\n",
              "</div>\n",
              "      <button class=\"colab-df-convert\" onclick=\"convertToInteractive('df-735cb482-a1a1-471a-af24-7ed62ad82b8a')\"\n",
              "              title=\"Convert this dataframe to an interactive table.\"\n",
              "              style=\"display:none;\">\n",
              "        \n",
              "  <svg xmlns=\"http://www.w3.org/2000/svg\" height=\"24px\"viewBox=\"0 0 24 24\"\n",
              "       width=\"24px\">\n",
              "    <path d=\"M0 0h24v24H0V0z\" fill=\"none\"/>\n",
              "    <path d=\"M18.56 5.44l.94 2.06.94-2.06 2.06-.94-2.06-.94-.94-2.06-.94 2.06-2.06.94zm-11 1L8.5 8.5l.94-2.06 2.06-.94-2.06-.94L8.5 2.5l-.94 2.06-2.06.94zm10 10l.94 2.06.94-2.06 2.06-.94-2.06-.94-.94-2.06-.94 2.06-2.06.94z\"/><path d=\"M17.41 7.96l-1.37-1.37c-.4-.4-.92-.59-1.43-.59-.52 0-1.04.2-1.43.59L10.3 9.45l-7.72 7.72c-.78.78-.78 2.05 0 2.83L4 21.41c.39.39.9.59 1.41.59.51 0 1.02-.2 1.41-.59l7.78-7.78 2.81-2.81c.8-.78.8-2.07 0-2.86zM5.41 20L4 18.59l7.72-7.72 1.47 1.35L5.41 20z\"/>\n",
              "  </svg>\n",
              "      </button>\n",
              "      \n",
              "  <style>\n",
              "    .colab-df-container {\n",
              "      display:flex;\n",
              "      flex-wrap:wrap;\n",
              "      gap: 12px;\n",
              "    }\n",
              "\n",
              "    .colab-df-convert {\n",
              "      background-color: #E8F0FE;\n",
              "      border: none;\n",
              "      border-radius: 50%;\n",
              "      cursor: pointer;\n",
              "      display: none;\n",
              "      fill: #1967D2;\n",
              "      height: 32px;\n",
              "      padding: 0 0 0 0;\n",
              "      width: 32px;\n",
              "    }\n",
              "\n",
              "    .colab-df-convert:hover {\n",
              "      background-color: #E2EBFA;\n",
              "      box-shadow: 0px 1px 2px rgba(60, 64, 67, 0.3), 0px 1px 3px 1px rgba(60, 64, 67, 0.15);\n",
              "      fill: #174EA6;\n",
              "    }\n",
              "\n",
              "    [theme=dark] .colab-df-convert {\n",
              "      background-color: #3B4455;\n",
              "      fill: #D2E3FC;\n",
              "    }\n",
              "\n",
              "    [theme=dark] .colab-df-convert:hover {\n",
              "      background-color: #434B5C;\n",
              "      box-shadow: 0px 1px 3px 1px rgba(0, 0, 0, 0.15);\n",
              "      filter: drop-shadow(0px 1px 2px rgba(0, 0, 0, 0.3));\n",
              "      fill: #FFFFFF;\n",
              "    }\n",
              "  </style>\n",
              "\n",
              "      <script>\n",
              "        const buttonEl =\n",
              "          document.querySelector('#df-735cb482-a1a1-471a-af24-7ed62ad82b8a button.colab-df-convert');\n",
              "        buttonEl.style.display =\n",
              "          google.colab.kernel.accessAllowed ? 'block' : 'none';\n",
              "\n",
              "        async function convertToInteractive(key) {\n",
              "          const element = document.querySelector('#df-735cb482-a1a1-471a-af24-7ed62ad82b8a');\n",
              "          const dataTable =\n",
              "            await google.colab.kernel.invokeFunction('convertToInteractive',\n",
              "                                                     [key], {});\n",
              "          if (!dataTable) return;\n",
              "\n",
              "          const docLinkHtml = 'Like what you see? Visit the ' +\n",
              "            '<a target=\"_blank\" href=https://colab.research.google.com/notebooks/data_table.ipynb>data table notebook</a>'\n",
              "            + ' to learn more about interactive tables.';\n",
              "          element.innerHTML = '';\n",
              "          dataTable['output_type'] = 'display_data';\n",
              "          await google.colab.output.renderOutput(dataTable, element);\n",
              "          const docLink = document.createElement('div');\n",
              "          docLink.innerHTML = docLinkHtml;\n",
              "          element.appendChild(docLink);\n",
              "        }\n",
              "      </script>\n",
              "    </div>\n",
              "  </div>\n",
              "  "
            ]
          },
          "metadata": {},
          "execution_count": 219
        }
      ]
    },
    {
      "cell_type": "markdown",
      "source": [
        "เช็คและแก้ missing"
      ],
      "metadata": {
        "id": "3mrwlTmnSjqi"
      }
    },
    {
      "cell_type": "code",
      "source": [
        "ass_th.isnull().any()"
      ],
      "metadata": {
        "outputId": "71ed228f-e5aa-40d0-841c-697b2d482046",
        "colab": {
          "base_uri": "https://localhost:8080/"
        },
        "id": "Tyx5okNkSjqi"
      },
      "execution_count": 220,
      "outputs": [
        {
          "output_type": "execute_result",
          "data": {
            "text/plain": [
              "post id         False\n",
              "ราคาทรัพย์      False\n",
              "ประเมินโดย 1    False\n",
              "ประเมินโดย 2    False\n",
              "dtype: bool"
            ]
          },
          "metadata": {},
          "execution_count": 220
        }
      ]
    },
    {
      "cell_type": "markdown",
      "source": [
        "### MAPE"
      ],
      "metadata": {
        "id": "kN2pSCYJSjqj"
      }
    },
    {
      "cell_type": "code",
      "source": [
        "actual_th = ass_th[['ราคาทรัพย์']]\n",
        "pred_1th = ass_th[['ประเมินโดย 1']]\n",
        "pred_2th = ass_th[['ประเมินโดย 2']]"
      ],
      "metadata": {
        "id": "6DhhFaSaSjqj"
      },
      "execution_count": 221,
      "outputs": []
    },
    {
      "cell_type": "code",
      "source": [
        "mpth1 = mape(actual_th,pred_1th)\n",
        "mpth2 = mape(actual_th,pred_2th)\n",
        "mpth12 = mape(pred_1th,pred_2th)"
      ],
      "metadata": {
        "id": "_ve2BnxhSjqj"
      },
      "execution_count": 222,
      "outputs": []
    },
    {
      "cell_type": "code",
      "source": [
        "print(f' MAPE ราคาทรัพย์กับผู้ประเมินคนที่ 1 คือ {mpth1:.2f}\\n MAPE ราคาทรัพย์กับผู้ประเมินคนที่ 2 คือ {mpth2:.2f}\\n MAPE ราคาตั้งขายของผู้ประเมินคนที่ 1 กับ ผู้ประเมินคนที่ 2 คือ {mpth12:.2f}')"
      ],
      "metadata": {
        "outputId": "1cc75cd8-56d7-4548-d852-f9b418764017",
        "colab": {
          "base_uri": "https://localhost:8080/"
        },
        "id": "D0xsUvNtSjqk"
      },
      "execution_count": 223,
      "outputs": [
        {
          "output_type": "stream",
          "name": "stdout",
          "text": [
            " MAPE ราคาทรัพย์กับผู้ประเมินคนที่ 1 คือ 0.12\n",
            " MAPE ราคาทรัพย์กับผู้ประเมินคนที่ 2 คือ 0.09\n",
            " MAPE ราคาตั้งขายของผู้ประเมินคนที่ 1 กับ ผู้ประเมินคนที่ 2 คือ 0.11\n"
          ]
        }
      ]
    },
    {
      "cell_type": "code",
      "source": [
        "idt1 = townhome[townhome['ID ผู้ประเมิน']==1]\n",
        "idt1 = idt1.dropna(subset=['ราคาทรัพย์','ประเมินราคาซื้อ-ขาย'])\n",
        "idt2 = townhome[townhome['ID ผู้ประเมิน']==2]\n",
        "idt2 = idt2.dropna(subset=['ราคาทรัพย์','ประเมินราคาซื้อ-ขาย'])\n",
        "idt1MAPE = mape(idt1['ประเมินราคาซื้อ-ขาย'],pd.to_numeric(idt1['ราคาทรัพย์']))\n",
        "idt2MAPE = mape(idt2['ประเมินราคาซื้อ-ขาย'],pd.to_numeric(idt2['ราคาทรัพย์']))\n",
        "print(f'ความแตกต่างระหว่างราคาประกาศขายและราคาประเมินของ\\nบ้าน\\nนักประเมิน คนที่ 1 = {idt1MAPE*100:.2f}%\\nนักประเมิน คนที่ 2 = {idt2MAPE*100:.2f}%')\n",
        "idt2['ประเมิน2'] = idt2['post id'].map(idt1.set_index('post id')['ประเมินราคาซื้อ-ขาย'])\n",
        "id2_t = idt2.dropna(subset=['ประเมินราคาซื้อ-ขาย','ประเมิน2','ราคาทรัพย์'])\n",
        "one2twot = mape(id2_t['ประเมินราคาซื้อ-ขาย'],id2_t['ประเมิน2'])\n",
        "two2onet = mape(id2_t['ประเมิน2'],id2_t['ประเมินราคาซื้อ-ขาย'])\n",
        "print(f'ความผิดพลาดระหว่างนักประเมินทั้ง {((one2twot)+(two2onet))*50:.2f}%')\n",
        "print(f'จำนวนทรัพย์ทั้งหมด {len(id2_t)} ทรัพย์')"
      ],
      "metadata": {
        "id": "fSiTAk5r77nB",
        "outputId": "21163d1e-2323-49d4-f945-03cc7f3ae1ae",
        "colab": {
          "base_uri": "https://localhost:8080/"
        }
      },
      "execution_count": 224,
      "outputs": [
        {
          "output_type": "stream",
          "name": "stdout",
          "text": [
            "ความแตกต่างระหว่างราคาประกาศขายและราคาประเมินของ\n",
            "บ้าน\n",
            "นักประเมิน คนที่ 1 = 15.26%\n",
            "นักประเมิน คนที่ 2 = 12.20%\n",
            "ความผิดพลาดระหว่างนักประเมินทั้ง 10.92%\n",
            "จำนวนทรัพย์ทั้งหมด 120 ทรัพย์\n"
          ]
        }
      ]
    },
    {
      "cell_type": "markdown",
      "source": [
        "## Shop house"
      ],
      "metadata": {
        "id": "ciiwJ2UAVbZw"
      }
    },
    {
      "cell_type": "code",
      "source": [
        "estshophouse2['ประเมินโดย 1'] = estshophouse2['post id'].map(estshophouse.set_index('post id')['ประเมินราคาซื้อ-ขาย'])\n",
        "estshophouse2.head(3)"
      ],
      "metadata": {
        "id": "SVjsjkdFVbZ6",
        "colab": {
          "base_uri": "https://localhost:8080/",
          "height": 448
        },
        "outputId": "dcd23493-3097-498f-9e17-f85216c6e7c8"
      },
      "execution_count": 225,
      "outputs": [
        {
          "output_type": "stream",
          "name": "stderr",
          "text": [
            "<ipython-input-225-5e385d04ca4b>:1: SettingWithCopyWarning: \n",
            "A value is trying to be set on a copy of a slice from a DataFrame.\n",
            "Try using .loc[row_indexer,col_indexer] = value instead\n",
            "\n",
            "See the caveats in the documentation: https://pandas.pydata.org/pandas-docs/stable/user_guide/indexing.html#returning-a-view-versus-a-copy\n",
            "  estshophouse2['ประเมินโดย 1'] = estshophouse2['post id'].map(estshophouse.set_index('post id')['ประเมินราคาซื้อ-ขาย'])\n"
          ]
        },
        {
          "output_type": "execute_result",
          "data": {
            "text/plain": [
              "   ID ผู้ประเมิน                             post id          property_type  \\\n",
              "1              2   https://nayoo.co/khonkaen/posts/6  อาคารพาณิชย์/สำนักงาน   \n",
              "3              2  https://nayoo.co/khonkaen/posts/17  อาคารพาณิชย์/สำนักงาน   \n",
              "5              2  https://nayoo.co/khonkaen/posts/21  อาคารพาณิชย์/สำนักงาน   \n",
              "\n",
              "  ความมั่นใจในการเมินราคาทรัพย์  ราคาทรัพย์  ประเมินราคาซื้อ-ขาย  \\\n",
              "1                        มั่นใจ     6600000            8000000.0   \n",
              "3                        มั่นใจ    11400000           12000000.0   \n",
              "5                        มั่นใจ    22500000           20000000.0   \n",
              "\n",
              "             ปัจจัยในการประเมินราคาซื้อ-ขาย เหตุผลไม่มั่นใจราคาประเมิน  \\\n",
              "1  ราคาเสนอขาย 4,000,000-6,000,000 บาท/คูหา                        NaN   \n",
              "3            ราคาเสนอขาย 4 - 5 ล้านบาท/คูหา                        NaN   \n",
              "5            ราคาเสนอขาย 6-8 ล้านบาท / คูหา                        NaN   \n",
              "\n",
              "                       ให้คะแนนทรัพย์  ประเมินโดย 1  \n",
              "1    4 ขายได้ ใช้ระยะเวลา 4 - 6 เดือน     6000000.0  \n",
              "3  2 ขายได้ยาก ใช้ระยะเวลามากว่า 1 ปี    12000000.0  \n",
              "5   3 ขายได้ ใช้ระยะเวลา 7 - 12 เดือน    13500000.0  "
            ],
            "text/html": [
              "\n",
              "  <div id=\"df-685dea33-c121-40a8-8958-ef917fcad384\">\n",
              "    <div class=\"colab-df-container\">\n",
              "      <div>\n",
              "<style scoped>\n",
              "    .dataframe tbody tr th:only-of-type {\n",
              "        vertical-align: middle;\n",
              "    }\n",
              "\n",
              "    .dataframe tbody tr th {\n",
              "        vertical-align: top;\n",
              "    }\n",
              "\n",
              "    .dataframe thead th {\n",
              "        text-align: right;\n",
              "    }\n",
              "</style>\n",
              "<table border=\"1\" class=\"dataframe\">\n",
              "  <thead>\n",
              "    <tr style=\"text-align: right;\">\n",
              "      <th></th>\n",
              "      <th>ID ผู้ประเมิน</th>\n",
              "      <th>post id</th>\n",
              "      <th>property_type</th>\n",
              "      <th>ความมั่นใจในการเมินราคาทรัพย์</th>\n",
              "      <th>ราคาทรัพย์</th>\n",
              "      <th>ประเมินราคาซื้อ-ขาย</th>\n",
              "      <th>ปัจจัยในการประเมินราคาซื้อ-ขาย</th>\n",
              "      <th>เหตุผลไม่มั่นใจราคาประเมิน</th>\n",
              "      <th>ให้คะแนนทรัพย์</th>\n",
              "      <th>ประเมินโดย 1</th>\n",
              "    </tr>\n",
              "  </thead>\n",
              "  <tbody>\n",
              "    <tr>\n",
              "      <th>1</th>\n",
              "      <td>2</td>\n",
              "      <td>https://nayoo.co/khonkaen/posts/6</td>\n",
              "      <td>อาคารพาณิชย์/สำนักงาน</td>\n",
              "      <td>มั่นใจ</td>\n",
              "      <td>6600000</td>\n",
              "      <td>8000000.0</td>\n",
              "      <td>ราคาเสนอขาย 4,000,000-6,000,000 บาท/คูหา</td>\n",
              "      <td>NaN</td>\n",
              "      <td>4 ขายได้ ใช้ระยะเวลา 4 - 6 เดือน</td>\n",
              "      <td>6000000.0</td>\n",
              "    </tr>\n",
              "    <tr>\n",
              "      <th>3</th>\n",
              "      <td>2</td>\n",
              "      <td>https://nayoo.co/khonkaen/posts/17</td>\n",
              "      <td>อาคารพาณิชย์/สำนักงาน</td>\n",
              "      <td>มั่นใจ</td>\n",
              "      <td>11400000</td>\n",
              "      <td>12000000.0</td>\n",
              "      <td>ราคาเสนอขาย 4 - 5 ล้านบาท/คูหา</td>\n",
              "      <td>NaN</td>\n",
              "      <td>2 ขายได้ยาก ใช้ระยะเวลามากว่า 1 ปี</td>\n",
              "      <td>12000000.0</td>\n",
              "    </tr>\n",
              "    <tr>\n",
              "      <th>5</th>\n",
              "      <td>2</td>\n",
              "      <td>https://nayoo.co/khonkaen/posts/21</td>\n",
              "      <td>อาคารพาณิชย์/สำนักงาน</td>\n",
              "      <td>มั่นใจ</td>\n",
              "      <td>22500000</td>\n",
              "      <td>20000000.0</td>\n",
              "      <td>ราคาเสนอขาย 6-8 ล้านบาท / คูหา</td>\n",
              "      <td>NaN</td>\n",
              "      <td>3 ขายได้ ใช้ระยะเวลา 7 - 12 เดือน</td>\n",
              "      <td>13500000.0</td>\n",
              "    </tr>\n",
              "  </tbody>\n",
              "</table>\n",
              "</div>\n",
              "      <button class=\"colab-df-convert\" onclick=\"convertToInteractive('df-685dea33-c121-40a8-8958-ef917fcad384')\"\n",
              "              title=\"Convert this dataframe to an interactive table.\"\n",
              "              style=\"display:none;\">\n",
              "        \n",
              "  <svg xmlns=\"http://www.w3.org/2000/svg\" height=\"24px\"viewBox=\"0 0 24 24\"\n",
              "       width=\"24px\">\n",
              "    <path d=\"M0 0h24v24H0V0z\" fill=\"none\"/>\n",
              "    <path d=\"M18.56 5.44l.94 2.06.94-2.06 2.06-.94-2.06-.94-.94-2.06-.94 2.06-2.06.94zm-11 1L8.5 8.5l.94-2.06 2.06-.94-2.06-.94L8.5 2.5l-.94 2.06-2.06.94zm10 10l.94 2.06.94-2.06 2.06-.94-2.06-.94-.94-2.06-.94 2.06-2.06.94z\"/><path d=\"M17.41 7.96l-1.37-1.37c-.4-.4-.92-.59-1.43-.59-.52 0-1.04.2-1.43.59L10.3 9.45l-7.72 7.72c-.78.78-.78 2.05 0 2.83L4 21.41c.39.39.9.59 1.41.59.51 0 1.02-.2 1.41-.59l7.78-7.78 2.81-2.81c.8-.78.8-2.07 0-2.86zM5.41 20L4 18.59l7.72-7.72 1.47 1.35L5.41 20z\"/>\n",
              "  </svg>\n",
              "      </button>\n",
              "      \n",
              "  <style>\n",
              "    .colab-df-container {\n",
              "      display:flex;\n",
              "      flex-wrap:wrap;\n",
              "      gap: 12px;\n",
              "    }\n",
              "\n",
              "    .colab-df-convert {\n",
              "      background-color: #E8F0FE;\n",
              "      border: none;\n",
              "      border-radius: 50%;\n",
              "      cursor: pointer;\n",
              "      display: none;\n",
              "      fill: #1967D2;\n",
              "      height: 32px;\n",
              "      padding: 0 0 0 0;\n",
              "      width: 32px;\n",
              "    }\n",
              "\n",
              "    .colab-df-convert:hover {\n",
              "      background-color: #E2EBFA;\n",
              "      box-shadow: 0px 1px 2px rgba(60, 64, 67, 0.3), 0px 1px 3px 1px rgba(60, 64, 67, 0.15);\n",
              "      fill: #174EA6;\n",
              "    }\n",
              "\n",
              "    [theme=dark] .colab-df-convert {\n",
              "      background-color: #3B4455;\n",
              "      fill: #D2E3FC;\n",
              "    }\n",
              "\n",
              "    [theme=dark] .colab-df-convert:hover {\n",
              "      background-color: #434B5C;\n",
              "      box-shadow: 0px 1px 3px 1px rgba(0, 0, 0, 0.15);\n",
              "      filter: drop-shadow(0px 1px 2px rgba(0, 0, 0, 0.3));\n",
              "      fill: #FFFFFF;\n",
              "    }\n",
              "  </style>\n",
              "\n",
              "      <script>\n",
              "        const buttonEl =\n",
              "          document.querySelector('#df-685dea33-c121-40a8-8958-ef917fcad384 button.colab-df-convert');\n",
              "        buttonEl.style.display =\n",
              "          google.colab.kernel.accessAllowed ? 'block' : 'none';\n",
              "\n",
              "        async function convertToInteractive(key) {\n",
              "          const element = document.querySelector('#df-685dea33-c121-40a8-8958-ef917fcad384');\n",
              "          const dataTable =\n",
              "            await google.colab.kernel.invokeFunction('convertToInteractive',\n",
              "                                                     [key], {});\n",
              "          if (!dataTable) return;\n",
              "\n",
              "          const docLinkHtml = 'Like what you see? Visit the ' +\n",
              "            '<a target=\"_blank\" href=https://colab.research.google.com/notebooks/data_table.ipynb>data table notebook</a>'\n",
              "            + ' to learn more about interactive tables.';\n",
              "          element.innerHTML = '';\n",
              "          dataTable['output_type'] = 'display_data';\n",
              "          await google.colab.output.renderOutput(dataTable, element);\n",
              "          const docLink = document.createElement('div');\n",
              "          docLink.innerHTML = docLinkHtml;\n",
              "          element.appendChild(docLink);\n",
              "        }\n",
              "      </script>\n",
              "    </div>\n",
              "  </div>\n",
              "  "
            ]
          },
          "metadata": {},
          "execution_count": 225
        }
      ]
    },
    {
      "cell_type": "code",
      "source": [
        "estshophouse2.rename(columns={'ประเมินราคาซื้อ-ขาย' :'ประเมินโดย 2'}, inplace=True);"
      ],
      "metadata": {
        "colab": {
          "base_uri": "https://localhost:8080/"
        },
        "id": "mokyBia_VbZ7",
        "outputId": "d2c19ece-a354-4e08-85bb-6e269be57201"
      },
      "execution_count": 226,
      "outputs": [
        {
          "output_type": "stream",
          "name": "stderr",
          "text": [
            "/usr/local/lib/python3.8/dist-packages/pandas/core/frame.py:5039: SettingWithCopyWarning: \n",
            "A value is trying to be set on a copy of a slice from a DataFrame\n",
            "\n",
            "See the caveats in the documentation: https://pandas.pydata.org/pandas-docs/stable/user_guide/indexing.html#returning-a-view-versus-a-copy\n",
            "  return super().rename(\n"
          ]
        }
      ]
    },
    {
      "cell_type": "code",
      "source": [
        "ass_sh = estshophouse2[['post id','ราคาทรัพย์','ประเมินโดย 1','ประเมินโดย 2']]\n",
        "ass_sh = ass_sh.dropna(subset=['ราคาทรัพย์','ประเมินโดย 1','ประเมินโดย 2'])\n",
        "ass_sh"
      ],
      "metadata": {
        "outputId": "e8b089fb-03fd-42ab-dcf5-888c4b1ba430",
        "colab": {
          "base_uri": "https://localhost:8080/",
          "height": 424
        },
        "id": "IDWFR8YJVbZ7"
      },
      "execution_count": 227,
      "outputs": [
        {
          "output_type": "execute_result",
          "data": {
            "text/plain": [
              "                                  post id  ราคาทรัพย์  ประเมินโดย 1  \\\n",
              "1       https://nayoo.co/khonkaen/posts/6     6600000     6000000.0   \n",
              "3      https://nayoo.co/khonkaen/posts/17    11400000    12000000.0   \n",
              "5      https://nayoo.co/khonkaen/posts/21    22500000    13500000.0   \n",
              "7      https://nayoo.co/khonkaen/posts/22     3500000     4000000.0   \n",
              "9      https://nayoo.co/khonkaen/posts/24     3900000     2200000.0   \n",
              "..                                    ...         ...           ...   \n",
              "183  https://nayoo.co/khonkaen/posts/6168     2652000     3000000.0   \n",
              "185  https://nayoo.co/khonkaen/posts/6169     3851000     3800000.0   \n",
              "187  https://nayoo.co/khonkaen/posts/6176     3410000     3200000.0   \n",
              "191  https://nayoo.co/khonkaen/posts/7137     3900000     3600000.0   \n",
              "199  https://nayoo.co/khonkaen/posts/7705     2200000     2500000.0   \n",
              "\n",
              "     ประเมินโดย 2  \n",
              "1       8000000.0  \n",
              "3      12000000.0  \n",
              "5      20000000.0  \n",
              "7       4000000.0  \n",
              "9       3000000.0  \n",
              "..            ...  \n",
              "183     2700000.0  \n",
              "185     4000000.0  \n",
              "187     3500000.0  \n",
              "191     4000000.0  \n",
              "199     2000000.0  \n",
              "\n",
              "[91 rows x 4 columns]"
            ],
            "text/html": [
              "\n",
              "  <div id=\"df-fd8932d0-d780-422b-9365-3f493945e7d4\">\n",
              "    <div class=\"colab-df-container\">\n",
              "      <div>\n",
              "<style scoped>\n",
              "    .dataframe tbody tr th:only-of-type {\n",
              "        vertical-align: middle;\n",
              "    }\n",
              "\n",
              "    .dataframe tbody tr th {\n",
              "        vertical-align: top;\n",
              "    }\n",
              "\n",
              "    .dataframe thead th {\n",
              "        text-align: right;\n",
              "    }\n",
              "</style>\n",
              "<table border=\"1\" class=\"dataframe\">\n",
              "  <thead>\n",
              "    <tr style=\"text-align: right;\">\n",
              "      <th></th>\n",
              "      <th>post id</th>\n",
              "      <th>ราคาทรัพย์</th>\n",
              "      <th>ประเมินโดย 1</th>\n",
              "      <th>ประเมินโดย 2</th>\n",
              "    </tr>\n",
              "  </thead>\n",
              "  <tbody>\n",
              "    <tr>\n",
              "      <th>1</th>\n",
              "      <td>https://nayoo.co/khonkaen/posts/6</td>\n",
              "      <td>6600000</td>\n",
              "      <td>6000000.0</td>\n",
              "      <td>8000000.0</td>\n",
              "    </tr>\n",
              "    <tr>\n",
              "      <th>3</th>\n",
              "      <td>https://nayoo.co/khonkaen/posts/17</td>\n",
              "      <td>11400000</td>\n",
              "      <td>12000000.0</td>\n",
              "      <td>12000000.0</td>\n",
              "    </tr>\n",
              "    <tr>\n",
              "      <th>5</th>\n",
              "      <td>https://nayoo.co/khonkaen/posts/21</td>\n",
              "      <td>22500000</td>\n",
              "      <td>13500000.0</td>\n",
              "      <td>20000000.0</td>\n",
              "    </tr>\n",
              "    <tr>\n",
              "      <th>7</th>\n",
              "      <td>https://nayoo.co/khonkaen/posts/22</td>\n",
              "      <td>3500000</td>\n",
              "      <td>4000000.0</td>\n",
              "      <td>4000000.0</td>\n",
              "    </tr>\n",
              "    <tr>\n",
              "      <th>9</th>\n",
              "      <td>https://nayoo.co/khonkaen/posts/24</td>\n",
              "      <td>3900000</td>\n",
              "      <td>2200000.0</td>\n",
              "      <td>3000000.0</td>\n",
              "    </tr>\n",
              "    <tr>\n",
              "      <th>...</th>\n",
              "      <td>...</td>\n",
              "      <td>...</td>\n",
              "      <td>...</td>\n",
              "      <td>...</td>\n",
              "    </tr>\n",
              "    <tr>\n",
              "      <th>183</th>\n",
              "      <td>https://nayoo.co/khonkaen/posts/6168</td>\n",
              "      <td>2652000</td>\n",
              "      <td>3000000.0</td>\n",
              "      <td>2700000.0</td>\n",
              "    </tr>\n",
              "    <tr>\n",
              "      <th>185</th>\n",
              "      <td>https://nayoo.co/khonkaen/posts/6169</td>\n",
              "      <td>3851000</td>\n",
              "      <td>3800000.0</td>\n",
              "      <td>4000000.0</td>\n",
              "    </tr>\n",
              "    <tr>\n",
              "      <th>187</th>\n",
              "      <td>https://nayoo.co/khonkaen/posts/6176</td>\n",
              "      <td>3410000</td>\n",
              "      <td>3200000.0</td>\n",
              "      <td>3500000.0</td>\n",
              "    </tr>\n",
              "    <tr>\n",
              "      <th>191</th>\n",
              "      <td>https://nayoo.co/khonkaen/posts/7137</td>\n",
              "      <td>3900000</td>\n",
              "      <td>3600000.0</td>\n",
              "      <td>4000000.0</td>\n",
              "    </tr>\n",
              "    <tr>\n",
              "      <th>199</th>\n",
              "      <td>https://nayoo.co/khonkaen/posts/7705</td>\n",
              "      <td>2200000</td>\n",
              "      <td>2500000.0</td>\n",
              "      <td>2000000.0</td>\n",
              "    </tr>\n",
              "  </tbody>\n",
              "</table>\n",
              "<p>91 rows × 4 columns</p>\n",
              "</div>\n",
              "      <button class=\"colab-df-convert\" onclick=\"convertToInteractive('df-fd8932d0-d780-422b-9365-3f493945e7d4')\"\n",
              "              title=\"Convert this dataframe to an interactive table.\"\n",
              "              style=\"display:none;\">\n",
              "        \n",
              "  <svg xmlns=\"http://www.w3.org/2000/svg\" height=\"24px\"viewBox=\"0 0 24 24\"\n",
              "       width=\"24px\">\n",
              "    <path d=\"M0 0h24v24H0V0z\" fill=\"none\"/>\n",
              "    <path d=\"M18.56 5.44l.94 2.06.94-2.06 2.06-.94-2.06-.94-.94-2.06-.94 2.06-2.06.94zm-11 1L8.5 8.5l.94-2.06 2.06-.94-2.06-.94L8.5 2.5l-.94 2.06-2.06.94zm10 10l.94 2.06.94-2.06 2.06-.94-2.06-.94-.94-2.06-.94 2.06-2.06.94z\"/><path d=\"M17.41 7.96l-1.37-1.37c-.4-.4-.92-.59-1.43-.59-.52 0-1.04.2-1.43.59L10.3 9.45l-7.72 7.72c-.78.78-.78 2.05 0 2.83L4 21.41c.39.39.9.59 1.41.59.51 0 1.02-.2 1.41-.59l7.78-7.78 2.81-2.81c.8-.78.8-2.07 0-2.86zM5.41 20L4 18.59l7.72-7.72 1.47 1.35L5.41 20z\"/>\n",
              "  </svg>\n",
              "      </button>\n",
              "      \n",
              "  <style>\n",
              "    .colab-df-container {\n",
              "      display:flex;\n",
              "      flex-wrap:wrap;\n",
              "      gap: 12px;\n",
              "    }\n",
              "\n",
              "    .colab-df-convert {\n",
              "      background-color: #E8F0FE;\n",
              "      border: none;\n",
              "      border-radius: 50%;\n",
              "      cursor: pointer;\n",
              "      display: none;\n",
              "      fill: #1967D2;\n",
              "      height: 32px;\n",
              "      padding: 0 0 0 0;\n",
              "      width: 32px;\n",
              "    }\n",
              "\n",
              "    .colab-df-convert:hover {\n",
              "      background-color: #E2EBFA;\n",
              "      box-shadow: 0px 1px 2px rgba(60, 64, 67, 0.3), 0px 1px 3px 1px rgba(60, 64, 67, 0.15);\n",
              "      fill: #174EA6;\n",
              "    }\n",
              "\n",
              "    [theme=dark] .colab-df-convert {\n",
              "      background-color: #3B4455;\n",
              "      fill: #D2E3FC;\n",
              "    }\n",
              "\n",
              "    [theme=dark] .colab-df-convert:hover {\n",
              "      background-color: #434B5C;\n",
              "      box-shadow: 0px 1px 3px 1px rgba(0, 0, 0, 0.15);\n",
              "      filter: drop-shadow(0px 1px 2px rgba(0, 0, 0, 0.3));\n",
              "      fill: #FFFFFF;\n",
              "    }\n",
              "  </style>\n",
              "\n",
              "      <script>\n",
              "        const buttonEl =\n",
              "          document.querySelector('#df-fd8932d0-d780-422b-9365-3f493945e7d4 button.colab-df-convert');\n",
              "        buttonEl.style.display =\n",
              "          google.colab.kernel.accessAllowed ? 'block' : 'none';\n",
              "\n",
              "        async function convertToInteractive(key) {\n",
              "          const element = document.querySelector('#df-fd8932d0-d780-422b-9365-3f493945e7d4');\n",
              "          const dataTable =\n",
              "            await google.colab.kernel.invokeFunction('convertToInteractive',\n",
              "                                                     [key], {});\n",
              "          if (!dataTable) return;\n",
              "\n",
              "          const docLinkHtml = 'Like what you see? Visit the ' +\n",
              "            '<a target=\"_blank\" href=https://colab.research.google.com/notebooks/data_table.ipynb>data table notebook</a>'\n",
              "            + ' to learn more about interactive tables.';\n",
              "          element.innerHTML = '';\n",
              "          dataTable['output_type'] = 'display_data';\n",
              "          await google.colab.output.renderOutput(dataTable, element);\n",
              "          const docLink = document.createElement('div');\n",
              "          docLink.innerHTML = docLinkHtml;\n",
              "          element.appendChild(docLink);\n",
              "        }\n",
              "      </script>\n",
              "    </div>\n",
              "  </div>\n",
              "  "
            ]
          },
          "metadata": {},
          "execution_count": 227
        }
      ]
    },
    {
      "cell_type": "markdown",
      "source": [
        "เช็คและแก้ missing"
      ],
      "metadata": {
        "id": "OhPLCBJGVbZ7"
      }
    },
    {
      "cell_type": "code",
      "source": [
        "ass_sh.isnull().any()"
      ],
      "metadata": {
        "outputId": "999c74b8-b135-4656-b6b6-663fccc5f7c5",
        "colab": {
          "base_uri": "https://localhost:8080/"
        },
        "id": "D3xBzWqAVbZ7"
      },
      "execution_count": 228,
      "outputs": [
        {
          "output_type": "execute_result",
          "data": {
            "text/plain": [
              "post id         False\n",
              "ราคาทรัพย์      False\n",
              "ประเมินโดย 1    False\n",
              "ประเมินโดย 2    False\n",
              "dtype: bool"
            ]
          },
          "metadata": {},
          "execution_count": 228
        }
      ]
    },
    {
      "cell_type": "markdown",
      "source": [
        "### MAPE"
      ],
      "metadata": {
        "id": "MoWFxvzMVbZ7"
      }
    },
    {
      "cell_type": "code",
      "source": [
        "actual_sh = pd.to_numeric(ass_sh['ราคาทรัพย์'])\n",
        "pred_1sh = ass_sh['ประเมินโดย 1']\n",
        "pred_2sh = ass_sh['ประเมินโดย 2']"
      ],
      "metadata": {
        "id": "r1W5A9LAVbZ7"
      },
      "execution_count": 229,
      "outputs": []
    },
    {
      "cell_type": "code",
      "source": [
        "mpsh1 = mape(actual_sh,pred_1sh)\n",
        "mpsh2 = mape(actual_sh,pred_2sh)\n",
        "mpsh12 = mape(pred_1sh,pred_2sh)"
      ],
      "metadata": {
        "id": "wiI6HV67VbZ7"
      },
      "execution_count": 230,
      "outputs": []
    },
    {
      "cell_type": "code",
      "source": [
        "print(f' MAPE ราคาทรัพย์กับผู้ประเมินคนที่ 1 คือ {mpsh1:.2f}\\n MAPE ราคาทรัพย์กับผู้ประเมินคนที่ 2 คือ {mpsh2:.2f}\\n MAPE ราคาตั้งขายของผู้ประเมินคนที่ 1 กับ ผู้ประเมินคนที่ 2 คือ {mpsh12:.2f}')"
      ],
      "metadata": {
        "outputId": "445aad74-487a-4c1e-87c5-329dec5f8871",
        "colab": {
          "base_uri": "https://localhost:8080/"
        },
        "id": "TMf6RGP7VbZ7"
      },
      "execution_count": 231,
      "outputs": [
        {
          "output_type": "stream",
          "name": "stdout",
          "text": [
            " MAPE ราคาทรัพย์กับผู้ประเมินคนที่ 1 คือ 0.12\n",
            " MAPE ราคาทรัพย์กับผู้ประเมินคนที่ 2 คือ 0.11\n",
            " MAPE ราคาตั้งขายของผู้ประเมินคนที่ 1 กับ ผู้ประเมินคนที่ 2 คือ 0.13\n"
          ]
        }
      ]
    },
    {
      "cell_type": "code",
      "source": [
        "ids1 = shophouse[shophouse['ID ผู้ประเมิน']==1]\n",
        "ids1 = ids1.dropna(subset=['ราคาทรัพย์','ประเมินราคาซื้อ-ขาย'])\n",
        "ids2 = shophouse[shophouse['ID ผู้ประเมิน']==2]\n",
        "ids2 = ids2.dropna(subset=['ราคาทรัพย์','ประเมินราคาซื้อ-ขาย'])\n",
        "ids1MAPE = mape(ids1['ประเมินราคาซื้อ-ขาย'],pd.to_numeric(ids1['ราคาทรัพย์']))\n",
        "ids2MAPE = mape(ids2['ประเมินราคาซื้อ-ขาย'],pd.to_numeric(ids2['ราคาทรัพย์']))\n",
        "print(f'ความแตกต่างระหว่างราคาประกาศขายและราคาประเมินของ\\nบ้าน\\nนักประเมิน คนที่ 1 = {ids1MAPE*100:.2f}%\\nนักประเมิน คนที่ 2 = {ids2MAPE*100:.2f}%')\n",
        "ids2['ประเมิน2'] = ids2['post id'].map(ids1.set_index('post id')['ประเมินราคาซื้อ-ขาย'])\n",
        "id2_s = idt2.dropna(subset=['ประเมินราคาซื้อ-ขาย','ประเมิน2','ราคาทรัพย์'])\n",
        "one2twos = mape(id2_s['ประเมินราคาซื้อ-ขาย'],id2_s['ประเมิน2'])\n",
        "two2ones = mape(id2_s['ประเมิน2'],id2_s['ประเมินราคาซื้อ-ขาย'])\n",
        "print(f'ความผิดพลาดระหว่างนักประเมินทั้ง {((one2twos)+(two2ones))*50:.2f}%')\n",
        "print(f'จำนวนทรัพย์ทั้งหมด {len(id2_s)} ทรัพย์')"
      ],
      "metadata": {
        "id": "Ogye07jc8A3u",
        "outputId": "2e39642b-2da2-4918-b963-a49d60d6a147",
        "colab": {
          "base_uri": "https://localhost:8080/"
        }
      },
      "execution_count": 232,
      "outputs": [
        {
          "output_type": "stream",
          "name": "stdout",
          "text": [
            "ความแตกต่างระหว่างราคาประกาศขายและราคาประเมินของ\n",
            "บ้าน\n",
            "นักประเมิน คนที่ 1 = 20.25%\n",
            "นักประเมิน คนที่ 2 = 9.49%\n",
            "ความผิดพลาดระหว่างนักประเมินทั้ง 10.92%\n",
            "จำนวนทรัพย์ทั้งหมด 120 ทรัพย์\n"
          ]
        }
      ]
    },
    {
      "cell_type": "markdown",
      "source": [
        "# HW2"
      ],
      "metadata": {
        "id": "PMJ0ldhk8jeu"
      }
    },
    {
      "cell_type": "markdown",
      "source": [
        "# เขียน function ตรวจสอบค่าที่เติม 0 ผิด"
      ],
      "metadata": {
        "id": "0DX1jHK_8kfI"
      }
    },
    {
      "cell_type": "markdown",
      "source": [
        "Check1 = list()\n",
        "for row in ass_h.iterrows() :\n",
        "    print(row)"
      ],
      "metadata": {
        "id": "FMA1WYyl8sOZ"
      }
    },
    {
      "cell_type": "code",
      "source": [
        "max(10,2)"
      ],
      "metadata": {
        "id": "TXQxtklMFqH0",
        "outputId": "d9d298ba-defc-4164-fd31-9737d81a5fb7",
        "colab": {
          "base_uri": "https://localhost:8080/"
        }
      },
      "execution_count": 233,
      "outputs": [
        {
          "output_type": "execute_result",
          "data": {
            "text/plain": [
              "10"
            ]
          },
          "metadata": {},
          "execution_count": 233
        }
      ]
    },
    {
      "cell_type": "code",
      "source": [
        "def check_v(in1,in2):\n",
        "    return max(in1/in2,in2/in1)"
      ],
      "metadata": {
        "id": "v6Sa_VJrxdCx"
      },
      "execution_count": 234,
      "outputs": []
    },
    {
      "cell_type": "code",
      "source": [
        "check_v(100,12)"
      ],
      "metadata": {
        "id": "lnxFB4JTK2Dp",
        "outputId": "9d93ee73-b38d-464c-a134-fa4893b9c98c",
        "colab": {
          "base_uri": "https://localhost:8080/"
        }
      },
      "execution_count": 235,
      "outputs": [
        {
          "output_type": "execute_result",
          "data": {
            "text/plain": [
              "8.333333333333334"
            ]
          },
          "metadata": {},
          "execution_count": 235
        }
      ]
    },
    {
      "cell_type": "code",
      "source": [
        "check_v(100,1200)"
      ],
      "metadata": {
        "id": "ksqlA3TtK7W5",
        "outputId": "a98c2321-a513-4cd3-de6e-e18c3102f75e",
        "colab": {
          "base_uri": "https://localhost:8080/"
        }
      },
      "execution_count": 236,
      "outputs": [
        {
          "output_type": "execute_result",
          "data": {
            "text/plain": [
              "12.0"
            ]
          },
          "metadata": {},
          "execution_count": 236
        }
      ]
    },
    {
      "cell_type": "markdown",
      "source": [
        "# สร้าง column ใหม่ ลงในตาราง home โดย ค่าใน column คือค่า จาก function check(ราคาตั้งขาย,ราคาประเมิน1)"
      ],
      "metadata": {
        "id": "IjX8_j_G83Tg"
      }
    },
    {
      "cell_type": "markdown",
      "source": [
        "## House"
      ],
      "metadata": {
        "id": "9036eVLX86Ai"
      }
    },
    {
      "cell_type": "code",
      "source": [
        "asshouse['Check1'] = asshouse.apply(lambda x:check_v(x['ราคาทรัพย์'],x['ประเมินโดย 1']), axis = 1)\n",
        "asshouse['Check2'] = asshouse.apply(lambda x:check_v(x['ราคาทรัพย์'],x['ประเมินโดย 2']), axis = 1)"
      ],
      "metadata": {
        "id": "X72076to89fU"
      },
      "execution_count": 237,
      "outputs": []
    },
    {
      "cell_type": "code",
      "source": [
        "asshouse.sort_values(by=['Check1'], ascending=False)"
      ],
      "metadata": {
        "id": "A6bw0ir29lmi",
        "outputId": "566ffb0c-0e8c-48f5-fe39-ac1df363865e",
        "colab": {
          "base_uri": "https://localhost:8080/",
          "height": 424
        }
      },
      "execution_count": 238,
      "outputs": [
        {
          "output_type": "execute_result",
          "data": {
            "text/plain": [
              "                                   post id  ราคาทรัพย์  ประเมินโดย 1  \\\n",
              "802   https://nayoo.co/khonkaen/posts/3208    23900000     2300000.0   \n",
              "1070  https://nayoo.co/khonkaen/posts/6037     1450000     3500000.0   \n",
              "228    https://nayoo.co/khonkaen/posts/525     1933000      830000.0   \n",
              "1210  https://nayoo.co/khonkaen/posts/6255      260000      550000.0   \n",
              "767   https://nayoo.co/khonkaen/posts/2321      465000      900000.0   \n",
              "...                                    ...         ...           ...   \n",
              "266    https://nayoo.co/khonkaen/posts/585     3300000     3300000.0   \n",
              "63    https://nayoo.co/khonkaen/posts/2033     1200000     1200000.0   \n",
              "652   https://nayoo.co/khonkaen/posts/2256     2000000     2000000.0   \n",
              "43    https://nayoo.co/khonkaen/posts/1128     4200000     4200000.0   \n",
              "928   https://nayoo.co/khonkaen/posts/3819     2500000     2500000.0   \n",
              "\n",
              "      ประเมินโดย 2     Check1     Check2  \n",
              "802      2200000.0  10.391304  10.863636  \n",
              "1070     3000000.0   2.413793   2.068966  \n",
              "228      2200000.0   2.328916   1.138127  \n",
              "1210      300000.0   2.115385   1.153846  \n",
              "767       400000.0   1.935484   1.162500  \n",
              "...            ...        ...        ...  \n",
              "266      3500000.0   1.000000   1.060606  \n",
              "63       1000000.0   1.000000   1.200000  \n",
              "652      2200000.0   1.000000   1.100000  \n",
              "43       5000000.0   1.000000   1.190476  \n",
              "928      2900000.0   1.000000   1.160000  \n",
              "\n",
              "[498 rows x 6 columns]"
            ],
            "text/html": [
              "\n",
              "  <div id=\"df-023d2515-309f-4058-a0b5-a9bda81986b6\">\n",
              "    <div class=\"colab-df-container\">\n",
              "      <div>\n",
              "<style scoped>\n",
              "    .dataframe tbody tr th:only-of-type {\n",
              "        vertical-align: middle;\n",
              "    }\n",
              "\n",
              "    .dataframe tbody tr th {\n",
              "        vertical-align: top;\n",
              "    }\n",
              "\n",
              "    .dataframe thead th {\n",
              "        text-align: right;\n",
              "    }\n",
              "</style>\n",
              "<table border=\"1\" class=\"dataframe\">\n",
              "  <thead>\n",
              "    <tr style=\"text-align: right;\">\n",
              "      <th></th>\n",
              "      <th>post id</th>\n",
              "      <th>ราคาทรัพย์</th>\n",
              "      <th>ประเมินโดย 1</th>\n",
              "      <th>ประเมินโดย 2</th>\n",
              "      <th>Check1</th>\n",
              "      <th>Check2</th>\n",
              "    </tr>\n",
              "  </thead>\n",
              "  <tbody>\n",
              "    <tr>\n",
              "      <th>802</th>\n",
              "      <td>https://nayoo.co/khonkaen/posts/3208</td>\n",
              "      <td>23900000</td>\n",
              "      <td>2300000.0</td>\n",
              "      <td>2200000.0</td>\n",
              "      <td>10.391304</td>\n",
              "      <td>10.863636</td>\n",
              "    </tr>\n",
              "    <tr>\n",
              "      <th>1070</th>\n",
              "      <td>https://nayoo.co/khonkaen/posts/6037</td>\n",
              "      <td>1450000</td>\n",
              "      <td>3500000.0</td>\n",
              "      <td>3000000.0</td>\n",
              "      <td>2.413793</td>\n",
              "      <td>2.068966</td>\n",
              "    </tr>\n",
              "    <tr>\n",
              "      <th>228</th>\n",
              "      <td>https://nayoo.co/khonkaen/posts/525</td>\n",
              "      <td>1933000</td>\n",
              "      <td>830000.0</td>\n",
              "      <td>2200000.0</td>\n",
              "      <td>2.328916</td>\n",
              "      <td>1.138127</td>\n",
              "    </tr>\n",
              "    <tr>\n",
              "      <th>1210</th>\n",
              "      <td>https://nayoo.co/khonkaen/posts/6255</td>\n",
              "      <td>260000</td>\n",
              "      <td>550000.0</td>\n",
              "      <td>300000.0</td>\n",
              "      <td>2.115385</td>\n",
              "      <td>1.153846</td>\n",
              "    </tr>\n",
              "    <tr>\n",
              "      <th>767</th>\n",
              "      <td>https://nayoo.co/khonkaen/posts/2321</td>\n",
              "      <td>465000</td>\n",
              "      <td>900000.0</td>\n",
              "      <td>400000.0</td>\n",
              "      <td>1.935484</td>\n",
              "      <td>1.162500</td>\n",
              "    </tr>\n",
              "    <tr>\n",
              "      <th>...</th>\n",
              "      <td>...</td>\n",
              "      <td>...</td>\n",
              "      <td>...</td>\n",
              "      <td>...</td>\n",
              "      <td>...</td>\n",
              "      <td>...</td>\n",
              "    </tr>\n",
              "    <tr>\n",
              "      <th>266</th>\n",
              "      <td>https://nayoo.co/khonkaen/posts/585</td>\n",
              "      <td>3300000</td>\n",
              "      <td>3300000.0</td>\n",
              "      <td>3500000.0</td>\n",
              "      <td>1.000000</td>\n",
              "      <td>1.060606</td>\n",
              "    </tr>\n",
              "    <tr>\n",
              "      <th>63</th>\n",
              "      <td>https://nayoo.co/khonkaen/posts/2033</td>\n",
              "      <td>1200000</td>\n",
              "      <td>1200000.0</td>\n",
              "      <td>1000000.0</td>\n",
              "      <td>1.000000</td>\n",
              "      <td>1.200000</td>\n",
              "    </tr>\n",
              "    <tr>\n",
              "      <th>652</th>\n",
              "      <td>https://nayoo.co/khonkaen/posts/2256</td>\n",
              "      <td>2000000</td>\n",
              "      <td>2000000.0</td>\n",
              "      <td>2200000.0</td>\n",
              "      <td>1.000000</td>\n",
              "      <td>1.100000</td>\n",
              "    </tr>\n",
              "    <tr>\n",
              "      <th>43</th>\n",
              "      <td>https://nayoo.co/khonkaen/posts/1128</td>\n",
              "      <td>4200000</td>\n",
              "      <td>4200000.0</td>\n",
              "      <td>5000000.0</td>\n",
              "      <td>1.000000</td>\n",
              "      <td>1.190476</td>\n",
              "    </tr>\n",
              "    <tr>\n",
              "      <th>928</th>\n",
              "      <td>https://nayoo.co/khonkaen/posts/3819</td>\n",
              "      <td>2500000</td>\n",
              "      <td>2500000.0</td>\n",
              "      <td>2900000.0</td>\n",
              "      <td>1.000000</td>\n",
              "      <td>1.160000</td>\n",
              "    </tr>\n",
              "  </tbody>\n",
              "</table>\n",
              "<p>498 rows × 6 columns</p>\n",
              "</div>\n",
              "      <button class=\"colab-df-convert\" onclick=\"convertToInteractive('df-023d2515-309f-4058-a0b5-a9bda81986b6')\"\n",
              "              title=\"Convert this dataframe to an interactive table.\"\n",
              "              style=\"display:none;\">\n",
              "        \n",
              "  <svg xmlns=\"http://www.w3.org/2000/svg\" height=\"24px\"viewBox=\"0 0 24 24\"\n",
              "       width=\"24px\">\n",
              "    <path d=\"M0 0h24v24H0V0z\" fill=\"none\"/>\n",
              "    <path d=\"M18.56 5.44l.94 2.06.94-2.06 2.06-.94-2.06-.94-.94-2.06-.94 2.06-2.06.94zm-11 1L8.5 8.5l.94-2.06 2.06-.94-2.06-.94L8.5 2.5l-.94 2.06-2.06.94zm10 10l.94 2.06.94-2.06 2.06-.94-2.06-.94-.94-2.06-.94 2.06-2.06.94z\"/><path d=\"M17.41 7.96l-1.37-1.37c-.4-.4-.92-.59-1.43-.59-.52 0-1.04.2-1.43.59L10.3 9.45l-7.72 7.72c-.78.78-.78 2.05 0 2.83L4 21.41c.39.39.9.59 1.41.59.51 0 1.02-.2 1.41-.59l7.78-7.78 2.81-2.81c.8-.78.8-2.07 0-2.86zM5.41 20L4 18.59l7.72-7.72 1.47 1.35L5.41 20z\"/>\n",
              "  </svg>\n",
              "      </button>\n",
              "      \n",
              "  <style>\n",
              "    .colab-df-container {\n",
              "      display:flex;\n",
              "      flex-wrap:wrap;\n",
              "      gap: 12px;\n",
              "    }\n",
              "\n",
              "    .colab-df-convert {\n",
              "      background-color: #E8F0FE;\n",
              "      border: none;\n",
              "      border-radius: 50%;\n",
              "      cursor: pointer;\n",
              "      display: none;\n",
              "      fill: #1967D2;\n",
              "      height: 32px;\n",
              "      padding: 0 0 0 0;\n",
              "      width: 32px;\n",
              "    }\n",
              "\n",
              "    .colab-df-convert:hover {\n",
              "      background-color: #E2EBFA;\n",
              "      box-shadow: 0px 1px 2px rgba(60, 64, 67, 0.3), 0px 1px 3px 1px rgba(60, 64, 67, 0.15);\n",
              "      fill: #174EA6;\n",
              "    }\n",
              "\n",
              "    [theme=dark] .colab-df-convert {\n",
              "      background-color: #3B4455;\n",
              "      fill: #D2E3FC;\n",
              "    }\n",
              "\n",
              "    [theme=dark] .colab-df-convert:hover {\n",
              "      background-color: #434B5C;\n",
              "      box-shadow: 0px 1px 3px 1px rgba(0, 0, 0, 0.15);\n",
              "      filter: drop-shadow(0px 1px 2px rgba(0, 0, 0, 0.3));\n",
              "      fill: #FFFFFF;\n",
              "    }\n",
              "  </style>\n",
              "\n",
              "      <script>\n",
              "        const buttonEl =\n",
              "          document.querySelector('#df-023d2515-309f-4058-a0b5-a9bda81986b6 button.colab-df-convert');\n",
              "        buttonEl.style.display =\n",
              "          google.colab.kernel.accessAllowed ? 'block' : 'none';\n",
              "\n",
              "        async function convertToInteractive(key) {\n",
              "          const element = document.querySelector('#df-023d2515-309f-4058-a0b5-a9bda81986b6');\n",
              "          const dataTable =\n",
              "            await google.colab.kernel.invokeFunction('convertToInteractive',\n",
              "                                                     [key], {});\n",
              "          if (!dataTable) return;\n",
              "\n",
              "          const docLinkHtml = 'Like what you see? Visit the ' +\n",
              "            '<a target=\"_blank\" href=https://colab.research.google.com/notebooks/data_table.ipynb>data table notebook</a>'\n",
              "            + ' to learn more about interactive tables.';\n",
              "          element.innerHTML = '';\n",
              "          dataTable['output_type'] = 'display_data';\n",
              "          await google.colab.output.renderOutput(dataTable, element);\n",
              "          const docLink = document.createElement('div');\n",
              "          docLink.innerHTML = docLinkHtml;\n",
              "          element.appendChild(docLink);\n",
              "        }\n",
              "      </script>\n",
              "    </div>\n",
              "  </div>\n",
              "  "
            ]
          },
          "metadata": {},
          "execution_count": 238
        }
      ]
    },
    {
      "cell_type": "code",
      "source": [
        "asshouse.sort_values(by=['Check2'], ascending=False)"
      ],
      "metadata": {
        "id": "XCJ1byrp9u7a",
        "outputId": "39ec3a53-9b29-426b-f04d-3805a796e776",
        "colab": {
          "base_uri": "https://localhost:8080/",
          "height": 424
        }
      },
      "execution_count": 239,
      "outputs": [
        {
          "output_type": "execute_result",
          "data": {
            "text/plain": [
              "                                    post id  ราคาทรัพย์  ประเมินโดย 1  \\\n",
              "802    https://nayoo.co/khonkaen/posts/3208    23900000     2300000.0   \n",
              "544    https://nayoo.co/khonkaen/posts/1619     2850000     2500000.0   \n",
              "292     https://nayoo.co/khonkaen/posts/622     8019000     7900000.0   \n",
              "75        https://nayoo.co/khonkaen/posts/1      390000      600000.0   \n",
              "1070   https://nayoo.co/khonkaen/posts/6037     1450000     3500000.0   \n",
              "...                                     ...         ...           ...   \n",
              "806    https://nayoo.co/khonkaen/posts/3210     2390000     2500000.0   \n",
              "169   https://nayoo.co/khonkaen/posts/11264     6500000     5600000.0   \n",
              "763    https://nayoo.co/khonkaen/posts/2319     1200000     1200000.0   \n",
              "1149   https://nayoo.co/khonkaen/posts/6096     2200000     2200000.0   \n",
              "564    https://nayoo.co/khonkaen/posts/1834     1700000     1500000.0   \n",
              "\n",
              "      ประเมินโดย 2     Check1     Check2  \n",
              "802      2200000.0  10.391304  10.863636  \n",
              "544     29000000.0   1.140000  10.175439  \n",
              "292     80000000.0   1.015063   9.976306  \n",
              "75       1300000.0   1.538462   3.333333  \n",
              "1070     3000000.0   2.413793   2.068966  \n",
              "...            ...        ...        ...  \n",
              "806      2390000.0   1.046025   1.000000  \n",
              "169      6500000.0   1.160714   1.000000  \n",
              "763      1200000.0   1.000000   1.000000  \n",
              "1149     2200000.0   1.000000   1.000000  \n",
              "564      1700000.0   1.133333   1.000000  \n",
              "\n",
              "[498 rows x 6 columns]"
            ],
            "text/html": [
              "\n",
              "  <div id=\"df-dc4519fe-5f16-4ea7-84f5-7249a9a2adde\">\n",
              "    <div class=\"colab-df-container\">\n",
              "      <div>\n",
              "<style scoped>\n",
              "    .dataframe tbody tr th:only-of-type {\n",
              "        vertical-align: middle;\n",
              "    }\n",
              "\n",
              "    .dataframe tbody tr th {\n",
              "        vertical-align: top;\n",
              "    }\n",
              "\n",
              "    .dataframe thead th {\n",
              "        text-align: right;\n",
              "    }\n",
              "</style>\n",
              "<table border=\"1\" class=\"dataframe\">\n",
              "  <thead>\n",
              "    <tr style=\"text-align: right;\">\n",
              "      <th></th>\n",
              "      <th>post id</th>\n",
              "      <th>ราคาทรัพย์</th>\n",
              "      <th>ประเมินโดย 1</th>\n",
              "      <th>ประเมินโดย 2</th>\n",
              "      <th>Check1</th>\n",
              "      <th>Check2</th>\n",
              "    </tr>\n",
              "  </thead>\n",
              "  <tbody>\n",
              "    <tr>\n",
              "      <th>802</th>\n",
              "      <td>https://nayoo.co/khonkaen/posts/3208</td>\n",
              "      <td>23900000</td>\n",
              "      <td>2300000.0</td>\n",
              "      <td>2200000.0</td>\n",
              "      <td>10.391304</td>\n",
              "      <td>10.863636</td>\n",
              "    </tr>\n",
              "    <tr>\n",
              "      <th>544</th>\n",
              "      <td>https://nayoo.co/khonkaen/posts/1619</td>\n",
              "      <td>2850000</td>\n",
              "      <td>2500000.0</td>\n",
              "      <td>29000000.0</td>\n",
              "      <td>1.140000</td>\n",
              "      <td>10.175439</td>\n",
              "    </tr>\n",
              "    <tr>\n",
              "      <th>292</th>\n",
              "      <td>https://nayoo.co/khonkaen/posts/622</td>\n",
              "      <td>8019000</td>\n",
              "      <td>7900000.0</td>\n",
              "      <td>80000000.0</td>\n",
              "      <td>1.015063</td>\n",
              "      <td>9.976306</td>\n",
              "    </tr>\n",
              "    <tr>\n",
              "      <th>75</th>\n",
              "      <td>https://nayoo.co/khonkaen/posts/1</td>\n",
              "      <td>390000</td>\n",
              "      <td>600000.0</td>\n",
              "      <td>1300000.0</td>\n",
              "      <td>1.538462</td>\n",
              "      <td>3.333333</td>\n",
              "    </tr>\n",
              "    <tr>\n",
              "      <th>1070</th>\n",
              "      <td>https://nayoo.co/khonkaen/posts/6037</td>\n",
              "      <td>1450000</td>\n",
              "      <td>3500000.0</td>\n",
              "      <td>3000000.0</td>\n",
              "      <td>2.413793</td>\n",
              "      <td>2.068966</td>\n",
              "    </tr>\n",
              "    <tr>\n",
              "      <th>...</th>\n",
              "      <td>...</td>\n",
              "      <td>...</td>\n",
              "      <td>...</td>\n",
              "      <td>...</td>\n",
              "      <td>...</td>\n",
              "      <td>...</td>\n",
              "    </tr>\n",
              "    <tr>\n",
              "      <th>806</th>\n",
              "      <td>https://nayoo.co/khonkaen/posts/3210</td>\n",
              "      <td>2390000</td>\n",
              "      <td>2500000.0</td>\n",
              "      <td>2390000.0</td>\n",
              "      <td>1.046025</td>\n",
              "      <td>1.000000</td>\n",
              "    </tr>\n",
              "    <tr>\n",
              "      <th>169</th>\n",
              "      <td>https://nayoo.co/khonkaen/posts/11264</td>\n",
              "      <td>6500000</td>\n",
              "      <td>5600000.0</td>\n",
              "      <td>6500000.0</td>\n",
              "      <td>1.160714</td>\n",
              "      <td>1.000000</td>\n",
              "    </tr>\n",
              "    <tr>\n",
              "      <th>763</th>\n",
              "      <td>https://nayoo.co/khonkaen/posts/2319</td>\n",
              "      <td>1200000</td>\n",
              "      <td>1200000.0</td>\n",
              "      <td>1200000.0</td>\n",
              "      <td>1.000000</td>\n",
              "      <td>1.000000</td>\n",
              "    </tr>\n",
              "    <tr>\n",
              "      <th>1149</th>\n",
              "      <td>https://nayoo.co/khonkaen/posts/6096</td>\n",
              "      <td>2200000</td>\n",
              "      <td>2200000.0</td>\n",
              "      <td>2200000.0</td>\n",
              "      <td>1.000000</td>\n",
              "      <td>1.000000</td>\n",
              "    </tr>\n",
              "    <tr>\n",
              "      <th>564</th>\n",
              "      <td>https://nayoo.co/khonkaen/posts/1834</td>\n",
              "      <td>1700000</td>\n",
              "      <td>1500000.0</td>\n",
              "      <td>1700000.0</td>\n",
              "      <td>1.133333</td>\n",
              "      <td>1.000000</td>\n",
              "    </tr>\n",
              "  </tbody>\n",
              "</table>\n",
              "<p>498 rows × 6 columns</p>\n",
              "</div>\n",
              "      <button class=\"colab-df-convert\" onclick=\"convertToInteractive('df-dc4519fe-5f16-4ea7-84f5-7249a9a2adde')\"\n",
              "              title=\"Convert this dataframe to an interactive table.\"\n",
              "              style=\"display:none;\">\n",
              "        \n",
              "  <svg xmlns=\"http://www.w3.org/2000/svg\" height=\"24px\"viewBox=\"0 0 24 24\"\n",
              "       width=\"24px\">\n",
              "    <path d=\"M0 0h24v24H0V0z\" fill=\"none\"/>\n",
              "    <path d=\"M18.56 5.44l.94 2.06.94-2.06 2.06-.94-2.06-.94-.94-2.06-.94 2.06-2.06.94zm-11 1L8.5 8.5l.94-2.06 2.06-.94-2.06-.94L8.5 2.5l-.94 2.06-2.06.94zm10 10l.94 2.06.94-2.06 2.06-.94-2.06-.94-.94-2.06-.94 2.06-2.06.94z\"/><path d=\"M17.41 7.96l-1.37-1.37c-.4-.4-.92-.59-1.43-.59-.52 0-1.04.2-1.43.59L10.3 9.45l-7.72 7.72c-.78.78-.78 2.05 0 2.83L4 21.41c.39.39.9.59 1.41.59.51 0 1.02-.2 1.41-.59l7.78-7.78 2.81-2.81c.8-.78.8-2.07 0-2.86zM5.41 20L4 18.59l7.72-7.72 1.47 1.35L5.41 20z\"/>\n",
              "  </svg>\n",
              "      </button>\n",
              "      \n",
              "  <style>\n",
              "    .colab-df-container {\n",
              "      display:flex;\n",
              "      flex-wrap:wrap;\n",
              "      gap: 12px;\n",
              "    }\n",
              "\n",
              "    .colab-df-convert {\n",
              "      background-color: #E8F0FE;\n",
              "      border: none;\n",
              "      border-radius: 50%;\n",
              "      cursor: pointer;\n",
              "      display: none;\n",
              "      fill: #1967D2;\n",
              "      height: 32px;\n",
              "      padding: 0 0 0 0;\n",
              "      width: 32px;\n",
              "    }\n",
              "\n",
              "    .colab-df-convert:hover {\n",
              "      background-color: #E2EBFA;\n",
              "      box-shadow: 0px 1px 2px rgba(60, 64, 67, 0.3), 0px 1px 3px 1px rgba(60, 64, 67, 0.15);\n",
              "      fill: #174EA6;\n",
              "    }\n",
              "\n",
              "    [theme=dark] .colab-df-convert {\n",
              "      background-color: #3B4455;\n",
              "      fill: #D2E3FC;\n",
              "    }\n",
              "\n",
              "    [theme=dark] .colab-df-convert:hover {\n",
              "      background-color: #434B5C;\n",
              "      box-shadow: 0px 1px 3px 1px rgba(0, 0, 0, 0.15);\n",
              "      filter: drop-shadow(0px 1px 2px rgba(0, 0, 0, 0.3));\n",
              "      fill: #FFFFFF;\n",
              "    }\n",
              "  </style>\n",
              "\n",
              "      <script>\n",
              "        const buttonEl =\n",
              "          document.querySelector('#df-dc4519fe-5f16-4ea7-84f5-7249a9a2adde button.colab-df-convert');\n",
              "        buttonEl.style.display =\n",
              "          google.colab.kernel.accessAllowed ? 'block' : 'none';\n",
              "\n",
              "        async function convertToInteractive(key) {\n",
              "          const element = document.querySelector('#df-dc4519fe-5f16-4ea7-84f5-7249a9a2adde');\n",
              "          const dataTable =\n",
              "            await google.colab.kernel.invokeFunction('convertToInteractive',\n",
              "                                                     [key], {});\n",
              "          if (!dataTable) return;\n",
              "\n",
              "          const docLinkHtml = 'Like what you see? Visit the ' +\n",
              "            '<a target=\"_blank\" href=https://colab.research.google.com/notebooks/data_table.ipynb>data table notebook</a>'\n",
              "            + ' to learn more about interactive tables.';\n",
              "          element.innerHTML = '';\n",
              "          dataTable['output_type'] = 'display_data';\n",
              "          await google.colab.output.renderOutput(dataTable, element);\n",
              "          const docLink = document.createElement('div');\n",
              "          docLink.innerHTML = docLinkHtml;\n",
              "          element.appendChild(docLink);\n",
              "        }\n",
              "      </script>\n",
              "    </div>\n",
              "  </div>\n",
              "  "
            ]
          },
          "metadata": {},
          "execution_count": 239
        }
      ]
    },
    {
      "cell_type": "markdown",
      "source": [
        "### MAPE"
      ],
      "metadata": {
        "id": "5S4dvSTj9-jB"
      }
    },
    {
      "cell_type": "code",
      "source": [
        "link = 'https://docs.google.com/spreadsheets/d/1-CQjtkgxrny2Fik_RNQM0RTOslsWdi38Ep-w1fKlwdc/export?format=xlsx'"
      ],
      "metadata": {
        "id": "TmVvlzPjbbWE"
      },
      "execution_count": 240,
      "outputs": []
    },
    {
      "cell_type": "code",
      "source": [
        "datahed = pd.read_excel(link,sheet_name='บ้าน')\n",
        "id1 = datahed[datahed['ID ผู้ประเมิน']==1]\n",
        "id1 = id1.dropna(subset=['ราคาทรัพย์','ประเมินราคาซื้อ-ขาย'])\n",
        "id2 = datahed[datahed['ID ผู้ประเมิน']==2]\n",
        "id2 = id2.dropna(subset=['ราคาทรัพย์','ประเมินราคาซื้อ-ขาย'])\n",
        "id1MAPE = mape(id1['ประเมินราคาซื้อ-ขาย'],pd.to_numeric(id1['ราคาทรัพย์']))\n",
        "id2MAPE = mape(id2['ประเมินราคาซื้อ-ขาย'],pd.to_numeric(id2['ราคาทรัพย์']))\n",
        "print(f'ความแตกต่างระหว่างราคาประกาศขายและราคาประเมินของ\\nบ้าน\\nนักประเมิน คนที่ 1 = {id1MAPE*100:.2f}%\\nนักประเมิน คนที่ 2 = {id2MAPE*100:.2f}%')\n",
        "id2['ประเมิน2'] = id2['post id'].map(id1.set_index('post id')['ประเมินราคาซื้อ-ขาย'])\n",
        "id2_d = id2.dropna(subset=['ประเมินราคาซื้อ-ขาย','ประเมิน2','ราคาทรัพย์'])\n",
        "one2two = mape(id2_d['ประเมินราคาซื้อ-ขาย'],id2_d['ประเมิน2'])\n",
        "two2one = mape(id2_d['ประเมิน2'],id2_d['ประเมินราคาซื้อ-ขาย'])\n",
        "print(f'ความผิดพลาดระหว่างนักประเมินทั้ง {((one2two)+(two2one))*50:.2f}%')\n",
        "print(f'จำนวนทรัพย์ทั้งหมด {len(id2_d)} ทรัพย์')"
      ],
      "metadata": {
        "id": "fMua5eaCsS1b",
        "outputId": "cb8f27f1-344c-4599-8978-c3d045c4ff80",
        "colab": {
          "base_uri": "https://localhost:8080/"
        }
      },
      "execution_count": 241,
      "outputs": [
        {
          "output_type": "stream",
          "name": "stdout",
          "text": [
            "ความแตกต่างระหว่างราคาประกาศขายและราคาประเมินของ\n",
            "บ้าน\n",
            "นักประเมิน คนที่ 1 = 12.97%\n",
            "นักประเมิน คนที่ 2 = 8.82%\n",
            "ความผิดพลาดระหว่างนักประเมินทั้ง 12.45%\n",
            "จำนวนทรัพย์ทั้งหมด 497 ทรัพย์\n"
          ]
        }
      ]
    },
    {
      "cell_type": "markdown",
      "source": [
        "## Land"
      ],
      "metadata": {
        "id": "-dsTjcMS-S3r"
      }
    },
    {
      "cell_type": "code",
      "source": [
        "assland['Check1'] = assland.apply(lambda x:check_v(x['ราคาทรัพย์'],x['ประเมินโดย 1']), axis = 1)\n",
        "assland['Check2'] = assland.apply(lambda x:check_v(x['ราคาทรัพย์'],x['ประเมินโดย 2']), axis = 1)"
      ],
      "metadata": {
        "id": "NBdWXYa--SJ5",
        "outputId": "5f2346ec-1216-476a-b860-962ec147f743",
        "colab": {
          "base_uri": "https://localhost:8080/"
        }
      },
      "execution_count": 242,
      "outputs": [
        {
          "output_type": "stream",
          "name": "stderr",
          "text": [
            "<ipython-input-242-1e95f7aff8a0>:1: SettingWithCopyWarning: \n",
            "A value is trying to be set on a copy of a slice from a DataFrame.\n",
            "Try using .loc[row_indexer,col_indexer] = value instead\n",
            "\n",
            "See the caveats in the documentation: https://pandas.pydata.org/pandas-docs/stable/user_guide/indexing.html#returning-a-view-versus-a-copy\n",
            "  assland['Check1'] = assland.apply(lambda x:check_v(x['ราคาทรัพย์'],x['ประเมินโดย 1']), axis = 1)\n",
            "<ipython-input-242-1e95f7aff8a0>:2: SettingWithCopyWarning: \n",
            "A value is trying to be set on a copy of a slice from a DataFrame.\n",
            "Try using .loc[row_indexer,col_indexer] = value instead\n",
            "\n",
            "See the caveats in the documentation: https://pandas.pydata.org/pandas-docs/stable/user_guide/indexing.html#returning-a-view-versus-a-copy\n",
            "  assland['Check2'] = assland.apply(lambda x:check_v(x['ราคาทรัพย์'],x['ประเมินโดย 2']), axis = 1)\n"
          ]
        }
      ]
    },
    {
      "cell_type": "code",
      "source": [
        "assland.sort_values(by=['Check1'], ascending=False)"
      ],
      "metadata": {
        "id": "lE-djjxjOVn-",
        "outputId": "5aba5824-d1ec-47c9-dd1f-2a3efec54083",
        "colab": {
          "base_uri": "https://localhost:8080/",
          "height": 424
        }
      },
      "execution_count": 243,
      "outputs": [
        {
          "output_type": "execute_result",
          "data": {
            "text/plain": [
              "                                   post id  ราคาทรัพย์  ประเมินโดย 1  \\\n",
              "194  https://nayoo.co/khonkaen/posts/13702    90000000     4500000.0   \n",
              "112   https://nayoo.co/khonkaen/posts/7955     2600000    32000000.0   \n",
              "47    https://nayoo.co/khonkaen/posts/7349   245000000    24000000.0   \n",
              "58    https://nayoo.co/khonkaen/posts/9203   120000000    14000000.0   \n",
              "7     https://nayoo.co/khonkaen/posts/1726    90000000    18000000.0   \n",
              "..                                     ...         ...           ...   \n",
              "182   https://nayoo.co/khonkaen/posts/9598     3900000     4000000.0   \n",
              "78    https://nayoo.co/khonkaen/posts/3447      980000     1000000.0   \n",
              "100   https://nayoo.co/khonkaen/posts/1663     1485000     1500000.0   \n",
              "122  https://nayoo.co/khonkaen/posts/12762      650000      650000.0   \n",
              "130   https://nayoo.co/khonkaen/posts/1599     2500000     2500000.0   \n",
              "\n",
              "     ประเมินโดย 2     Check1     Check2  \n",
              "194    75000000.0  20.000000   1.200000  \n",
              "112     2000000.0  12.307692   1.300000  \n",
              "47     18000000.0  10.208333  13.611111  \n",
              "58     11000000.0   8.571429  10.909091  \n",
              "7      70000000.0   5.000000   1.285714  \n",
              "..            ...        ...        ...  \n",
              "182     4000000.0   1.025641   1.025641  \n",
              "78       800000.0   1.020408   1.225000  \n",
              "100     1200000.0   1.010101   1.237500  \n",
              "122      700000.0   1.000000   1.076923  \n",
              "130     2200000.0   1.000000   1.136364  \n",
              "\n",
              "[100 rows x 6 columns]"
            ],
            "text/html": [
              "\n",
              "  <div id=\"df-9f50572e-b4c4-4112-84cd-2589f24f95db\">\n",
              "    <div class=\"colab-df-container\">\n",
              "      <div>\n",
              "<style scoped>\n",
              "    .dataframe tbody tr th:only-of-type {\n",
              "        vertical-align: middle;\n",
              "    }\n",
              "\n",
              "    .dataframe tbody tr th {\n",
              "        vertical-align: top;\n",
              "    }\n",
              "\n",
              "    .dataframe thead th {\n",
              "        text-align: right;\n",
              "    }\n",
              "</style>\n",
              "<table border=\"1\" class=\"dataframe\">\n",
              "  <thead>\n",
              "    <tr style=\"text-align: right;\">\n",
              "      <th></th>\n",
              "      <th>post id</th>\n",
              "      <th>ราคาทรัพย์</th>\n",
              "      <th>ประเมินโดย 1</th>\n",
              "      <th>ประเมินโดย 2</th>\n",
              "      <th>Check1</th>\n",
              "      <th>Check2</th>\n",
              "    </tr>\n",
              "  </thead>\n",
              "  <tbody>\n",
              "    <tr>\n",
              "      <th>194</th>\n",
              "      <td>https://nayoo.co/khonkaen/posts/13702</td>\n",
              "      <td>90000000</td>\n",
              "      <td>4500000.0</td>\n",
              "      <td>75000000.0</td>\n",
              "      <td>20.000000</td>\n",
              "      <td>1.200000</td>\n",
              "    </tr>\n",
              "    <tr>\n",
              "      <th>112</th>\n",
              "      <td>https://nayoo.co/khonkaen/posts/7955</td>\n",
              "      <td>2600000</td>\n",
              "      <td>32000000.0</td>\n",
              "      <td>2000000.0</td>\n",
              "      <td>12.307692</td>\n",
              "      <td>1.300000</td>\n",
              "    </tr>\n",
              "    <tr>\n",
              "      <th>47</th>\n",
              "      <td>https://nayoo.co/khonkaen/posts/7349</td>\n",
              "      <td>245000000</td>\n",
              "      <td>24000000.0</td>\n",
              "      <td>18000000.0</td>\n",
              "      <td>10.208333</td>\n",
              "      <td>13.611111</td>\n",
              "    </tr>\n",
              "    <tr>\n",
              "      <th>58</th>\n",
              "      <td>https://nayoo.co/khonkaen/posts/9203</td>\n",
              "      <td>120000000</td>\n",
              "      <td>14000000.0</td>\n",
              "      <td>11000000.0</td>\n",
              "      <td>8.571429</td>\n",
              "      <td>10.909091</td>\n",
              "    </tr>\n",
              "    <tr>\n",
              "      <th>7</th>\n",
              "      <td>https://nayoo.co/khonkaen/posts/1726</td>\n",
              "      <td>90000000</td>\n",
              "      <td>18000000.0</td>\n",
              "      <td>70000000.0</td>\n",
              "      <td>5.000000</td>\n",
              "      <td>1.285714</td>\n",
              "    </tr>\n",
              "    <tr>\n",
              "      <th>...</th>\n",
              "      <td>...</td>\n",
              "      <td>...</td>\n",
              "      <td>...</td>\n",
              "      <td>...</td>\n",
              "      <td>...</td>\n",
              "      <td>...</td>\n",
              "    </tr>\n",
              "    <tr>\n",
              "      <th>182</th>\n",
              "      <td>https://nayoo.co/khonkaen/posts/9598</td>\n",
              "      <td>3900000</td>\n",
              "      <td>4000000.0</td>\n",
              "      <td>4000000.0</td>\n",
              "      <td>1.025641</td>\n",
              "      <td>1.025641</td>\n",
              "    </tr>\n",
              "    <tr>\n",
              "      <th>78</th>\n",
              "      <td>https://nayoo.co/khonkaen/posts/3447</td>\n",
              "      <td>980000</td>\n",
              "      <td>1000000.0</td>\n",
              "      <td>800000.0</td>\n",
              "      <td>1.020408</td>\n",
              "      <td>1.225000</td>\n",
              "    </tr>\n",
              "    <tr>\n",
              "      <th>100</th>\n",
              "      <td>https://nayoo.co/khonkaen/posts/1663</td>\n",
              "      <td>1485000</td>\n",
              "      <td>1500000.0</td>\n",
              "      <td>1200000.0</td>\n",
              "      <td>1.010101</td>\n",
              "      <td>1.237500</td>\n",
              "    </tr>\n",
              "    <tr>\n",
              "      <th>122</th>\n",
              "      <td>https://nayoo.co/khonkaen/posts/12762</td>\n",
              "      <td>650000</td>\n",
              "      <td>650000.0</td>\n",
              "      <td>700000.0</td>\n",
              "      <td>1.000000</td>\n",
              "      <td>1.076923</td>\n",
              "    </tr>\n",
              "    <tr>\n",
              "      <th>130</th>\n",
              "      <td>https://nayoo.co/khonkaen/posts/1599</td>\n",
              "      <td>2500000</td>\n",
              "      <td>2500000.0</td>\n",
              "      <td>2200000.0</td>\n",
              "      <td>1.000000</td>\n",
              "      <td>1.136364</td>\n",
              "    </tr>\n",
              "  </tbody>\n",
              "</table>\n",
              "<p>100 rows × 6 columns</p>\n",
              "</div>\n",
              "      <button class=\"colab-df-convert\" onclick=\"convertToInteractive('df-9f50572e-b4c4-4112-84cd-2589f24f95db')\"\n",
              "              title=\"Convert this dataframe to an interactive table.\"\n",
              "              style=\"display:none;\">\n",
              "        \n",
              "  <svg xmlns=\"http://www.w3.org/2000/svg\" height=\"24px\"viewBox=\"0 0 24 24\"\n",
              "       width=\"24px\">\n",
              "    <path d=\"M0 0h24v24H0V0z\" fill=\"none\"/>\n",
              "    <path d=\"M18.56 5.44l.94 2.06.94-2.06 2.06-.94-2.06-.94-.94-2.06-.94 2.06-2.06.94zm-11 1L8.5 8.5l.94-2.06 2.06-.94-2.06-.94L8.5 2.5l-.94 2.06-2.06.94zm10 10l.94 2.06.94-2.06 2.06-.94-2.06-.94-.94-2.06-.94 2.06-2.06.94z\"/><path d=\"M17.41 7.96l-1.37-1.37c-.4-.4-.92-.59-1.43-.59-.52 0-1.04.2-1.43.59L10.3 9.45l-7.72 7.72c-.78.78-.78 2.05 0 2.83L4 21.41c.39.39.9.59 1.41.59.51 0 1.02-.2 1.41-.59l7.78-7.78 2.81-2.81c.8-.78.8-2.07 0-2.86zM5.41 20L4 18.59l7.72-7.72 1.47 1.35L5.41 20z\"/>\n",
              "  </svg>\n",
              "      </button>\n",
              "      \n",
              "  <style>\n",
              "    .colab-df-container {\n",
              "      display:flex;\n",
              "      flex-wrap:wrap;\n",
              "      gap: 12px;\n",
              "    }\n",
              "\n",
              "    .colab-df-convert {\n",
              "      background-color: #E8F0FE;\n",
              "      border: none;\n",
              "      border-radius: 50%;\n",
              "      cursor: pointer;\n",
              "      display: none;\n",
              "      fill: #1967D2;\n",
              "      height: 32px;\n",
              "      padding: 0 0 0 0;\n",
              "      width: 32px;\n",
              "    }\n",
              "\n",
              "    .colab-df-convert:hover {\n",
              "      background-color: #E2EBFA;\n",
              "      box-shadow: 0px 1px 2px rgba(60, 64, 67, 0.3), 0px 1px 3px 1px rgba(60, 64, 67, 0.15);\n",
              "      fill: #174EA6;\n",
              "    }\n",
              "\n",
              "    [theme=dark] .colab-df-convert {\n",
              "      background-color: #3B4455;\n",
              "      fill: #D2E3FC;\n",
              "    }\n",
              "\n",
              "    [theme=dark] .colab-df-convert:hover {\n",
              "      background-color: #434B5C;\n",
              "      box-shadow: 0px 1px 3px 1px rgba(0, 0, 0, 0.15);\n",
              "      filter: drop-shadow(0px 1px 2px rgba(0, 0, 0, 0.3));\n",
              "      fill: #FFFFFF;\n",
              "    }\n",
              "  </style>\n",
              "\n",
              "      <script>\n",
              "        const buttonEl =\n",
              "          document.querySelector('#df-9f50572e-b4c4-4112-84cd-2589f24f95db button.colab-df-convert');\n",
              "        buttonEl.style.display =\n",
              "          google.colab.kernel.accessAllowed ? 'block' : 'none';\n",
              "\n",
              "        async function convertToInteractive(key) {\n",
              "          const element = document.querySelector('#df-9f50572e-b4c4-4112-84cd-2589f24f95db');\n",
              "          const dataTable =\n",
              "            await google.colab.kernel.invokeFunction('convertToInteractive',\n",
              "                                                     [key], {});\n",
              "          if (!dataTable) return;\n",
              "\n",
              "          const docLinkHtml = 'Like what you see? Visit the ' +\n",
              "            '<a target=\"_blank\" href=https://colab.research.google.com/notebooks/data_table.ipynb>data table notebook</a>'\n",
              "            + ' to learn more about interactive tables.';\n",
              "          element.innerHTML = '';\n",
              "          dataTable['output_type'] = 'display_data';\n",
              "          await google.colab.output.renderOutput(dataTable, element);\n",
              "          const docLink = document.createElement('div');\n",
              "          docLink.innerHTML = docLinkHtml;\n",
              "          element.appendChild(docLink);\n",
              "        }\n",
              "      </script>\n",
              "    </div>\n",
              "  </div>\n",
              "  "
            ]
          },
          "metadata": {},
          "execution_count": 243
        }
      ]
    },
    {
      "cell_type": "code",
      "source": [
        "assland.sort_values(by=['Check2'], ascending=False)"
      ],
      "metadata": {
        "id": "bNHigT8XObQE",
        "outputId": "96b64f54-7c9c-47ac-e9dc-0ec904513323",
        "colab": {
          "base_uri": "https://localhost:8080/",
          "height": 424
        }
      },
      "execution_count": 244,
      "outputs": [
        {
          "output_type": "execute_result",
          "data": {
            "text/plain": [
              "                                   post id  ราคาทรัพย์  ประเมินโดย 1  \\\n",
              "47    https://nayoo.co/khonkaen/posts/7349   245000000    24000000.0   \n",
              "58    https://nayoo.co/khonkaen/posts/9203   120000000    14000000.0   \n",
              "148   https://nayoo.co/khonkaen/posts/3561     7374550     6000000.0   \n",
              "188  https://nayoo.co/khonkaen/posts/12250     2300000     2500000.0   \n",
              "144   https://nayoo.co/khonkaen/posts/3341     1700000     1600000.0   \n",
              "..                                     ...         ...           ...   \n",
              "104   https://nayoo.co/khonkaen/posts/1921     8080000     2800000.0   \n",
              "60   https://nayoo.co/khonkaen/posts/12607     7990000    10000000.0   \n",
              "202  https://nayoo.co/khonkaen/posts/16072      750000      500000.0   \n",
              "158   https://nayoo.co/khonkaen/posts/6732     3500000     2800000.0   \n",
              "37    https://nayoo.co/khonkaen/posts/3305    14000000    12000000.0   \n",
              "\n",
              "     ประเมินโดย 2     Check1     Check2  \n",
              "47     18000000.0  10.208333  13.611111  \n",
              "58     11000000.0   8.571429  10.909091  \n",
              "148    80000000.0   1.229092  10.848120  \n",
              "188    24000000.0   1.086957  10.434783  \n",
              "144     9000000.0   1.062500   5.294118  \n",
              "..            ...        ...        ...  \n",
              "104     8000000.0   2.885714   1.010000  \n",
              "60      8000000.0   1.251564   1.001252  \n",
              "202      750000.0   1.500000   1.000000  \n",
              "158     3500000.0   1.250000   1.000000  \n",
              "37     14000000.0   1.166667   1.000000  \n",
              "\n",
              "[100 rows x 6 columns]"
            ],
            "text/html": [
              "\n",
              "  <div id=\"df-abc880cc-0a08-44e6-b418-5e31bebdfd31\">\n",
              "    <div class=\"colab-df-container\">\n",
              "      <div>\n",
              "<style scoped>\n",
              "    .dataframe tbody tr th:only-of-type {\n",
              "        vertical-align: middle;\n",
              "    }\n",
              "\n",
              "    .dataframe tbody tr th {\n",
              "        vertical-align: top;\n",
              "    }\n",
              "\n",
              "    .dataframe thead th {\n",
              "        text-align: right;\n",
              "    }\n",
              "</style>\n",
              "<table border=\"1\" class=\"dataframe\">\n",
              "  <thead>\n",
              "    <tr style=\"text-align: right;\">\n",
              "      <th></th>\n",
              "      <th>post id</th>\n",
              "      <th>ราคาทรัพย์</th>\n",
              "      <th>ประเมินโดย 1</th>\n",
              "      <th>ประเมินโดย 2</th>\n",
              "      <th>Check1</th>\n",
              "      <th>Check2</th>\n",
              "    </tr>\n",
              "  </thead>\n",
              "  <tbody>\n",
              "    <tr>\n",
              "      <th>47</th>\n",
              "      <td>https://nayoo.co/khonkaen/posts/7349</td>\n",
              "      <td>245000000</td>\n",
              "      <td>24000000.0</td>\n",
              "      <td>18000000.0</td>\n",
              "      <td>10.208333</td>\n",
              "      <td>13.611111</td>\n",
              "    </tr>\n",
              "    <tr>\n",
              "      <th>58</th>\n",
              "      <td>https://nayoo.co/khonkaen/posts/9203</td>\n",
              "      <td>120000000</td>\n",
              "      <td>14000000.0</td>\n",
              "      <td>11000000.0</td>\n",
              "      <td>8.571429</td>\n",
              "      <td>10.909091</td>\n",
              "    </tr>\n",
              "    <tr>\n",
              "      <th>148</th>\n",
              "      <td>https://nayoo.co/khonkaen/posts/3561</td>\n",
              "      <td>7374550</td>\n",
              "      <td>6000000.0</td>\n",
              "      <td>80000000.0</td>\n",
              "      <td>1.229092</td>\n",
              "      <td>10.848120</td>\n",
              "    </tr>\n",
              "    <tr>\n",
              "      <th>188</th>\n",
              "      <td>https://nayoo.co/khonkaen/posts/12250</td>\n",
              "      <td>2300000</td>\n",
              "      <td>2500000.0</td>\n",
              "      <td>24000000.0</td>\n",
              "      <td>1.086957</td>\n",
              "      <td>10.434783</td>\n",
              "    </tr>\n",
              "    <tr>\n",
              "      <th>144</th>\n",
              "      <td>https://nayoo.co/khonkaen/posts/3341</td>\n",
              "      <td>1700000</td>\n",
              "      <td>1600000.0</td>\n",
              "      <td>9000000.0</td>\n",
              "      <td>1.062500</td>\n",
              "      <td>5.294118</td>\n",
              "    </tr>\n",
              "    <tr>\n",
              "      <th>...</th>\n",
              "      <td>...</td>\n",
              "      <td>...</td>\n",
              "      <td>...</td>\n",
              "      <td>...</td>\n",
              "      <td>...</td>\n",
              "      <td>...</td>\n",
              "    </tr>\n",
              "    <tr>\n",
              "      <th>104</th>\n",
              "      <td>https://nayoo.co/khonkaen/posts/1921</td>\n",
              "      <td>8080000</td>\n",
              "      <td>2800000.0</td>\n",
              "      <td>8000000.0</td>\n",
              "      <td>2.885714</td>\n",
              "      <td>1.010000</td>\n",
              "    </tr>\n",
              "    <tr>\n",
              "      <th>60</th>\n",
              "      <td>https://nayoo.co/khonkaen/posts/12607</td>\n",
              "      <td>7990000</td>\n",
              "      <td>10000000.0</td>\n",
              "      <td>8000000.0</td>\n",
              "      <td>1.251564</td>\n",
              "      <td>1.001252</td>\n",
              "    </tr>\n",
              "    <tr>\n",
              "      <th>202</th>\n",
              "      <td>https://nayoo.co/khonkaen/posts/16072</td>\n",
              "      <td>750000</td>\n",
              "      <td>500000.0</td>\n",
              "      <td>750000.0</td>\n",
              "      <td>1.500000</td>\n",
              "      <td>1.000000</td>\n",
              "    </tr>\n",
              "    <tr>\n",
              "      <th>158</th>\n",
              "      <td>https://nayoo.co/khonkaen/posts/6732</td>\n",
              "      <td>3500000</td>\n",
              "      <td>2800000.0</td>\n",
              "      <td>3500000.0</td>\n",
              "      <td>1.250000</td>\n",
              "      <td>1.000000</td>\n",
              "    </tr>\n",
              "    <tr>\n",
              "      <th>37</th>\n",
              "      <td>https://nayoo.co/khonkaen/posts/3305</td>\n",
              "      <td>14000000</td>\n",
              "      <td>12000000.0</td>\n",
              "      <td>14000000.0</td>\n",
              "      <td>1.166667</td>\n",
              "      <td>1.000000</td>\n",
              "    </tr>\n",
              "  </tbody>\n",
              "</table>\n",
              "<p>100 rows × 6 columns</p>\n",
              "</div>\n",
              "      <button class=\"colab-df-convert\" onclick=\"convertToInteractive('df-abc880cc-0a08-44e6-b418-5e31bebdfd31')\"\n",
              "              title=\"Convert this dataframe to an interactive table.\"\n",
              "              style=\"display:none;\">\n",
              "        \n",
              "  <svg xmlns=\"http://www.w3.org/2000/svg\" height=\"24px\"viewBox=\"0 0 24 24\"\n",
              "       width=\"24px\">\n",
              "    <path d=\"M0 0h24v24H0V0z\" fill=\"none\"/>\n",
              "    <path d=\"M18.56 5.44l.94 2.06.94-2.06 2.06-.94-2.06-.94-.94-2.06-.94 2.06-2.06.94zm-11 1L8.5 8.5l.94-2.06 2.06-.94-2.06-.94L8.5 2.5l-.94 2.06-2.06.94zm10 10l.94 2.06.94-2.06 2.06-.94-2.06-.94-.94-2.06-.94 2.06-2.06.94z\"/><path d=\"M17.41 7.96l-1.37-1.37c-.4-.4-.92-.59-1.43-.59-.52 0-1.04.2-1.43.59L10.3 9.45l-7.72 7.72c-.78.78-.78 2.05 0 2.83L4 21.41c.39.39.9.59 1.41.59.51 0 1.02-.2 1.41-.59l7.78-7.78 2.81-2.81c.8-.78.8-2.07 0-2.86zM5.41 20L4 18.59l7.72-7.72 1.47 1.35L5.41 20z\"/>\n",
              "  </svg>\n",
              "      </button>\n",
              "      \n",
              "  <style>\n",
              "    .colab-df-container {\n",
              "      display:flex;\n",
              "      flex-wrap:wrap;\n",
              "      gap: 12px;\n",
              "    }\n",
              "\n",
              "    .colab-df-convert {\n",
              "      background-color: #E8F0FE;\n",
              "      border: none;\n",
              "      border-radius: 50%;\n",
              "      cursor: pointer;\n",
              "      display: none;\n",
              "      fill: #1967D2;\n",
              "      height: 32px;\n",
              "      padding: 0 0 0 0;\n",
              "      width: 32px;\n",
              "    }\n",
              "\n",
              "    .colab-df-convert:hover {\n",
              "      background-color: #E2EBFA;\n",
              "      box-shadow: 0px 1px 2px rgba(60, 64, 67, 0.3), 0px 1px 3px 1px rgba(60, 64, 67, 0.15);\n",
              "      fill: #174EA6;\n",
              "    }\n",
              "\n",
              "    [theme=dark] .colab-df-convert {\n",
              "      background-color: #3B4455;\n",
              "      fill: #D2E3FC;\n",
              "    }\n",
              "\n",
              "    [theme=dark] .colab-df-convert:hover {\n",
              "      background-color: #434B5C;\n",
              "      box-shadow: 0px 1px 3px 1px rgba(0, 0, 0, 0.15);\n",
              "      filter: drop-shadow(0px 1px 2px rgba(0, 0, 0, 0.3));\n",
              "      fill: #FFFFFF;\n",
              "    }\n",
              "  </style>\n",
              "\n",
              "      <script>\n",
              "        const buttonEl =\n",
              "          document.querySelector('#df-abc880cc-0a08-44e6-b418-5e31bebdfd31 button.colab-df-convert');\n",
              "        buttonEl.style.display =\n",
              "          google.colab.kernel.accessAllowed ? 'block' : 'none';\n",
              "\n",
              "        async function convertToInteractive(key) {\n",
              "          const element = document.querySelector('#df-abc880cc-0a08-44e6-b418-5e31bebdfd31');\n",
              "          const dataTable =\n",
              "            await google.colab.kernel.invokeFunction('convertToInteractive',\n",
              "                                                     [key], {});\n",
              "          if (!dataTable) return;\n",
              "\n",
              "          const docLinkHtml = 'Like what you see? Visit the ' +\n",
              "            '<a target=\"_blank\" href=https://colab.research.google.com/notebooks/data_table.ipynb>data table notebook</a>'\n",
              "            + ' to learn more about interactive tables.';\n",
              "          element.innerHTML = '';\n",
              "          dataTable['output_type'] = 'display_data';\n",
              "          await google.colab.output.renderOutput(dataTable, element);\n",
              "          const docLink = document.createElement('div');\n",
              "          docLink.innerHTML = docLinkHtml;\n",
              "          element.appendChild(docLink);\n",
              "        }\n",
              "      </script>\n",
              "    </div>\n",
              "  </div>\n",
              "  "
            ]
          },
          "metadata": {},
          "execution_count": 244
        }
      ]
    },
    {
      "cell_type": "markdown",
      "source": [
        "### MAPE\n",
        "\n"
      ],
      "metadata": {
        "id": "tdOPHLwm-yab"
      }
    },
    {
      "cell_type": "code",
      "source": [
        "dataled = pd.read_excel(link,sheet_name='ที่ดิน')\n",
        "idl1 = dataled[dataled['ID ผู้ประเมิน']==1]\n",
        "idl1 = idl1.dropna(subset=['ราคาทรัพย์','ประเมินราคาซื้อ-ขาย'])\n",
        "idl2 = dataled[dataled['ID ผู้ประเมิน']==2]\n",
        "idl2 = idl2.dropna(subset=['ราคาทรัพย์','ประเมินราคาซื้อ-ขาย'])\n",
        "idl1MAPE = mape(idl1['ประเมินราคาซื้อ-ขาย'],pd.to_numeric(idl1['ราคาทรัพย์']))\n",
        "idl2MAPE = mape(idl2['ประเมินราคาซื้อ-ขาย'],pd.to_numeric(idl2['ราคาทรัพย์']))\n",
        "print(f'ความแตกต่างระหว่างราคาประกาศขายและราคาประเมินของ\\nบ้าน\\nนักประเมิน คนที่ 1 = {idl1MAPE*100:.2f}%\\nนักประเมิน คนที่ 2 = {idl2MAPE*100:.2f}%')\n",
        "idl2['ประเมิน2'] = idl2['post id'].map(idl1.set_index('post id')['ประเมินราคาซื้อ-ขาย'])\n",
        "id2_l = idl2.dropna(subset=['ประเมินราคาซื้อ-ขาย','ประเมิน2','ราคาทรัพย์'])\n",
        "one2twol = mape(id2_l['ประเมินราคาซื้อ-ขาย'],id2_l['ประเมิน2'])\n",
        "two2onel = mape(id2_l['ประเมิน2'],id2_l['ประเมินราคาซื้อ-ขาย'])\n",
        "print(f'ความผิดพลาดระหว่างนักประเมินทั้ง {((one2twol)+(two2onel))*50:.2f}%')\n",
        "print(f'จำนวนทรัพย์ทั้งหมด {len(id2_l)} ทรัพย์')"
      ],
      "metadata": {
        "id": "UZljU2gV-5JN",
        "outputId": "e93c2c27-1302-4d68-8958-fd61ee28657e",
        "colab": {
          "base_uri": "https://localhost:8080/"
        }
      },
      "execution_count": 245,
      "outputs": [
        {
          "output_type": "stream",
          "name": "stdout",
          "text": [
            "ความแตกต่างระหว่างราคาประกาศขายและราคาประเมินของ\n",
            "บ้าน\n",
            "นักประเมิน คนที่ 1 = 45.13%\n",
            "นักประเมิน คนที่ 2 = 20.77%\n",
            "ความผิดพลาดระหว่างนักประเมินทั้ง 37.03%\n",
            "จำนวนทรัพย์ทั้งหมด 98 ทรัพย์\n"
          ]
        }
      ]
    },
    {
      "cell_type": "markdown",
      "source": [
        "## Condo"
      ],
      "metadata": {
        "id": "OlBhWtuc_Lqx"
      }
    },
    {
      "cell_type": "code",
      "source": [
        "asscondo['Check1']=asscondo.apply(lambda x:check_v(x['ราคาทรัพย์'],x['ประเมินโดย 1']),axis=1)"
      ],
      "metadata": {
        "id": "0zcGEphheTCf",
        "outputId": "127a3326-cfc2-4b8e-afd8-b431debfb129",
        "colab": {
          "base_uri": "https://localhost:8080/"
        }
      },
      "execution_count": 246,
      "outputs": [
        {
          "output_type": "stream",
          "name": "stderr",
          "text": [
            "<ipython-input-246-164284384120>:1: SettingWithCopyWarning: \n",
            "A value is trying to be set on a copy of a slice from a DataFrame.\n",
            "Try using .loc[row_indexer,col_indexer] = value instead\n",
            "\n",
            "See the caveats in the documentation: https://pandas.pydata.org/pandas-docs/stable/user_guide/indexing.html#returning-a-view-versus-a-copy\n",
            "  asscondo['Check1']=asscondo.apply(lambda x:check_v(x['ราคาทรัพย์'],x['ประเมินโดย 1']),axis=1)\n"
          ]
        }
      ]
    },
    {
      "cell_type": "code",
      "source": [
        "asscondo.sort_values(by=['Check1'], ascending=False)"
      ],
      "metadata": {
        "id": "7d2ixN2yekI7",
        "outputId": "65e86dc1-5dd4-4527-fda4-6ce0c7805036",
        "colab": {
          "base_uri": "https://localhost:8080/",
          "height": 363
        }
      },
      "execution_count": 247,
      "outputs": [
        {
          "output_type": "execute_result",
          "data": {
            "text/plain": [
              "   post id  ราคาทรัพย์  ประเมินโดย 1    Check1\n",
              "7   1641.0     4290000     2700000.0  1.588889\n",
              "3   1395.0     1600000     2300000.0  1.437500\n",
              "9   1840.0     3790000     2800000.0  1.353571\n",
              "6   1640.0     1280000     1600000.0  1.250000\n",
              "2    603.0     2438000     2800000.0  1.148482\n",
              "1     36.0     1930000     2200000.0  1.139896\n",
              "8   1650.0     1700000     1550000.0  1.096774\n",
              "4   1443.0     1860000     1800000.0  1.033333\n",
              "5   1609.0     1490000     1500000.0  1.006711\n",
              "0     32.0     3500000     3500000.0  1.000000"
            ],
            "text/html": [
              "\n",
              "  <div id=\"df-7707e561-b2cf-41fb-91b4-362ff1add515\">\n",
              "    <div class=\"colab-df-container\">\n",
              "      <div>\n",
              "<style scoped>\n",
              "    .dataframe tbody tr th:only-of-type {\n",
              "        vertical-align: middle;\n",
              "    }\n",
              "\n",
              "    .dataframe tbody tr th {\n",
              "        vertical-align: top;\n",
              "    }\n",
              "\n",
              "    .dataframe thead th {\n",
              "        text-align: right;\n",
              "    }\n",
              "</style>\n",
              "<table border=\"1\" class=\"dataframe\">\n",
              "  <thead>\n",
              "    <tr style=\"text-align: right;\">\n",
              "      <th></th>\n",
              "      <th>post id</th>\n",
              "      <th>ราคาทรัพย์</th>\n",
              "      <th>ประเมินโดย 1</th>\n",
              "      <th>Check1</th>\n",
              "    </tr>\n",
              "  </thead>\n",
              "  <tbody>\n",
              "    <tr>\n",
              "      <th>7</th>\n",
              "      <td>1641.0</td>\n",
              "      <td>4290000</td>\n",
              "      <td>2700000.0</td>\n",
              "      <td>1.588889</td>\n",
              "    </tr>\n",
              "    <tr>\n",
              "      <th>3</th>\n",
              "      <td>1395.0</td>\n",
              "      <td>1600000</td>\n",
              "      <td>2300000.0</td>\n",
              "      <td>1.437500</td>\n",
              "    </tr>\n",
              "    <tr>\n",
              "      <th>9</th>\n",
              "      <td>1840.0</td>\n",
              "      <td>3790000</td>\n",
              "      <td>2800000.0</td>\n",
              "      <td>1.353571</td>\n",
              "    </tr>\n",
              "    <tr>\n",
              "      <th>6</th>\n",
              "      <td>1640.0</td>\n",
              "      <td>1280000</td>\n",
              "      <td>1600000.0</td>\n",
              "      <td>1.250000</td>\n",
              "    </tr>\n",
              "    <tr>\n",
              "      <th>2</th>\n",
              "      <td>603.0</td>\n",
              "      <td>2438000</td>\n",
              "      <td>2800000.0</td>\n",
              "      <td>1.148482</td>\n",
              "    </tr>\n",
              "    <tr>\n",
              "      <th>1</th>\n",
              "      <td>36.0</td>\n",
              "      <td>1930000</td>\n",
              "      <td>2200000.0</td>\n",
              "      <td>1.139896</td>\n",
              "    </tr>\n",
              "    <tr>\n",
              "      <th>8</th>\n",
              "      <td>1650.0</td>\n",
              "      <td>1700000</td>\n",
              "      <td>1550000.0</td>\n",
              "      <td>1.096774</td>\n",
              "    </tr>\n",
              "    <tr>\n",
              "      <th>4</th>\n",
              "      <td>1443.0</td>\n",
              "      <td>1860000</td>\n",
              "      <td>1800000.0</td>\n",
              "      <td>1.033333</td>\n",
              "    </tr>\n",
              "    <tr>\n",
              "      <th>5</th>\n",
              "      <td>1609.0</td>\n",
              "      <td>1490000</td>\n",
              "      <td>1500000.0</td>\n",
              "      <td>1.006711</td>\n",
              "    </tr>\n",
              "    <tr>\n",
              "      <th>0</th>\n",
              "      <td>32.0</td>\n",
              "      <td>3500000</td>\n",
              "      <td>3500000.0</td>\n",
              "      <td>1.000000</td>\n",
              "    </tr>\n",
              "  </tbody>\n",
              "</table>\n",
              "</div>\n",
              "      <button class=\"colab-df-convert\" onclick=\"convertToInteractive('df-7707e561-b2cf-41fb-91b4-362ff1add515')\"\n",
              "              title=\"Convert this dataframe to an interactive table.\"\n",
              "              style=\"display:none;\">\n",
              "        \n",
              "  <svg xmlns=\"http://www.w3.org/2000/svg\" height=\"24px\"viewBox=\"0 0 24 24\"\n",
              "       width=\"24px\">\n",
              "    <path d=\"M0 0h24v24H0V0z\" fill=\"none\"/>\n",
              "    <path d=\"M18.56 5.44l.94 2.06.94-2.06 2.06-.94-2.06-.94-.94-2.06-.94 2.06-2.06.94zm-11 1L8.5 8.5l.94-2.06 2.06-.94-2.06-.94L8.5 2.5l-.94 2.06-2.06.94zm10 10l.94 2.06.94-2.06 2.06-.94-2.06-.94-.94-2.06-.94 2.06-2.06.94z\"/><path d=\"M17.41 7.96l-1.37-1.37c-.4-.4-.92-.59-1.43-.59-.52 0-1.04.2-1.43.59L10.3 9.45l-7.72 7.72c-.78.78-.78 2.05 0 2.83L4 21.41c.39.39.9.59 1.41.59.51 0 1.02-.2 1.41-.59l7.78-7.78 2.81-2.81c.8-.78.8-2.07 0-2.86zM5.41 20L4 18.59l7.72-7.72 1.47 1.35L5.41 20z\"/>\n",
              "  </svg>\n",
              "      </button>\n",
              "      \n",
              "  <style>\n",
              "    .colab-df-container {\n",
              "      display:flex;\n",
              "      flex-wrap:wrap;\n",
              "      gap: 12px;\n",
              "    }\n",
              "\n",
              "    .colab-df-convert {\n",
              "      background-color: #E8F0FE;\n",
              "      border: none;\n",
              "      border-radius: 50%;\n",
              "      cursor: pointer;\n",
              "      display: none;\n",
              "      fill: #1967D2;\n",
              "      height: 32px;\n",
              "      padding: 0 0 0 0;\n",
              "      width: 32px;\n",
              "    }\n",
              "\n",
              "    .colab-df-convert:hover {\n",
              "      background-color: #E2EBFA;\n",
              "      box-shadow: 0px 1px 2px rgba(60, 64, 67, 0.3), 0px 1px 3px 1px rgba(60, 64, 67, 0.15);\n",
              "      fill: #174EA6;\n",
              "    }\n",
              "\n",
              "    [theme=dark] .colab-df-convert {\n",
              "      background-color: #3B4455;\n",
              "      fill: #D2E3FC;\n",
              "    }\n",
              "\n",
              "    [theme=dark] .colab-df-convert:hover {\n",
              "      background-color: #434B5C;\n",
              "      box-shadow: 0px 1px 3px 1px rgba(0, 0, 0, 0.15);\n",
              "      filter: drop-shadow(0px 1px 2px rgba(0, 0, 0, 0.3));\n",
              "      fill: #FFFFFF;\n",
              "    }\n",
              "  </style>\n",
              "\n",
              "      <script>\n",
              "        const buttonEl =\n",
              "          document.querySelector('#df-7707e561-b2cf-41fb-91b4-362ff1add515 button.colab-df-convert');\n",
              "        buttonEl.style.display =\n",
              "          google.colab.kernel.accessAllowed ? 'block' : 'none';\n",
              "\n",
              "        async function convertToInteractive(key) {\n",
              "          const element = document.querySelector('#df-7707e561-b2cf-41fb-91b4-362ff1add515');\n",
              "          const dataTable =\n",
              "            await google.colab.kernel.invokeFunction('convertToInteractive',\n",
              "                                                     [key], {});\n",
              "          if (!dataTable) return;\n",
              "\n",
              "          const docLinkHtml = 'Like what you see? Visit the ' +\n",
              "            '<a target=\"_blank\" href=https://colab.research.google.com/notebooks/data_table.ipynb>data table notebook</a>'\n",
              "            + ' to learn more about interactive tables.';\n",
              "          element.innerHTML = '';\n",
              "          dataTable['output_type'] = 'display_data';\n",
              "          await google.colab.output.renderOutput(dataTable, element);\n",
              "          const docLink = document.createElement('div');\n",
              "          docLink.innerHTML = docLinkHtml;\n",
              "          element.appendChild(docLink);\n",
              "        }\n",
              "      </script>\n",
              "    </div>\n",
              "  </div>\n",
              "  "
            ]
          },
          "metadata": {},
          "execution_count": 247
        }
      ]
    },
    {
      "cell_type": "markdown",
      "source": [
        "### MAPE"
      ],
      "metadata": {
        "id": "uw4MgvUN_gP2"
      }
    },
    {
      "cell_type": "code",
      "source": [
        "condoed = pd.read_excel(link,sheet_name='คอนโด')\n",
        "idc1 = condoed[condoed['ID ผู้ประเมิน']==1]\n",
        "idc1 = idt1.dropna(subset=['ราคาทรัพย์','ประเมินราคาซื้อ-ขาย'])\n",
        "\n",
        "idc1MAPE = mape(idc1['ประเมินราคาซื้อ-ขาย'],pd.to_numeric(idc1['ราคาทรัพย์']))\n",
        "\n",
        "print(f'ความแตกต่างระหว่างราคาประกาศขายและราคาประเมินของ\\nบ้าน\\nนักประเมิน คนที่ 1 = {idc1MAPE*100:.2f}%')\n",
        "\n",
        "\n",
        "print(f'จำนวนทรัพย์ทั้งหมด {len(idc1)} ทรัพย์')"
      ],
      "metadata": {
        "id": "K_MCzJet_hFV",
        "outputId": "4736e3c0-369e-4b61-dc6a-45116bb4302a",
        "colab": {
          "base_uri": "https://localhost:8080/"
        }
      },
      "execution_count": 248,
      "outputs": [
        {
          "output_type": "stream",
          "name": "stdout",
          "text": [
            "ความแตกต่างระหว่างราคาประกาศขายและราคาประเมินของ\n",
            "บ้าน\n",
            "นักประเมิน คนที่ 1 = 15.26%\n",
            "จำนวนทรัพย์ทั้งหมด 120 ทรัพย์\n"
          ]
        }
      ]
    },
    {
      "cell_type": "markdown",
      "source": [
        "## Town home"
      ],
      "metadata": {
        "id": "eCrNaJjH_nY_"
      }
    },
    {
      "cell_type": "code",
      "source": [
        "ass_th['Check1']=ass_th.apply(lambda x:check_v(x['ราคาทรัพย์'],x['ประเมินโดย 1']),axis=1)\n",
        "ass_th['Check2']=ass_th.apply(lambda x:check_v(x['ราคาทรัพย์'],x['ประเมินโดย 2']),axis=1)"
      ],
      "metadata": {
        "id": "ovwnbOdAOcOM",
        "outputId": "c93fa0ca-7aa1-4e82-b203-db1a57ab421a",
        "colab": {
          "base_uri": "https://localhost:8080/"
        }
      },
      "execution_count": 249,
      "outputs": [
        {
          "output_type": "stream",
          "name": "stderr",
          "text": [
            "<ipython-input-249-c9d8ab3947d0>:1: SettingWithCopyWarning: \n",
            "A value is trying to be set on a copy of a slice from a DataFrame.\n",
            "Try using .loc[row_indexer,col_indexer] = value instead\n",
            "\n",
            "See the caveats in the documentation: https://pandas.pydata.org/pandas-docs/stable/user_guide/indexing.html#returning-a-view-versus-a-copy\n",
            "  ass_th['Check1']=ass_th.apply(lambda x:check_v(x['ราคาทรัพย์'],x['ประเมินโดย 1']),axis=1)\n",
            "<ipython-input-249-c9d8ab3947d0>:2: SettingWithCopyWarning: \n",
            "A value is trying to be set on a copy of a slice from a DataFrame.\n",
            "Try using .loc[row_indexer,col_indexer] = value instead\n",
            "\n",
            "See the caveats in the documentation: https://pandas.pydata.org/pandas-docs/stable/user_guide/indexing.html#returning-a-view-versus-a-copy\n",
            "  ass_th['Check2']=ass_th.apply(lambda x:check_v(x['ราคาทรัพย์'],x['ประเมินโดย 2']),axis=1)\n"
          ]
        }
      ]
    },
    {
      "cell_type": "code",
      "source": [
        "ass_th.sort_values(by=['Check1'], ascending=False)"
      ],
      "metadata": {
        "id": "mrDZnHUmO3t6",
        "outputId": "9ae8b890-0342-425d-9143-672ab51fbd81",
        "colab": {
          "base_uri": "https://localhost:8080/",
          "height": 424
        }
      },
      "execution_count": 250,
      "outputs": [
        {
          "output_type": "execute_result",
          "data": {
            "text/plain": [
              "                                   post id  ราคาทรัพย์  ประเมินโดย 1  \\\n",
              "176   https://nayoo.co/khonkaen/posts/3528     2190000      350000.0   \n",
              "9      https://nayoo.co/khonkaen/posts/582      544000     1000000.0   \n",
              "206  https://nayoo.co/khonkaen/posts/17507     1085000      650000.0   \n",
              "216  https://nayoo.co/khonkaen/posts/17535      840000     1300000.0   \n",
              "1      https://nayoo.co/khonkaen/posts/548     1045000      700000.0   \n",
              "..                                     ...         ...           ...   \n",
              "162   https://nayoo.co/khonkaen/posts/2242     1610000     1600000.0   \n",
              "228  https://nayoo.co/khonkaen/posts/17923     1990000     2000000.0   \n",
              "167   https://nayoo.co/khonkaen/posts/2829     2490000     2500000.0   \n",
              "200  https://nayoo.co/khonkaen/posts/13411     3200000     3200000.0   \n",
              "203  https://nayoo.co/khonkaen/posts/17503     1500000     1500000.0   \n",
              "\n",
              "     ประเมินโดย 2    Check1    Check2  \n",
              "176      400000.0  6.257143  5.475000  \n",
              "9        800000.0  1.838235  1.470588  \n",
              "206      700000.0  1.669231  1.550000  \n",
              "216     1000000.0  1.547619  1.190476  \n",
              "1       1500000.0  1.492857  1.435407  \n",
              "..            ...       ...       ...  \n",
              "162     1600000.0  1.006250  1.006250  \n",
              "228     2200000.0  1.005025  1.105528  \n",
              "167     2300000.0  1.004016  1.082609  \n",
              "200     3200000.0  1.000000  1.000000  \n",
              "203     1300000.0  1.000000  1.153846  \n",
              "\n",
              "[120 rows x 6 columns]"
            ],
            "text/html": [
              "\n",
              "  <div id=\"df-43bde487-1523-4e78-8099-11d5f1be2ed0\">\n",
              "    <div class=\"colab-df-container\">\n",
              "      <div>\n",
              "<style scoped>\n",
              "    .dataframe tbody tr th:only-of-type {\n",
              "        vertical-align: middle;\n",
              "    }\n",
              "\n",
              "    .dataframe tbody tr th {\n",
              "        vertical-align: top;\n",
              "    }\n",
              "\n",
              "    .dataframe thead th {\n",
              "        text-align: right;\n",
              "    }\n",
              "</style>\n",
              "<table border=\"1\" class=\"dataframe\">\n",
              "  <thead>\n",
              "    <tr style=\"text-align: right;\">\n",
              "      <th></th>\n",
              "      <th>post id</th>\n",
              "      <th>ราคาทรัพย์</th>\n",
              "      <th>ประเมินโดย 1</th>\n",
              "      <th>ประเมินโดย 2</th>\n",
              "      <th>Check1</th>\n",
              "      <th>Check2</th>\n",
              "    </tr>\n",
              "  </thead>\n",
              "  <tbody>\n",
              "    <tr>\n",
              "      <th>176</th>\n",
              "      <td>https://nayoo.co/khonkaen/posts/3528</td>\n",
              "      <td>2190000</td>\n",
              "      <td>350000.0</td>\n",
              "      <td>400000.0</td>\n",
              "      <td>6.257143</td>\n",
              "      <td>5.475000</td>\n",
              "    </tr>\n",
              "    <tr>\n",
              "      <th>9</th>\n",
              "      <td>https://nayoo.co/khonkaen/posts/582</td>\n",
              "      <td>544000</td>\n",
              "      <td>1000000.0</td>\n",
              "      <td>800000.0</td>\n",
              "      <td>1.838235</td>\n",
              "      <td>1.470588</td>\n",
              "    </tr>\n",
              "    <tr>\n",
              "      <th>206</th>\n",
              "      <td>https://nayoo.co/khonkaen/posts/17507</td>\n",
              "      <td>1085000</td>\n",
              "      <td>650000.0</td>\n",
              "      <td>700000.0</td>\n",
              "      <td>1.669231</td>\n",
              "      <td>1.550000</td>\n",
              "    </tr>\n",
              "    <tr>\n",
              "      <th>216</th>\n",
              "      <td>https://nayoo.co/khonkaen/posts/17535</td>\n",
              "      <td>840000</td>\n",
              "      <td>1300000.0</td>\n",
              "      <td>1000000.0</td>\n",
              "      <td>1.547619</td>\n",
              "      <td>1.190476</td>\n",
              "    </tr>\n",
              "    <tr>\n",
              "      <th>1</th>\n",
              "      <td>https://nayoo.co/khonkaen/posts/548</td>\n",
              "      <td>1045000</td>\n",
              "      <td>700000.0</td>\n",
              "      <td>1500000.0</td>\n",
              "      <td>1.492857</td>\n",
              "      <td>1.435407</td>\n",
              "    </tr>\n",
              "    <tr>\n",
              "      <th>...</th>\n",
              "      <td>...</td>\n",
              "      <td>...</td>\n",
              "      <td>...</td>\n",
              "      <td>...</td>\n",
              "      <td>...</td>\n",
              "      <td>...</td>\n",
              "    </tr>\n",
              "    <tr>\n",
              "      <th>162</th>\n",
              "      <td>https://nayoo.co/khonkaen/posts/2242</td>\n",
              "      <td>1610000</td>\n",
              "      <td>1600000.0</td>\n",
              "      <td>1600000.0</td>\n",
              "      <td>1.006250</td>\n",
              "      <td>1.006250</td>\n",
              "    </tr>\n",
              "    <tr>\n",
              "      <th>228</th>\n",
              "      <td>https://nayoo.co/khonkaen/posts/17923</td>\n",
              "      <td>1990000</td>\n",
              "      <td>2000000.0</td>\n",
              "      <td>2200000.0</td>\n",
              "      <td>1.005025</td>\n",
              "      <td>1.105528</td>\n",
              "    </tr>\n",
              "    <tr>\n",
              "      <th>167</th>\n",
              "      <td>https://nayoo.co/khonkaen/posts/2829</td>\n",
              "      <td>2490000</td>\n",
              "      <td>2500000.0</td>\n",
              "      <td>2300000.0</td>\n",
              "      <td>1.004016</td>\n",
              "      <td>1.082609</td>\n",
              "    </tr>\n",
              "    <tr>\n",
              "      <th>200</th>\n",
              "      <td>https://nayoo.co/khonkaen/posts/13411</td>\n",
              "      <td>3200000</td>\n",
              "      <td>3200000.0</td>\n",
              "      <td>3200000.0</td>\n",
              "      <td>1.000000</td>\n",
              "      <td>1.000000</td>\n",
              "    </tr>\n",
              "    <tr>\n",
              "      <th>203</th>\n",
              "      <td>https://nayoo.co/khonkaen/posts/17503</td>\n",
              "      <td>1500000</td>\n",
              "      <td>1500000.0</td>\n",
              "      <td>1300000.0</td>\n",
              "      <td>1.000000</td>\n",
              "      <td>1.153846</td>\n",
              "    </tr>\n",
              "  </tbody>\n",
              "</table>\n",
              "<p>120 rows × 6 columns</p>\n",
              "</div>\n",
              "      <button class=\"colab-df-convert\" onclick=\"convertToInteractive('df-43bde487-1523-4e78-8099-11d5f1be2ed0')\"\n",
              "              title=\"Convert this dataframe to an interactive table.\"\n",
              "              style=\"display:none;\">\n",
              "        \n",
              "  <svg xmlns=\"http://www.w3.org/2000/svg\" height=\"24px\"viewBox=\"0 0 24 24\"\n",
              "       width=\"24px\">\n",
              "    <path d=\"M0 0h24v24H0V0z\" fill=\"none\"/>\n",
              "    <path d=\"M18.56 5.44l.94 2.06.94-2.06 2.06-.94-2.06-.94-.94-2.06-.94 2.06-2.06.94zm-11 1L8.5 8.5l.94-2.06 2.06-.94-2.06-.94L8.5 2.5l-.94 2.06-2.06.94zm10 10l.94 2.06.94-2.06 2.06-.94-2.06-.94-.94-2.06-.94 2.06-2.06.94z\"/><path d=\"M17.41 7.96l-1.37-1.37c-.4-.4-.92-.59-1.43-.59-.52 0-1.04.2-1.43.59L10.3 9.45l-7.72 7.72c-.78.78-.78 2.05 0 2.83L4 21.41c.39.39.9.59 1.41.59.51 0 1.02-.2 1.41-.59l7.78-7.78 2.81-2.81c.8-.78.8-2.07 0-2.86zM5.41 20L4 18.59l7.72-7.72 1.47 1.35L5.41 20z\"/>\n",
              "  </svg>\n",
              "      </button>\n",
              "      \n",
              "  <style>\n",
              "    .colab-df-container {\n",
              "      display:flex;\n",
              "      flex-wrap:wrap;\n",
              "      gap: 12px;\n",
              "    }\n",
              "\n",
              "    .colab-df-convert {\n",
              "      background-color: #E8F0FE;\n",
              "      border: none;\n",
              "      border-radius: 50%;\n",
              "      cursor: pointer;\n",
              "      display: none;\n",
              "      fill: #1967D2;\n",
              "      height: 32px;\n",
              "      padding: 0 0 0 0;\n",
              "      width: 32px;\n",
              "    }\n",
              "\n",
              "    .colab-df-convert:hover {\n",
              "      background-color: #E2EBFA;\n",
              "      box-shadow: 0px 1px 2px rgba(60, 64, 67, 0.3), 0px 1px 3px 1px rgba(60, 64, 67, 0.15);\n",
              "      fill: #174EA6;\n",
              "    }\n",
              "\n",
              "    [theme=dark] .colab-df-convert {\n",
              "      background-color: #3B4455;\n",
              "      fill: #D2E3FC;\n",
              "    }\n",
              "\n",
              "    [theme=dark] .colab-df-convert:hover {\n",
              "      background-color: #434B5C;\n",
              "      box-shadow: 0px 1px 3px 1px rgba(0, 0, 0, 0.15);\n",
              "      filter: drop-shadow(0px 1px 2px rgba(0, 0, 0, 0.3));\n",
              "      fill: #FFFFFF;\n",
              "    }\n",
              "  </style>\n",
              "\n",
              "      <script>\n",
              "        const buttonEl =\n",
              "          document.querySelector('#df-43bde487-1523-4e78-8099-11d5f1be2ed0 button.colab-df-convert');\n",
              "        buttonEl.style.display =\n",
              "          google.colab.kernel.accessAllowed ? 'block' : 'none';\n",
              "\n",
              "        async function convertToInteractive(key) {\n",
              "          const element = document.querySelector('#df-43bde487-1523-4e78-8099-11d5f1be2ed0');\n",
              "          const dataTable =\n",
              "            await google.colab.kernel.invokeFunction('convertToInteractive',\n",
              "                                                     [key], {});\n",
              "          if (!dataTable) return;\n",
              "\n",
              "          const docLinkHtml = 'Like what you see? Visit the ' +\n",
              "            '<a target=\"_blank\" href=https://colab.research.google.com/notebooks/data_table.ipynb>data table notebook</a>'\n",
              "            + ' to learn more about interactive tables.';\n",
              "          element.innerHTML = '';\n",
              "          dataTable['output_type'] = 'display_data';\n",
              "          await google.colab.output.renderOutput(dataTable, element);\n",
              "          const docLink = document.createElement('div');\n",
              "          docLink.innerHTML = docLinkHtml;\n",
              "          element.appendChild(docLink);\n",
              "        }\n",
              "      </script>\n",
              "    </div>\n",
              "  </div>\n",
              "  "
            ]
          },
          "metadata": {},
          "execution_count": 250
        }
      ]
    },
    {
      "cell_type": "code",
      "source": [
        "ass_th.sort_values(by=['Check2'], ascending=False)"
      ],
      "metadata": {
        "id": "d2qvlEwUO4Dx",
        "outputId": "6770d5e0-0d0c-4af8-b564-a1e16d518a7c",
        "colab": {
          "base_uri": "https://localhost:8080/",
          "height": 424
        }
      },
      "execution_count": 251,
      "outputs": [
        {
          "output_type": "execute_result",
          "data": {
            "text/plain": [
              "                                   post id  ราคาทรัพย์  ประเมินโดย 1  \\\n",
              "176   https://nayoo.co/khonkaen/posts/3528     2190000      350000.0   \n",
              "234  https://nayoo.co/khonkaen/posts/18090     2850000     2800000.0   \n",
              "3      https://nayoo.co/khonkaen/posts/549      935000      700000.0   \n",
              "5      https://nayoo.co/khonkaen/posts/579     2520000     3500000.0   \n",
              "206  https://nayoo.co/khonkaen/posts/17507     1085000      650000.0   \n",
              "..                                     ...         ...           ...   \n",
              "202  https://nayoo.co/khonkaen/posts/15111     2200000     2500000.0   \n",
              "209  https://nayoo.co/khonkaen/posts/17511     1700000     1500000.0   \n",
              "212  https://nayoo.co/khonkaen/posts/17516     1800000     1700000.0   \n",
              "213  https://nayoo.co/khonkaen/posts/17518     1200000     1100000.0   \n",
              "152   https://nayoo.co/khonkaen/posts/2011     1100000      900000.0   \n",
              "\n",
              "     ประเมินโดย 2    Check1    Check2  \n",
              "176      400000.0  6.257143  5.475000  \n",
              "234     1500000.0  1.017857  1.900000  \n",
              "3       1500000.0  1.335714  1.604278  \n",
              "5       4000000.0  1.388889  1.587302  \n",
              "206      700000.0  1.669231  1.550000  \n",
              "..            ...       ...       ...  \n",
              "202     2200000.0  1.136364  1.000000  \n",
              "209     1700000.0  1.133333  1.000000  \n",
              "212     1800000.0  1.058824  1.000000  \n",
              "213     1200000.0  1.090909  1.000000  \n",
              "152     1100000.0  1.222222  1.000000  \n",
              "\n",
              "[120 rows x 6 columns]"
            ],
            "text/html": [
              "\n",
              "  <div id=\"df-c27910ba-1fba-429d-b6a1-792a0e7f40e7\">\n",
              "    <div class=\"colab-df-container\">\n",
              "      <div>\n",
              "<style scoped>\n",
              "    .dataframe tbody tr th:only-of-type {\n",
              "        vertical-align: middle;\n",
              "    }\n",
              "\n",
              "    .dataframe tbody tr th {\n",
              "        vertical-align: top;\n",
              "    }\n",
              "\n",
              "    .dataframe thead th {\n",
              "        text-align: right;\n",
              "    }\n",
              "</style>\n",
              "<table border=\"1\" class=\"dataframe\">\n",
              "  <thead>\n",
              "    <tr style=\"text-align: right;\">\n",
              "      <th></th>\n",
              "      <th>post id</th>\n",
              "      <th>ราคาทรัพย์</th>\n",
              "      <th>ประเมินโดย 1</th>\n",
              "      <th>ประเมินโดย 2</th>\n",
              "      <th>Check1</th>\n",
              "      <th>Check2</th>\n",
              "    </tr>\n",
              "  </thead>\n",
              "  <tbody>\n",
              "    <tr>\n",
              "      <th>176</th>\n",
              "      <td>https://nayoo.co/khonkaen/posts/3528</td>\n",
              "      <td>2190000</td>\n",
              "      <td>350000.0</td>\n",
              "      <td>400000.0</td>\n",
              "      <td>6.257143</td>\n",
              "      <td>5.475000</td>\n",
              "    </tr>\n",
              "    <tr>\n",
              "      <th>234</th>\n",
              "      <td>https://nayoo.co/khonkaen/posts/18090</td>\n",
              "      <td>2850000</td>\n",
              "      <td>2800000.0</td>\n",
              "      <td>1500000.0</td>\n",
              "      <td>1.017857</td>\n",
              "      <td>1.900000</td>\n",
              "    </tr>\n",
              "    <tr>\n",
              "      <th>3</th>\n",
              "      <td>https://nayoo.co/khonkaen/posts/549</td>\n",
              "      <td>935000</td>\n",
              "      <td>700000.0</td>\n",
              "      <td>1500000.0</td>\n",
              "      <td>1.335714</td>\n",
              "      <td>1.604278</td>\n",
              "    </tr>\n",
              "    <tr>\n",
              "      <th>5</th>\n",
              "      <td>https://nayoo.co/khonkaen/posts/579</td>\n",
              "      <td>2520000</td>\n",
              "      <td>3500000.0</td>\n",
              "      <td>4000000.0</td>\n",
              "      <td>1.388889</td>\n",
              "      <td>1.587302</td>\n",
              "    </tr>\n",
              "    <tr>\n",
              "      <th>206</th>\n",
              "      <td>https://nayoo.co/khonkaen/posts/17507</td>\n",
              "      <td>1085000</td>\n",
              "      <td>650000.0</td>\n",
              "      <td>700000.0</td>\n",
              "      <td>1.669231</td>\n",
              "      <td>1.550000</td>\n",
              "    </tr>\n",
              "    <tr>\n",
              "      <th>...</th>\n",
              "      <td>...</td>\n",
              "      <td>...</td>\n",
              "      <td>...</td>\n",
              "      <td>...</td>\n",
              "      <td>...</td>\n",
              "      <td>...</td>\n",
              "    </tr>\n",
              "    <tr>\n",
              "      <th>202</th>\n",
              "      <td>https://nayoo.co/khonkaen/posts/15111</td>\n",
              "      <td>2200000</td>\n",
              "      <td>2500000.0</td>\n",
              "      <td>2200000.0</td>\n",
              "      <td>1.136364</td>\n",
              "      <td>1.000000</td>\n",
              "    </tr>\n",
              "    <tr>\n",
              "      <th>209</th>\n",
              "      <td>https://nayoo.co/khonkaen/posts/17511</td>\n",
              "      <td>1700000</td>\n",
              "      <td>1500000.0</td>\n",
              "      <td>1700000.0</td>\n",
              "      <td>1.133333</td>\n",
              "      <td>1.000000</td>\n",
              "    </tr>\n",
              "    <tr>\n",
              "      <th>212</th>\n",
              "      <td>https://nayoo.co/khonkaen/posts/17516</td>\n",
              "      <td>1800000</td>\n",
              "      <td>1700000.0</td>\n",
              "      <td>1800000.0</td>\n",
              "      <td>1.058824</td>\n",
              "      <td>1.000000</td>\n",
              "    </tr>\n",
              "    <tr>\n",
              "      <th>213</th>\n",
              "      <td>https://nayoo.co/khonkaen/posts/17518</td>\n",
              "      <td>1200000</td>\n",
              "      <td>1100000.0</td>\n",
              "      <td>1200000.0</td>\n",
              "      <td>1.090909</td>\n",
              "      <td>1.000000</td>\n",
              "    </tr>\n",
              "    <tr>\n",
              "      <th>152</th>\n",
              "      <td>https://nayoo.co/khonkaen/posts/2011</td>\n",
              "      <td>1100000</td>\n",
              "      <td>900000.0</td>\n",
              "      <td>1100000.0</td>\n",
              "      <td>1.222222</td>\n",
              "      <td>1.000000</td>\n",
              "    </tr>\n",
              "  </tbody>\n",
              "</table>\n",
              "<p>120 rows × 6 columns</p>\n",
              "</div>\n",
              "      <button class=\"colab-df-convert\" onclick=\"convertToInteractive('df-c27910ba-1fba-429d-b6a1-792a0e7f40e7')\"\n",
              "              title=\"Convert this dataframe to an interactive table.\"\n",
              "              style=\"display:none;\">\n",
              "        \n",
              "  <svg xmlns=\"http://www.w3.org/2000/svg\" height=\"24px\"viewBox=\"0 0 24 24\"\n",
              "       width=\"24px\">\n",
              "    <path d=\"M0 0h24v24H0V0z\" fill=\"none\"/>\n",
              "    <path d=\"M18.56 5.44l.94 2.06.94-2.06 2.06-.94-2.06-.94-.94-2.06-.94 2.06-2.06.94zm-11 1L8.5 8.5l.94-2.06 2.06-.94-2.06-.94L8.5 2.5l-.94 2.06-2.06.94zm10 10l.94 2.06.94-2.06 2.06-.94-2.06-.94-.94-2.06-.94 2.06-2.06.94z\"/><path d=\"M17.41 7.96l-1.37-1.37c-.4-.4-.92-.59-1.43-.59-.52 0-1.04.2-1.43.59L10.3 9.45l-7.72 7.72c-.78.78-.78 2.05 0 2.83L4 21.41c.39.39.9.59 1.41.59.51 0 1.02-.2 1.41-.59l7.78-7.78 2.81-2.81c.8-.78.8-2.07 0-2.86zM5.41 20L4 18.59l7.72-7.72 1.47 1.35L5.41 20z\"/>\n",
              "  </svg>\n",
              "      </button>\n",
              "      \n",
              "  <style>\n",
              "    .colab-df-container {\n",
              "      display:flex;\n",
              "      flex-wrap:wrap;\n",
              "      gap: 12px;\n",
              "    }\n",
              "\n",
              "    .colab-df-convert {\n",
              "      background-color: #E8F0FE;\n",
              "      border: none;\n",
              "      border-radius: 50%;\n",
              "      cursor: pointer;\n",
              "      display: none;\n",
              "      fill: #1967D2;\n",
              "      height: 32px;\n",
              "      padding: 0 0 0 0;\n",
              "      width: 32px;\n",
              "    }\n",
              "\n",
              "    .colab-df-convert:hover {\n",
              "      background-color: #E2EBFA;\n",
              "      box-shadow: 0px 1px 2px rgba(60, 64, 67, 0.3), 0px 1px 3px 1px rgba(60, 64, 67, 0.15);\n",
              "      fill: #174EA6;\n",
              "    }\n",
              "\n",
              "    [theme=dark] .colab-df-convert {\n",
              "      background-color: #3B4455;\n",
              "      fill: #D2E3FC;\n",
              "    }\n",
              "\n",
              "    [theme=dark] .colab-df-convert:hover {\n",
              "      background-color: #434B5C;\n",
              "      box-shadow: 0px 1px 3px 1px rgba(0, 0, 0, 0.15);\n",
              "      filter: drop-shadow(0px 1px 2px rgba(0, 0, 0, 0.3));\n",
              "      fill: #FFFFFF;\n",
              "    }\n",
              "  </style>\n",
              "\n",
              "      <script>\n",
              "        const buttonEl =\n",
              "          document.querySelector('#df-c27910ba-1fba-429d-b6a1-792a0e7f40e7 button.colab-df-convert');\n",
              "        buttonEl.style.display =\n",
              "          google.colab.kernel.accessAllowed ? 'block' : 'none';\n",
              "\n",
              "        async function convertToInteractive(key) {\n",
              "          const element = document.querySelector('#df-c27910ba-1fba-429d-b6a1-792a0e7f40e7');\n",
              "          const dataTable =\n",
              "            await google.colab.kernel.invokeFunction('convertToInteractive',\n",
              "                                                     [key], {});\n",
              "          if (!dataTable) return;\n",
              "\n",
              "          const docLinkHtml = 'Like what you see? Visit the ' +\n",
              "            '<a target=\"_blank\" href=https://colab.research.google.com/notebooks/data_table.ipynb>data table notebook</a>'\n",
              "            + ' to learn more about interactive tables.';\n",
              "          element.innerHTML = '';\n",
              "          dataTable['output_type'] = 'display_data';\n",
              "          await google.colab.output.renderOutput(dataTable, element);\n",
              "          const docLink = document.createElement('div');\n",
              "          docLink.innerHTML = docLinkHtml;\n",
              "          element.appendChild(docLink);\n",
              "        }\n",
              "      </script>\n",
              "    </div>\n",
              "  </div>\n",
              "  "
            ]
          },
          "metadata": {},
          "execution_count": 251
        }
      ]
    },
    {
      "cell_type": "markdown",
      "source": [
        "### MAPE"
      ],
      "metadata": {
        "id": "wxwjpltLstvb"
      }
    },
    {
      "cell_type": "code",
      "source": [
        "townhomeed = pd.read_excel(link,sheet_name='ทาวน์โฮม')\n",
        "idt1 = townhomeed[townhomeed['ID ผู้ประเมิน']==1]\n",
        "idt1 = idt1.dropna(subset=['ราคาทรัพย์','ประเมินราคาซื้อ-ขาย'])\n",
        "idt2 = townhomeed[townhomeed['ID ผู้ประเมิน']==2]\n",
        "idt2 = idt2.dropna(subset=['ราคาทรัพย์','ประเมินราคาซื้อ-ขาย'])\n",
        "idt1MAPE = mape(idt1['ประเมินราคาซื้อ-ขาย'],pd.to_numeric(idt1['ราคาทรัพย์']))\n",
        "idt2MAPE = mape(idt2['ประเมินราคาซื้อ-ขาย'],pd.to_numeric(idt2['ราคาทรัพย์']))\n",
        "print(f'ความแตกต่างระหว่างราคาประกาศขายและราคาประเมินของ\\nบ้าน\\nนักประเมิน คนที่ 1 = {idt1MAPE*100:.2f}%\\nนักประเมิน คนที่ 2 = {idt2MAPE*100:.2f}%')\n",
        "idt2['ประเมิน2'] = idt2['post id'].map(idt1.set_index('post id')['ประเมินราคาซื้อ-ขาย'])\n",
        "id2_t = idt2.dropna(subset=['ประเมินราคาซื้อ-ขาย','ประเมิน2','ราคาทรัพย์'])\n",
        "one2twot = mape(id2_t['ประเมินราคาซื้อ-ขาย'],id2_t['ประเมิน2'])\n",
        "two2onet = mape(id2_t['ประเมิน2'],id2_t['ประเมินราคาซื้อ-ขาย'])\n",
        "print(f'ความผิดพลาดระหว่างนักประเมินทั้ง {((one2twot)+(two2onet))*50:.2f}%')\n",
        "print(f'จำนวนทรัพย์ทั้งหมด {len(id2_t)} ทรัพย์')"
      ],
      "metadata": {
        "id": "J3nnO9QIstK0",
        "outputId": "48bef956-4ad5-42fd-cb4d-c4779f5b56d5",
        "colab": {
          "base_uri": "https://localhost:8080/"
        }
      },
      "execution_count": 252,
      "outputs": [
        {
          "output_type": "stream",
          "name": "stdout",
          "text": [
            "ความแตกต่างระหว่างราคาประกาศขายและราคาประเมินของ\n",
            "บ้าน\n",
            "นักประเมิน คนที่ 1 = 15.26%\n",
            "นักประเมิน คนที่ 2 = 12.20%\n",
            "ความผิดพลาดระหว่างนักประเมินทั้ง 10.92%\n",
            "จำนวนทรัพย์ทั้งหมด 120 ทรัพย์\n"
          ]
        }
      ]
    },
    {
      "cell_type": "markdown",
      "source": [
        "## Shop house"
      ],
      "metadata": {
        "id": "9SQSDDNxAgCO"
      }
    },
    {
      "cell_type": "code",
      "source": [
        "ass_sh['Check1']=ass_sh.apply(lambda x:check_v(x['ราคาทรัพย์'],x['ประเมินโดย 1']),axis=1)\n",
        "ass_sh['Check2']=ass_sh.apply(lambda x:check_v(x['ราคาทรัพย์'],x['ประเมินโดย 2']),axis=1)"
      ],
      "metadata": {
        "id": "w1JW_ONeO7u9"
      },
      "execution_count": 253,
      "outputs": []
    },
    {
      "cell_type": "code",
      "source": [
        "ass_sh.sort_values(by=['Check1'], ascending=False)"
      ],
      "metadata": {
        "id": "ZBCimZZePLr9",
        "outputId": "695e71d1-2694-4c78-b465-bf11323a199e",
        "colab": {
          "base_uri": "https://localhost:8080/",
          "height": 424
        }
      },
      "execution_count": 254,
      "outputs": [
        {
          "output_type": "execute_result",
          "data": {
            "text/plain": [
              "                                  post id  ราคาทรัพย์  ประเมินโดย 1  \\\n",
              "9      https://nayoo.co/khonkaen/posts/24     3900000     2200000.0   \n",
              "5      https://nayoo.co/khonkaen/posts/21    22500000    13500000.0   \n",
              "169  https://nayoo.co/khonkaen/posts/6043     2240000     3500000.0   \n",
              "87    https://nayoo.co/khonkaen/posts/707     1450000     2200000.0   \n",
              "81    https://nayoo.co/khonkaen/posts/701     1925000     2700000.0   \n",
              "..                                    ...         ...           ...   \n",
              "61    https://nayoo.co/khonkaen/posts/643     4180000     4200000.0   \n",
              "65    https://nayoo.co/khonkaen/posts/651     2200000     2200000.0   \n",
              "161  https://nayoo.co/khonkaen/posts/5995     3000000     3000000.0   \n",
              "177  https://nayoo.co/khonkaen/posts/6123     2200000     2200000.0   \n",
              "17    https://nayoo.co/khonkaen/posts/498     7000000     7000000.0   \n",
              "\n",
              "     ประเมินโดย 2    Check1    Check2  \n",
              "9       3000000.0  1.772727  1.300000  \n",
              "5      20000000.0  1.666667  1.125000  \n",
              "169     3000000.0  1.562500  1.339286  \n",
              "87      3200000.0  1.517241  2.206897  \n",
              "81      2000000.0  1.402597  1.038961  \n",
              "..            ...       ...       ...  \n",
              "61      4200000.0  1.004785  1.004785  \n",
              "65      2000000.0  1.000000  1.100000  \n",
              "161     6000000.0  1.000000  2.000000  \n",
              "177     2200000.0  1.000000  1.000000  \n",
              "17      8000000.0  1.000000  1.142857  \n",
              "\n",
              "[91 rows x 6 columns]"
            ],
            "text/html": [
              "\n",
              "  <div id=\"df-709dfa60-ceb9-41bd-982c-d4e6a88fcf95\">\n",
              "    <div class=\"colab-df-container\">\n",
              "      <div>\n",
              "<style scoped>\n",
              "    .dataframe tbody tr th:only-of-type {\n",
              "        vertical-align: middle;\n",
              "    }\n",
              "\n",
              "    .dataframe tbody tr th {\n",
              "        vertical-align: top;\n",
              "    }\n",
              "\n",
              "    .dataframe thead th {\n",
              "        text-align: right;\n",
              "    }\n",
              "</style>\n",
              "<table border=\"1\" class=\"dataframe\">\n",
              "  <thead>\n",
              "    <tr style=\"text-align: right;\">\n",
              "      <th></th>\n",
              "      <th>post id</th>\n",
              "      <th>ราคาทรัพย์</th>\n",
              "      <th>ประเมินโดย 1</th>\n",
              "      <th>ประเมินโดย 2</th>\n",
              "      <th>Check1</th>\n",
              "      <th>Check2</th>\n",
              "    </tr>\n",
              "  </thead>\n",
              "  <tbody>\n",
              "    <tr>\n",
              "      <th>9</th>\n",
              "      <td>https://nayoo.co/khonkaen/posts/24</td>\n",
              "      <td>3900000</td>\n",
              "      <td>2200000.0</td>\n",
              "      <td>3000000.0</td>\n",
              "      <td>1.772727</td>\n",
              "      <td>1.300000</td>\n",
              "    </tr>\n",
              "    <tr>\n",
              "      <th>5</th>\n",
              "      <td>https://nayoo.co/khonkaen/posts/21</td>\n",
              "      <td>22500000</td>\n",
              "      <td>13500000.0</td>\n",
              "      <td>20000000.0</td>\n",
              "      <td>1.666667</td>\n",
              "      <td>1.125000</td>\n",
              "    </tr>\n",
              "    <tr>\n",
              "      <th>169</th>\n",
              "      <td>https://nayoo.co/khonkaen/posts/6043</td>\n",
              "      <td>2240000</td>\n",
              "      <td>3500000.0</td>\n",
              "      <td>3000000.0</td>\n",
              "      <td>1.562500</td>\n",
              "      <td>1.339286</td>\n",
              "    </tr>\n",
              "    <tr>\n",
              "      <th>87</th>\n",
              "      <td>https://nayoo.co/khonkaen/posts/707</td>\n",
              "      <td>1450000</td>\n",
              "      <td>2200000.0</td>\n",
              "      <td>3200000.0</td>\n",
              "      <td>1.517241</td>\n",
              "      <td>2.206897</td>\n",
              "    </tr>\n",
              "    <tr>\n",
              "      <th>81</th>\n",
              "      <td>https://nayoo.co/khonkaen/posts/701</td>\n",
              "      <td>1925000</td>\n",
              "      <td>2700000.0</td>\n",
              "      <td>2000000.0</td>\n",
              "      <td>1.402597</td>\n",
              "      <td>1.038961</td>\n",
              "    </tr>\n",
              "    <tr>\n",
              "      <th>...</th>\n",
              "      <td>...</td>\n",
              "      <td>...</td>\n",
              "      <td>...</td>\n",
              "      <td>...</td>\n",
              "      <td>...</td>\n",
              "      <td>...</td>\n",
              "    </tr>\n",
              "    <tr>\n",
              "      <th>61</th>\n",
              "      <td>https://nayoo.co/khonkaen/posts/643</td>\n",
              "      <td>4180000</td>\n",
              "      <td>4200000.0</td>\n",
              "      <td>4200000.0</td>\n",
              "      <td>1.004785</td>\n",
              "      <td>1.004785</td>\n",
              "    </tr>\n",
              "    <tr>\n",
              "      <th>65</th>\n",
              "      <td>https://nayoo.co/khonkaen/posts/651</td>\n",
              "      <td>2200000</td>\n",
              "      <td>2200000.0</td>\n",
              "      <td>2000000.0</td>\n",
              "      <td>1.000000</td>\n",
              "      <td>1.100000</td>\n",
              "    </tr>\n",
              "    <tr>\n",
              "      <th>161</th>\n",
              "      <td>https://nayoo.co/khonkaen/posts/5995</td>\n",
              "      <td>3000000</td>\n",
              "      <td>3000000.0</td>\n",
              "      <td>6000000.0</td>\n",
              "      <td>1.000000</td>\n",
              "      <td>2.000000</td>\n",
              "    </tr>\n",
              "    <tr>\n",
              "      <th>177</th>\n",
              "      <td>https://nayoo.co/khonkaen/posts/6123</td>\n",
              "      <td>2200000</td>\n",
              "      <td>2200000.0</td>\n",
              "      <td>2200000.0</td>\n",
              "      <td>1.000000</td>\n",
              "      <td>1.000000</td>\n",
              "    </tr>\n",
              "    <tr>\n",
              "      <th>17</th>\n",
              "      <td>https://nayoo.co/khonkaen/posts/498</td>\n",
              "      <td>7000000</td>\n",
              "      <td>7000000.0</td>\n",
              "      <td>8000000.0</td>\n",
              "      <td>1.000000</td>\n",
              "      <td>1.142857</td>\n",
              "    </tr>\n",
              "  </tbody>\n",
              "</table>\n",
              "<p>91 rows × 6 columns</p>\n",
              "</div>\n",
              "      <button class=\"colab-df-convert\" onclick=\"convertToInteractive('df-709dfa60-ceb9-41bd-982c-d4e6a88fcf95')\"\n",
              "              title=\"Convert this dataframe to an interactive table.\"\n",
              "              style=\"display:none;\">\n",
              "        \n",
              "  <svg xmlns=\"http://www.w3.org/2000/svg\" height=\"24px\"viewBox=\"0 0 24 24\"\n",
              "       width=\"24px\">\n",
              "    <path d=\"M0 0h24v24H0V0z\" fill=\"none\"/>\n",
              "    <path d=\"M18.56 5.44l.94 2.06.94-2.06 2.06-.94-2.06-.94-.94-2.06-.94 2.06-2.06.94zm-11 1L8.5 8.5l.94-2.06 2.06-.94-2.06-.94L8.5 2.5l-.94 2.06-2.06.94zm10 10l.94 2.06.94-2.06 2.06-.94-2.06-.94-.94-2.06-.94 2.06-2.06.94z\"/><path d=\"M17.41 7.96l-1.37-1.37c-.4-.4-.92-.59-1.43-.59-.52 0-1.04.2-1.43.59L10.3 9.45l-7.72 7.72c-.78.78-.78 2.05 0 2.83L4 21.41c.39.39.9.59 1.41.59.51 0 1.02-.2 1.41-.59l7.78-7.78 2.81-2.81c.8-.78.8-2.07 0-2.86zM5.41 20L4 18.59l7.72-7.72 1.47 1.35L5.41 20z\"/>\n",
              "  </svg>\n",
              "      </button>\n",
              "      \n",
              "  <style>\n",
              "    .colab-df-container {\n",
              "      display:flex;\n",
              "      flex-wrap:wrap;\n",
              "      gap: 12px;\n",
              "    }\n",
              "\n",
              "    .colab-df-convert {\n",
              "      background-color: #E8F0FE;\n",
              "      border: none;\n",
              "      border-radius: 50%;\n",
              "      cursor: pointer;\n",
              "      display: none;\n",
              "      fill: #1967D2;\n",
              "      height: 32px;\n",
              "      padding: 0 0 0 0;\n",
              "      width: 32px;\n",
              "    }\n",
              "\n",
              "    .colab-df-convert:hover {\n",
              "      background-color: #E2EBFA;\n",
              "      box-shadow: 0px 1px 2px rgba(60, 64, 67, 0.3), 0px 1px 3px 1px rgba(60, 64, 67, 0.15);\n",
              "      fill: #174EA6;\n",
              "    }\n",
              "\n",
              "    [theme=dark] .colab-df-convert {\n",
              "      background-color: #3B4455;\n",
              "      fill: #D2E3FC;\n",
              "    }\n",
              "\n",
              "    [theme=dark] .colab-df-convert:hover {\n",
              "      background-color: #434B5C;\n",
              "      box-shadow: 0px 1px 3px 1px rgba(0, 0, 0, 0.15);\n",
              "      filter: drop-shadow(0px 1px 2px rgba(0, 0, 0, 0.3));\n",
              "      fill: #FFFFFF;\n",
              "    }\n",
              "  </style>\n",
              "\n",
              "      <script>\n",
              "        const buttonEl =\n",
              "          document.querySelector('#df-709dfa60-ceb9-41bd-982c-d4e6a88fcf95 button.colab-df-convert');\n",
              "        buttonEl.style.display =\n",
              "          google.colab.kernel.accessAllowed ? 'block' : 'none';\n",
              "\n",
              "        async function convertToInteractive(key) {\n",
              "          const element = document.querySelector('#df-709dfa60-ceb9-41bd-982c-d4e6a88fcf95');\n",
              "          const dataTable =\n",
              "            await google.colab.kernel.invokeFunction('convertToInteractive',\n",
              "                                                     [key], {});\n",
              "          if (!dataTable) return;\n",
              "\n",
              "          const docLinkHtml = 'Like what you see? Visit the ' +\n",
              "            '<a target=\"_blank\" href=https://colab.research.google.com/notebooks/data_table.ipynb>data table notebook</a>'\n",
              "            + ' to learn more about interactive tables.';\n",
              "          element.innerHTML = '';\n",
              "          dataTable['output_type'] = 'display_data';\n",
              "          await google.colab.output.renderOutput(dataTable, element);\n",
              "          const docLink = document.createElement('div');\n",
              "          docLink.innerHTML = docLinkHtml;\n",
              "          element.appendChild(docLink);\n",
              "        }\n",
              "      </script>\n",
              "    </div>\n",
              "  </div>\n",
              "  "
            ]
          },
          "metadata": {},
          "execution_count": 254
        }
      ]
    },
    {
      "cell_type": "code",
      "source": [
        "ass_sh.sort_values(by=['Check2'], ascending=False)"
      ],
      "metadata": {
        "id": "E6AqtmF2PNmN",
        "outputId": "757840c9-55dd-4d1f-927d-4a455ca98eb8",
        "colab": {
          "base_uri": "https://localhost:8080/",
          "height": 424
        }
      },
      "execution_count": 255,
      "outputs": [
        {
          "output_type": "execute_result",
          "data": {
            "text/plain": [
              "                                  post id  ราคาทรัพย์  ประเมินโดย 1  \\\n",
              "163  https://nayoo.co/khonkaen/posts/6009     2250000     2700000.0   \n",
              "87    https://nayoo.co/khonkaen/posts/707     1450000     2200000.0   \n",
              "161  https://nayoo.co/khonkaen/posts/5995     3000000     3000000.0   \n",
              "49    https://nayoo.co/khonkaen/posts/602     2520000     3300000.0   \n",
              "169  https://nayoo.co/khonkaen/posts/6043     2240000     3500000.0   \n",
              "..                                    ...         ...           ...   \n",
              "121  https://nayoo.co/khonkaen/posts/2180     5000000     4000000.0   \n",
              "109  https://nayoo.co/khonkaen/posts/1885     3500000     3400000.0   \n",
              "107  https://nayoo.co/khonkaen/posts/1858     1500000     2000000.0   \n",
              "101  https://nayoo.co/khonkaen/posts/1614     2500000     2700000.0   \n",
              "127  https://nayoo.co/khonkaen/posts/2247     1900000     2500000.0   \n",
              "\n",
              "     ประเมินโดย 2    Check1    Check2  \n",
              "163     5000000.0  1.200000  2.222222  \n",
              "87      3200000.0  1.517241  2.206897  \n",
              "161     6000000.0  1.000000  2.000000  \n",
              "49      3500000.0  1.309524  1.388889  \n",
              "169     3000000.0  1.562500  1.339286  \n",
              "..            ...       ...       ...  \n",
              "121     5000000.0  1.250000  1.000000  \n",
              "109     3500000.0  1.029412  1.000000  \n",
              "107     1500000.0  1.333333  1.000000  \n",
              "101     2500000.0  1.080000  1.000000  \n",
              "127     1900000.0  1.315789  1.000000  \n",
              "\n",
              "[91 rows x 6 columns]"
            ],
            "text/html": [
              "\n",
              "  <div id=\"df-9785bb2b-f404-43ef-8eaf-8b5ade0ae84e\">\n",
              "    <div class=\"colab-df-container\">\n",
              "      <div>\n",
              "<style scoped>\n",
              "    .dataframe tbody tr th:only-of-type {\n",
              "        vertical-align: middle;\n",
              "    }\n",
              "\n",
              "    .dataframe tbody tr th {\n",
              "        vertical-align: top;\n",
              "    }\n",
              "\n",
              "    .dataframe thead th {\n",
              "        text-align: right;\n",
              "    }\n",
              "</style>\n",
              "<table border=\"1\" class=\"dataframe\">\n",
              "  <thead>\n",
              "    <tr style=\"text-align: right;\">\n",
              "      <th></th>\n",
              "      <th>post id</th>\n",
              "      <th>ราคาทรัพย์</th>\n",
              "      <th>ประเมินโดย 1</th>\n",
              "      <th>ประเมินโดย 2</th>\n",
              "      <th>Check1</th>\n",
              "      <th>Check2</th>\n",
              "    </tr>\n",
              "  </thead>\n",
              "  <tbody>\n",
              "    <tr>\n",
              "      <th>163</th>\n",
              "      <td>https://nayoo.co/khonkaen/posts/6009</td>\n",
              "      <td>2250000</td>\n",
              "      <td>2700000.0</td>\n",
              "      <td>5000000.0</td>\n",
              "      <td>1.200000</td>\n",
              "      <td>2.222222</td>\n",
              "    </tr>\n",
              "    <tr>\n",
              "      <th>87</th>\n",
              "      <td>https://nayoo.co/khonkaen/posts/707</td>\n",
              "      <td>1450000</td>\n",
              "      <td>2200000.0</td>\n",
              "      <td>3200000.0</td>\n",
              "      <td>1.517241</td>\n",
              "      <td>2.206897</td>\n",
              "    </tr>\n",
              "    <tr>\n",
              "      <th>161</th>\n",
              "      <td>https://nayoo.co/khonkaen/posts/5995</td>\n",
              "      <td>3000000</td>\n",
              "      <td>3000000.0</td>\n",
              "      <td>6000000.0</td>\n",
              "      <td>1.000000</td>\n",
              "      <td>2.000000</td>\n",
              "    </tr>\n",
              "    <tr>\n",
              "      <th>49</th>\n",
              "      <td>https://nayoo.co/khonkaen/posts/602</td>\n",
              "      <td>2520000</td>\n",
              "      <td>3300000.0</td>\n",
              "      <td>3500000.0</td>\n",
              "      <td>1.309524</td>\n",
              "      <td>1.388889</td>\n",
              "    </tr>\n",
              "    <tr>\n",
              "      <th>169</th>\n",
              "      <td>https://nayoo.co/khonkaen/posts/6043</td>\n",
              "      <td>2240000</td>\n",
              "      <td>3500000.0</td>\n",
              "      <td>3000000.0</td>\n",
              "      <td>1.562500</td>\n",
              "      <td>1.339286</td>\n",
              "    </tr>\n",
              "    <tr>\n",
              "      <th>...</th>\n",
              "      <td>...</td>\n",
              "      <td>...</td>\n",
              "      <td>...</td>\n",
              "      <td>...</td>\n",
              "      <td>...</td>\n",
              "      <td>...</td>\n",
              "    </tr>\n",
              "    <tr>\n",
              "      <th>121</th>\n",
              "      <td>https://nayoo.co/khonkaen/posts/2180</td>\n",
              "      <td>5000000</td>\n",
              "      <td>4000000.0</td>\n",
              "      <td>5000000.0</td>\n",
              "      <td>1.250000</td>\n",
              "      <td>1.000000</td>\n",
              "    </tr>\n",
              "    <tr>\n",
              "      <th>109</th>\n",
              "      <td>https://nayoo.co/khonkaen/posts/1885</td>\n",
              "      <td>3500000</td>\n",
              "      <td>3400000.0</td>\n",
              "      <td>3500000.0</td>\n",
              "      <td>1.029412</td>\n",
              "      <td>1.000000</td>\n",
              "    </tr>\n",
              "    <tr>\n",
              "      <th>107</th>\n",
              "      <td>https://nayoo.co/khonkaen/posts/1858</td>\n",
              "      <td>1500000</td>\n",
              "      <td>2000000.0</td>\n",
              "      <td>1500000.0</td>\n",
              "      <td>1.333333</td>\n",
              "      <td>1.000000</td>\n",
              "    </tr>\n",
              "    <tr>\n",
              "      <th>101</th>\n",
              "      <td>https://nayoo.co/khonkaen/posts/1614</td>\n",
              "      <td>2500000</td>\n",
              "      <td>2700000.0</td>\n",
              "      <td>2500000.0</td>\n",
              "      <td>1.080000</td>\n",
              "      <td>1.000000</td>\n",
              "    </tr>\n",
              "    <tr>\n",
              "      <th>127</th>\n",
              "      <td>https://nayoo.co/khonkaen/posts/2247</td>\n",
              "      <td>1900000</td>\n",
              "      <td>2500000.0</td>\n",
              "      <td>1900000.0</td>\n",
              "      <td>1.315789</td>\n",
              "      <td>1.000000</td>\n",
              "    </tr>\n",
              "  </tbody>\n",
              "</table>\n",
              "<p>91 rows × 6 columns</p>\n",
              "</div>\n",
              "      <button class=\"colab-df-convert\" onclick=\"convertToInteractive('df-9785bb2b-f404-43ef-8eaf-8b5ade0ae84e')\"\n",
              "              title=\"Convert this dataframe to an interactive table.\"\n",
              "              style=\"display:none;\">\n",
              "        \n",
              "  <svg xmlns=\"http://www.w3.org/2000/svg\" height=\"24px\"viewBox=\"0 0 24 24\"\n",
              "       width=\"24px\">\n",
              "    <path d=\"M0 0h24v24H0V0z\" fill=\"none\"/>\n",
              "    <path d=\"M18.56 5.44l.94 2.06.94-2.06 2.06-.94-2.06-.94-.94-2.06-.94 2.06-2.06.94zm-11 1L8.5 8.5l.94-2.06 2.06-.94-2.06-.94L8.5 2.5l-.94 2.06-2.06.94zm10 10l.94 2.06.94-2.06 2.06-.94-2.06-.94-.94-2.06-.94 2.06-2.06.94z\"/><path d=\"M17.41 7.96l-1.37-1.37c-.4-.4-.92-.59-1.43-.59-.52 0-1.04.2-1.43.59L10.3 9.45l-7.72 7.72c-.78.78-.78 2.05 0 2.83L4 21.41c.39.39.9.59 1.41.59.51 0 1.02-.2 1.41-.59l7.78-7.78 2.81-2.81c.8-.78.8-2.07 0-2.86zM5.41 20L4 18.59l7.72-7.72 1.47 1.35L5.41 20z\"/>\n",
              "  </svg>\n",
              "      </button>\n",
              "      \n",
              "  <style>\n",
              "    .colab-df-container {\n",
              "      display:flex;\n",
              "      flex-wrap:wrap;\n",
              "      gap: 12px;\n",
              "    }\n",
              "\n",
              "    .colab-df-convert {\n",
              "      background-color: #E8F0FE;\n",
              "      border: none;\n",
              "      border-radius: 50%;\n",
              "      cursor: pointer;\n",
              "      display: none;\n",
              "      fill: #1967D2;\n",
              "      height: 32px;\n",
              "      padding: 0 0 0 0;\n",
              "      width: 32px;\n",
              "    }\n",
              "\n",
              "    .colab-df-convert:hover {\n",
              "      background-color: #E2EBFA;\n",
              "      box-shadow: 0px 1px 2px rgba(60, 64, 67, 0.3), 0px 1px 3px 1px rgba(60, 64, 67, 0.15);\n",
              "      fill: #174EA6;\n",
              "    }\n",
              "\n",
              "    [theme=dark] .colab-df-convert {\n",
              "      background-color: #3B4455;\n",
              "      fill: #D2E3FC;\n",
              "    }\n",
              "\n",
              "    [theme=dark] .colab-df-convert:hover {\n",
              "      background-color: #434B5C;\n",
              "      box-shadow: 0px 1px 3px 1px rgba(0, 0, 0, 0.15);\n",
              "      filter: drop-shadow(0px 1px 2px rgba(0, 0, 0, 0.3));\n",
              "      fill: #FFFFFF;\n",
              "    }\n",
              "  </style>\n",
              "\n",
              "      <script>\n",
              "        const buttonEl =\n",
              "          document.querySelector('#df-9785bb2b-f404-43ef-8eaf-8b5ade0ae84e button.colab-df-convert');\n",
              "        buttonEl.style.display =\n",
              "          google.colab.kernel.accessAllowed ? 'block' : 'none';\n",
              "\n",
              "        async function convertToInteractive(key) {\n",
              "          const element = document.querySelector('#df-9785bb2b-f404-43ef-8eaf-8b5ade0ae84e');\n",
              "          const dataTable =\n",
              "            await google.colab.kernel.invokeFunction('convertToInteractive',\n",
              "                                                     [key], {});\n",
              "          if (!dataTable) return;\n",
              "\n",
              "          const docLinkHtml = 'Like what you see? Visit the ' +\n",
              "            '<a target=\"_blank\" href=https://colab.research.google.com/notebooks/data_table.ipynb>data table notebook</a>'\n",
              "            + ' to learn more about interactive tables.';\n",
              "          element.innerHTML = '';\n",
              "          dataTable['output_type'] = 'display_data';\n",
              "          await google.colab.output.renderOutput(dataTable, element);\n",
              "          const docLink = document.createElement('div');\n",
              "          docLink.innerHTML = docLinkHtml;\n",
              "          element.appendChild(docLink);\n",
              "        }\n",
              "      </script>\n",
              "    </div>\n",
              "  </div>\n",
              "  "
            ]
          },
          "metadata": {},
          "execution_count": 255
        }
      ]
    },
    {
      "cell_type": "markdown",
      "source": [
        "### MAPE"
      ],
      "metadata": {
        "id": "-816ljA0BFBb"
      }
    },
    {
      "cell_type": "code",
      "source": [
        "shophouseed = pd.read_excel(link,sheet_name='อาคารพาณิชย์')\n",
        "ids1 = shophouseed[shophouseed['ID ผู้ประเมิน']==1]\n",
        "ids1 = ids1.dropna(subset=['ราคาทรัพย์','ประเมินราคาซื้อ-ขาย'])\n",
        "ids2 = shophouseed[shophouseed['ID ผู้ประเมิน']==2]\n",
        "ids2 = ids2.dropna(subset=['ราคาทรัพย์','ประเมินราคาซื้อ-ขาย'])\n",
        "ids1MAPE = mape(ids1['ประเมินราคาซื้อ-ขาย'],pd.to_numeric(ids1['ราคาทรัพย์']))\n",
        "ids2MAPE = mape(ids2['ประเมินราคาซื้อ-ขาย'],pd.to_numeric(ids2['ราคาทรัพย์']))\n",
        "print(f'ความแตกต่างระหว่างราคาประกาศขายและราคาประเมินของ\\nบ้าน\\nนักประเมิน คนที่ 1 = {ids1MAPE*100:.2f}%\\nนักประเมิน คนที่ 2 = {ids2MAPE*100:.2f}%')\n",
        "ids2['ประเมิน2'] = ids2['post id'].map(ids1.set_index('post id')['ประเมินราคาซื้อ-ขาย'])\n",
        "id2_s = idt2.dropna(subset=['ประเมินราคาซื้อ-ขาย','ประเมิน2','ราคาทรัพย์'])\n",
        "one2twos = mape(id2_s['ประเมินราคาซื้อ-ขาย'],id2_s['ประเมิน2'])\n",
        "two2ones = mape(id2_s['ประเมิน2'],id2_s['ประเมินราคาซื้อ-ขาย'])\n",
        "print(f'ความผิดพลาดระหว่างนักประเมินทั้ง {((one2twos)+(two2ones))*50:.2f}%')\n",
        "print(f'จำนวนทรัพย์ทั้งหมด {len(id2_s)} ทรัพย์')"
      ],
      "metadata": {
        "id": "HSKxo-3FBIvL",
        "outputId": "cb5933d8-9576-43b7-f84a-15fd0fb336fe",
        "colab": {
          "base_uri": "https://localhost:8080/"
        }
      },
      "execution_count": 256,
      "outputs": [
        {
          "output_type": "stream",
          "name": "stdout",
          "text": [
            "ความแตกต่างระหว่างราคาประกาศขายและราคาประเมินของ\n",
            "บ้าน\n",
            "นักประเมิน คนที่ 1 = 20.25%\n",
            "นักประเมิน คนที่ 2 = 9.49%\n",
            "ความผิดพลาดระหว่างนักประเมินทั้ง 10.92%\n",
            "จำนวนทรัพย์ทั้งหมด 120 ทรัพย์\n"
          ]
        }
      ]
    },
    {
      "cell_type": "markdown",
      "source": [
        "# HW3"
      ],
      "metadata": {
        "id": "_TA16PQjdsY1"
      }
    },
    {
      "cell_type": "markdown",
      "source": [
        "#visualize แสดงความสัมพันธ์ ราคา(ตั้งขายและประเมิน)-ความมั่นใจ-ให้คะแนนทรัพย์"
      ],
      "metadata": {
        "id": "yZkRzNfddtjK"
      }
    },
    {
      "cell_type": "code",
      "source": [
        "import pandas as pd\n",
        "from matplotlib import pyplot as plt\n",
        "import matplotlib\n",
        "import seaborn as sns\n",
        "from matplotlib.pyplot import figure"
      ],
      "metadata": {
        "id": "DusoTe_jdyZj"
      },
      "execution_count": 257,
      "outputs": []
    },
    {
      "cell_type": "code",
      "source": [
        "!wget -q https://github.com/Phonbopit/sarabun-webfont/raw/master/fonts/thsarabunnew-webfont.ttf\n",
        "matplotlib.font_manager.fontManager.addfont('thsarabunnew-webfont.ttf')\n",
        "matplotlib.rc('font', family='TH Sarabun New')"
      ],
      "metadata": {
        "id": "iy-GNluBBCca"
      },
      "execution_count": 258,
      "outputs": []
    },
    {
      "cell_type": "code",
      "source": [
        "est_list = [datahed,dataled,condoed,townhomeed,shophouseed]  # List of your dataframes\n",
        "all_est = pd.concat(est_list)\n",
        "all_est.shape\n",
        "all_est_old = all_est"
      ],
      "metadata": {
        "id": "7C_zRI5RTfAF"
      },
      "execution_count": 259,
      "outputs": []
    },
    {
      "cell_type": "code",
      "source": [
        "all = all_est[['ID ผู้ประเมิน','ความมั่นใจในการเมินราคาทรัพย์', 'ราคาทรัพย์', 'ประเมินราคาซื้อ-ขาย',  'ให้คะแนนทรัพย์']]"
      ],
      "metadata": {
        "id": "rY6-k2acYp8P"
      },
      "execution_count": 260,
      "outputs": []
    },
    {
      "cell_type": "code",
      "source": [
        "all_est1 = all_est[all_est['ID ผู้ประเมิน']==1]\n",
        "all_est2 = all_est[all_est['ID ผู้ประเมิน']==2]"
      ],
      "metadata": {
        "id": "zqqlQMQKZCJe"
      },
      "execution_count": 261,
      "outputs": []
    },
    {
      "cell_type": "code",
      "source": [
        "all_est_score = all_est.pivot_table('post id',index='ให้คะแนนทรัพย์',columns='property_type',aggfunc='count').reset_index().fillna(0)"
      ],
      "metadata": {
        "id": "7bdut-nxW2V3"
      },
      "execution_count": 262,
      "outputs": []
    },
    {
      "cell_type": "code",
      "source": [
        "all_est_con = all_est.pivot_table('post id',index='property_type',columns='ความมั่นใจในการเมินราคาทรัพย์',aggfunc='count').reset_index().fillna(0)"
      ],
      "metadata": {
        "id": "fQF-ZLXnaahg"
      },
      "execution_count": 263,
      "outputs": []
    },
    {
      "cell_type": "markdown",
      "source": [
        "## ราคาทรัพย์และการประเมินราคา"
      ],
      "metadata": {
        "id": "aytVEvYXEUwr"
      }
    },
    {
      "cell_type": "code",
      "source": [
        "plt.plot(all['ราคาทรัพย์'], linestyle='-', linewidth=7, color='royalblue', label='ราคาทรัพย์')\n",
        "plt.plot(all_est1['ประเมินราคาซื้อ-ขาย'], linestyle='-', linewidth=5 , color='lightcoral', label='นักประเมินคนที่ 1')\n",
        "plt.plot(all_est2['ประเมินราคาซื้อ-ขาย'], linestyle='-',linewidth=2 , color='yellowgreen',  label='นักประเมินคนที่ 2')\n",
        "plt.title('ราคาทรัพย์และการประเมินราคา')"
      ],
      "metadata": {
        "colab": {
          "base_uri": "https://localhost:8080/",
          "height": 625
        },
        "id": "TZbma49iZyoe",
        "outputId": "d7fb36a7-8c32-4b59-c274-82c416e72e2a"
      },
      "execution_count": 264,
      "outputs": [
        {
          "output_type": "execute_result",
          "data": {
            "text/plain": [
              "Text(0.5, 1.0, 'ราคาทรัพย์และการประเมินราคา')"
            ]
          },
          "metadata": {},
          "execution_count": 264
        },
        {
          "output_type": "display_data",
          "data": {
            "text/plain": [
              "<Figure size 720x720 with 1 Axes>"
            ],
            "image/png": "[encoded data removed]"
          },
          "metadata": {
            "needs_background": "light"
          }
        }
      ]
    },
    {
      "cell_type": "markdown",
      "source": [
        "## ความมั่นใจในการประเมิน"
      ],
      "metadata": {
        "id": "h6VMVTE4AiRU"
      }
    },
    {
      "cell_type": "code",
      "source": [
        "allc = all.groupby(['ID ผู้ประเมิน','ความมั่นใจในการเมินราคาทรัพย์'])[['ความมั่นใจในการเมินราคาทรัพย์']].count().iloc[:2]"
      ],
      "metadata": {
        "id": "N0aX473rZT8D"
      },
      "execution_count": 265,
      "outputs": []
    },
    {
      "cell_type": "code",
      "source": [
        "plt.rcParams['figure.figsize']=[16,8]\n",
        "plt.suptitle('ความมั่นใจในการประเมินราคาทรัพย์สินต่างๆ', fontsize = 20)\n",
        "\n",
        "plt.barh([1,2],allc['ความมั่นใจในการเมินราคาทรัพย์'],color=['#472183','#82C3EC']) \n",
        "plt.yticks([1,2],['est1','est2'])\n",
        "plt.title('Home')"
      ],
      "metadata": {
        "colab": {
          "base_uri": "https://localhost:8080/",
          "height": 556
        },
        "id": "RDRKSi-tZeSG",
        "outputId": "d16585d9-a1f4-4feb-bd90-d86920ea3045"
      },
      "execution_count": 266,
      "outputs": [
        {
          "output_type": "execute_result",
          "data": {
            "text/plain": [
              "Text(0.5, 1.0, 'Home')"
            ]
          },
          "metadata": {},
          "execution_count": 266
        },
        {
          "output_type": "display_data",
          "data": {
            "text/plain": [
              "<Figure size 1152x576 with 1 Axes>"
            ],
            "image/png": "[encoded data removed]"
          },
          "metadata": {
            "needs_background": "light"
          }
        }
      ]
    },
    {
      "cell_type": "code",
      "source": [
        "matplotlib.rcParams['figure.figsize']=[10,10]\n",
        "name = all_est_score.reset_index()['ให้คะแนนทรัพย์']\n",
        "aaa = all_est_score['คอนโด']\n",
        "bbb = all_est_score['ทาวน์โฮม']\n",
        "ccc = all_est_score['ที่ดิน']\n",
        "ddd = all_est_score['บ้านเดี่ยว']\n",
        "eee = all_est_score['บ้านแฝด']\n",
        "fff = all_est_score['อาคารพาณิชย์/สำนักงาน']\n",
        "x = np.arange(len(aaa))\n",
        "x2=x\n",
        "w=0.2\n",
        "plt.bar(x,aaa,width=w,color='pink',label='SepalLength')\n",
        "x=x+w\n",
        "plt.bar(x,bbb,width=w,color='powderblue',alpha = 0.9,label='SepalWidth')\n",
        "x=x+w\n",
        "plt.bar(x,ccc,width=w,color='plum',alpha = 0.72,label='PetalLength')\n",
        "x=x+w\n",
        "plt.bar(x,ddd,width=w,color='lightgreen',alpha = 0.9,label='PetalWidth')\n",
        "x=x+w\n",
        "plt.bar(x,eee,width=w,color='silver',alpha = 0.9,label='PetalWidth')\n",
        "x=x+w\n",
        "plt.bar(x,fff,width=w,color='beige',alpha = 0.9,label='PetalWidth')\n",
        "plt.xticks(x2+(w+(w/2)),name,rotation=90)\n",
        "plt.legend();\n"
      ],
      "metadata": {
        "colab": {
          "base_uri": "https://localhost:8080/",
          "height": 731
        },
        "id": "N2E3b6p4XKgO",
        "outputId": "ead4d0a6-e250-45d1-fe32-240bd5dfadba"
      },
      "execution_count": 267,
      "outputs": [
        {
          "output_type": "display_data",
          "data": {
            "text/plain": [
              "<Figure size 720x720 with 1 Axes>"
            ],
            "image/png": "[encoded data removed]"
          },
          "metadata": {
            "needs_background": "light"
          }
        }
      ]
    },
    {
      "cell_type": "markdown",
      "source": [
        "## ความมั่นใจกับสินทรัพย์"
      ],
      "metadata": {
        "id": "-EA71-bzcnGZ"
      }
    },
    {
      "cell_type": "code",
      "source": [
        "# width of the bars\n",
        "barWidth = 0.3\n",
        " \n",
        "# Choose the height of the blue bars\n",
        "bars1 = all_est_con['มั่นใจ']\n",
        " \n",
        "# Choose the height of the cyan bars\n",
        "bars2 = all_est_con['ไม่มั่นใจ']\n",
        " \n",
        "# The x position of bars\n",
        "r1 = np.arange(len(bars1))\n",
        "r2 = [x + barWidth for x in r1]\n",
        " \n",
        "# Create blue bars\n",
        "plt.bar(r1, bars1, width = barWidth, color = 'grey', edgecolor = 'black',capsize=5, label='มั่นใจ')\n",
        " \n",
        "# Create cyan bars\n",
        "plt.bar(r2, bars2, width = barWidth, color = 'blue', edgecolor = 'black',capsize=5, label='ไม่มั่นใจ')\n",
        " \n",
        "# general layout\n",
        "plt.xticks([(r + 0.45) - barWidth for r in range(len(bars1))], ['คอนโด','ทาวน์โฮม','ที่ดิน','บ้านเดี่ยว','บ้านแฝด','อาคารพาณิชย์/สำนักงาน'])\n",
        "plt.ylabel('count')\n",
        "plt.xlabel('ความมั่นใจในการเมินราคาทรัพย์')\n",
        "plt.title('ความมั่นใจในการเมินราคาทรัพย์ของสินทรัพย์แต่ละชนิด')\n",
        "plt.legend();\n",
        " \n",
        "# Show graphic\n",
        "plt.show()"
      ],
      "metadata": {
        "colab": {
          "base_uri": "https://localhost:8080/",
          "height": 627
        },
        "id": "YDIEGcpraTF-",
        "outputId": "514775b2-77ac-4f28-df08-8756955ebb9b"
      },
      "execution_count": 271,
      "outputs": [
        {
          "output_type": "display_data",
          "data": {
            "text/plain": [
              "<Figure size 720x720 with 1 Axes>"
            ],
            "image/png": "[encoded data removed]"
          },
          "metadata": {
            "needs_background": "light"
          }
        }
      ]
    },
    {
      "cell_type": "markdown",
      "source": [
        "## box plot ราคาประเมิน"
      ],
      "metadata": {
        "id": "bo7_dLwGZuE0"
      }
    },
    {
      "cell_type": "code",
      "source": [
        "#figure(figsize=(15,15), dpi=70)\n",
        "box1 = all_est1[(all_est1['property_type']=='บ้านเดียว')]\n",
        "box1\n",
        "\n",
        "box2 = all_est1[(all_est1['property_type']=='บ้านแฝด')]\n",
        "box2\n",
        "\n",
        "box3 = all_est1[(all_est1['property_type']=='คอนโด')]\n",
        "box3\n",
        "\n",
        "box4 = all_est1[(all_est1['property_type']=='ทาวน์โฮม')]\n",
        "box4\n",
        "\n",
        "box5 = all_est1[(all_est1['property_type']=='ที่ดิน')]\n",
        "box5\n",
        "\n",
        "box6 = all_est1[(all_est1['property_type']=='อาคารพาณิชย์/สำนักงาน')]\n",
        "box6\n",
        "\n",
        "from matplotlib import pyplot as plt\n",
        "\n",
        "plt.subplot(2,3,1)\n",
        "sns.violinplot(box1['ประเมินราคาซื้อ-ขาย'],vert=True)\n",
        "plt.title('detached house')\n",
        "\n",
        "plt.subplot(2,3,2)\n",
        "sns.violinplot(box2['ประเมินราคาซื้อ-ขาย'],vert=True)\n",
        "plt.title('semi-detached house')\n",
        "\n",
        "plt.subplot(2,3,3)\n",
        "sns.violinplot(box3['ประเมินราคาซื้อ-ขาย'],vert=True)\n",
        "plt.title('condo')\n",
        "\n",
        "plt.subplot(2,3,4)\n",
        "sns.violinplot(box4['ประเมินราคาซื้อ-ขาย'],vert=True)\n",
        "plt.title('townhome')\n",
        "\n",
        "plt.subplot(2,3,5)\n",
        "sns.violinplot(box5['ประเมินราคาซื้อ-ขาย'],vert=True)\n",
        "plt.title('land')\n",
        "\n",
        "plt.subplot(2,3,6)\n",
        "sns.violinplot(box6['ประเมินราคาซื้อ-ขาย'],vert=True)\n",
        "plt.title('commercial')\n",
        "print('Box plot แสดงราคาประเมินซื้อ-ขาย ของนักประเมินคนที่1')"
      ],
      "metadata": {
        "colab": {
          "base_uri": "https://localhost:8080/",
          "height": 834
        },
        "id": "R0NHXl5jrjbI",
        "outputId": "6eff4bd5-bc62-4024-b93f-b0327afe6fb3"
      },
      "execution_count": 272,
      "outputs": [
        {
          "output_type": "stream",
          "name": "stderr",
          "text": [
            "/usr/local/lib/python3.8/dist-packages/seaborn/_decorators.py:36: FutureWarning: Pass the following variable as a keyword arg: x. From version 0.12, the only valid positional argument will be `data`, and passing other arguments without an explicit keyword will result in an error or misinterpretation.\n",
            "  warnings.warn(\n",
            "/usr/local/lib/python3.8/dist-packages/seaborn/_decorators.py:36: FutureWarning: Pass the following variable as a keyword arg: x. From version 0.12, the only valid positional argument will be `data`, and passing other arguments without an explicit keyword will result in an error or misinterpretation.\n",
            "  warnings.warn(\n",
            "/usr/local/lib/python3.8/dist-packages/seaborn/_decorators.py:36: FutureWarning: Pass the following variable as a keyword arg: x. From version 0.12, the only valid positional argument will be `data`, and passing other arguments without an explicit keyword will result in an error or misinterpretation.\n",
            "  warnings.warn(\n",
            "/usr/local/lib/python3.8/dist-packages/seaborn/_decorators.py:36: FutureWarning: Pass the following variable as a keyword arg: x. From version 0.12, the only valid positional argument will be `data`, and passing other arguments without an explicit keyword will result in an error or misinterpretation.\n",
            "  warnings.warn(\n",
            "/usr/local/lib/python3.8/dist-packages/seaborn/_decorators.py:36: FutureWarning: Pass the following variable as a keyword arg: x. From version 0.12, the only valid positional argument will be `data`, and passing other arguments without an explicit keyword will result in an error or misinterpretation.\n",
            "  warnings.warn(\n"
          ]
        },
        {
          "output_type": "stream",
          "name": "stdout",
          "text": [
            "Box plot แสดงราคาประเมินซื้อ-ขาย ของนักประเมินคนที่1\n"
          ]
        },
        {
          "output_type": "display_data",
          "data": {
            "text/plain": [
              "<Figure size 720x720 with 6 Axes>"
            ],
            "image/png": "[encoded data removed]"
          },
          "metadata": {
            "needs_background": "light"
          }
        }
      ]
    },
    {
      "cell_type": "code",
      "source": [
        "figure(figsize=(15,15), dpi=70)\n",
        "box01 = all_est2[(all_est2['property_type']=='บ้านเดียว')]\n",
        "box01\n",
        "\n",
        "box02 = all_est2[(all_est2['property_type']=='บ้านแฝด')]\n",
        "box02\n",
        "\n",
        "box03 = all_est2[(all_est2['property_type']=='คอนโด')]\n",
        "box03\n",
        "\n",
        "box04 = all_est2[(all_est2['property_type']=='ทาวน์โฮม')]\n",
        "box04\n",
        "\n",
        "box05 = all_est2[(all_est2['property_type']=='ที่ดิน')]\n",
        "box05\n",
        "\n",
        "box06 = all_est2[(all_est2['property_type']=='อาคารพาณิชย์/สำนักงาน')]\n",
        "box06\n",
        "\n",
        "from matplotlib import pyplot as plt\n",
        "\n",
        "plt.subplot(2,3,1)\n",
        "sns.violinplot(box01['ประเมินราคาซื้อ-ขาย'],vert=True)\n",
        "plt.title('detached house')\n",
        "\n",
        "plt.subplot(2,3,2)\n",
        "sns.violinplot(box02['ประเมินราคาซื้อ-ขาย'],vert=True)\n",
        "plt.title('semi-detached house')\n",
        "\n",
        "plt.subplot(2,3,3)\n",
        "sns.violinplot(box03['ประเมินราคาซื้อ-ขาย'],vert=True)\n",
        "plt.title('condo')\n",
        "\n",
        "plt.subplot(2,3,4)\n",
        "sns.violinplot(box04['ประเมินราคาซื้อ-ขาย'],vert=True)\n",
        "plt.title('townhome')\n",
        "\n",
        "plt.subplot(2,3,5)\n",
        "sns.violinplot(box05['ประเมินราคาซื้อ-ขาย'],vert=True)\n",
        "plt.title('land')\n",
        "\n",
        "plt.subplot(2,3,6)\n",
        "sns.violinplot(box06['ประเมินราคาซื้อ-ขาย'],vert=True)\n",
        "plt.title('commercial')\n",
        "\n",
        "print('Box plot แสดงราคาประเมินซื้อ-ขาย ของนักประเมินคนที่2')"
      ],
      "metadata": {
        "colab": {
          "base_uri": "https://localhost:8080/",
          "height": 1000
        },
        "id": "91Wm_npIOWB2",
        "outputId": "86b33bdf-a9b8-45dd-d3f6-f7bea5fcf9a2"
      },
      "execution_count": 270,
      "outputs": [
        {
          "output_type": "stream",
          "name": "stderr",
          "text": [
            "/usr/local/lib/python3.8/dist-packages/seaborn/_decorators.py:36: FutureWarning: Pass the following variable as a keyword arg: x. From version 0.12, the only valid positional argument will be `data`, and passing other arguments without an explicit keyword will result in an error or misinterpretation.\n",
            "  warnings.warn(\n",
            "/usr/local/lib/python3.8/dist-packages/seaborn/_decorators.py:36: FutureWarning: Pass the following variable as a keyword arg: x. From version 0.12, the only valid positional argument will be `data`, and passing other arguments without an explicit keyword will result in an error or misinterpretation.\n",
            "  warnings.warn(\n",
            "/usr/local/lib/python3.8/dist-packages/seaborn/_decorators.py:36: FutureWarning: Pass the following variable as a keyword arg: x. From version 0.12, the only valid positional argument will be `data`, and passing other arguments without an explicit keyword will result in an error or misinterpretation.\n",
            "  warnings.warn(\n",
            "/usr/local/lib/python3.8/dist-packages/seaborn/_decorators.py:36: FutureWarning: Pass the following variable as a keyword arg: x. From version 0.12, the only valid positional argument will be `data`, and passing other arguments without an explicit keyword will result in an error or misinterpretation.\n",
            "  warnings.warn(\n"
          ]
        },
        {
          "output_type": "stream",
          "name": "stdout",
          "text": [
            "Box plot แสดงราคาประเมินซื้อ-ขาย ของนักประเมินคนที่2\n"
          ]
        },
        {
          "output_type": "display_data",
          "data": {
            "text/plain": [
              "<Figure size 1050x1050 with 6 Axes>"
            ],
            "image/png": "[encoded data removed]"
          },
          "metadata": {
            "needs_background": "light"
          }
        }
      ]
    }
  ]
}